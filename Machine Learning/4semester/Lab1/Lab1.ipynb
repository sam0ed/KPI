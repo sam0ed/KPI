{
 "cells": [
  {
   "cell_type": "markdown",
   "metadata": {},
   "source": [
    "<h3>Grunfeld's Investment Data</h2>\n",
    "\n",
    "1. Upload data from dataset:"
   ]
  },
  {
   "cell_type": "code",
   "execution_count": 2,
   "metadata": {
    "ExecuteTime": {
     "end_time": "2023-04-04T09:24:00.846975Z",
     "start_time": "2023-04-04T09:23:59.026793Z"
    }
   },
   "outputs": [
    {
     "data": {
      "text/html": [
       "<div>\n",
       "<style scoped>\n",
       "    .dataframe tbody tr th:only-of-type {\n",
       "        vertical-align: middle;\n",
       "    }\n",
       "\n",
       "    .dataframe tbody tr th {\n",
       "        vertical-align: top;\n",
       "    }\n",
       "\n",
       "    .dataframe thead th {\n",
       "        text-align: right;\n",
       "    }\n",
       "</style>\n",
       "<table border=\"1\" class=\"dataframe\">\n",
       "  <thead>\n",
       "    <tr style=\"text-align: right;\">\n",
       "      <th></th>\n",
       "      <th>invest</th>\n",
       "      <th>value</th>\n",
       "      <th>capital</th>\n",
       "      <th>firm</th>\n",
       "      <th>year</th>\n",
       "    </tr>\n",
       "  </thead>\n",
       "  <tbody>\n",
       "    <tr>\n",
       "      <th>1</th>\n",
       "      <td>317.6</td>\n",
       "      <td>3078.5</td>\n",
       "      <td>2.8</td>\n",
       "      <td>General Motors</td>\n",
       "      <td>1935</td>\n",
       "    </tr>\n",
       "    <tr>\n",
       "      <th>2</th>\n",
       "      <td>391.8</td>\n",
       "      <td>4661.7</td>\n",
       "      <td>52.6</td>\n",
       "      <td>General Motors</td>\n",
       "      <td>1936</td>\n",
       "    </tr>\n",
       "    <tr>\n",
       "      <th>3</th>\n",
       "      <td>410.6</td>\n",
       "      <td>5387.1</td>\n",
       "      <td>156.9</td>\n",
       "      <td>General Motors</td>\n",
       "      <td>1937</td>\n",
       "    </tr>\n",
       "    <tr>\n",
       "      <th>4</th>\n",
       "      <td>257.7</td>\n",
       "      <td>2792.2</td>\n",
       "      <td>209.2</td>\n",
       "      <td>General Motors</td>\n",
       "      <td>1938</td>\n",
       "    </tr>\n",
       "    <tr>\n",
       "      <th>5</th>\n",
       "      <td>330.8</td>\n",
       "      <td>4313.2</td>\n",
       "      <td>203.4</td>\n",
       "      <td>General Motors</td>\n",
       "      <td>1939</td>\n",
       "    </tr>\n",
       "    <tr>\n",
       "      <th>6</th>\n",
       "      <td>461.2</td>\n",
       "      <td>4643.9</td>\n",
       "      <td>207.2</td>\n",
       "      <td>General Motors</td>\n",
       "      <td>1940</td>\n",
       "    </tr>\n",
       "    <tr>\n",
       "      <th>7</th>\n",
       "      <td>512.0</td>\n",
       "      <td>4551.2</td>\n",
       "      <td>255.2</td>\n",
       "      <td>General Motors</td>\n",
       "      <td>1941</td>\n",
       "    </tr>\n",
       "    <tr>\n",
       "      <th>8</th>\n",
       "      <td>448.0</td>\n",
       "      <td>3244.1</td>\n",
       "      <td>303.7</td>\n",
       "      <td>General Motors</td>\n",
       "      <td>1942</td>\n",
       "    </tr>\n",
       "    <tr>\n",
       "      <th>9</th>\n",
       "      <td>499.6</td>\n",
       "      <td>4053.7</td>\n",
       "      <td>264.1</td>\n",
       "      <td>General Motors</td>\n",
       "      <td>1943</td>\n",
       "    </tr>\n",
       "    <tr>\n",
       "      <th>10</th>\n",
       "      <td>547.5</td>\n",
       "      <td>4379.3</td>\n",
       "      <td>201.6</td>\n",
       "      <td>General Motors</td>\n",
       "      <td>1944</td>\n",
       "    </tr>\n",
       "  </tbody>\n",
       "</table>\n",
       "</div>"
      ],
      "text/plain": [
       "    invest   value  capital            firm  year\n",
       "1    317.6  3078.5      2.8  General Motors  1935\n",
       "2    391.8  4661.7     52.6  General Motors  1936\n",
       "3    410.6  5387.1    156.9  General Motors  1937\n",
       "4    257.7  2792.2    209.2  General Motors  1938\n",
       "5    330.8  4313.2    203.4  General Motors  1939\n",
       "6    461.2  4643.9    207.2  General Motors  1940\n",
       "7    512.0  4551.2    255.2  General Motors  1941\n",
       "8    448.0  3244.1    303.7  General Motors  1942\n",
       "9    499.6  4053.7    264.1  General Motors  1943\n",
       "10   547.5  4379.3    201.6  General Motors  1944"
      ]
     },
     "execution_count": 2,
     "metadata": {},
     "output_type": "execute_result"
    }
   ],
   "source": [
    "import pandas as pd\n",
    "\n",
    "grunfeld_df=pd.read_csv('Grunfeld.csv',index_col=0)\n",
    "grunfeld_df.head(10)"
   ]
  },
  {
   "cell_type": "markdown",
   "metadata": {},
   "source": [
    "2. Find mathematical hope, median, mode, variance, middle -class deviation (explain their content)"
   ]
  },
  {
   "cell_type": "code",
   "execution_count": 3,
   "metadata": {
    "ExecuteTime": {
     "end_time": "2023-04-04T09:24:01.660354Z",
     "start_time": "2023-04-04T09:24:00.862616Z"
    }
   },
   "outputs": [
    {
     "name": "stderr",
     "output_type": "stream",
     "text": [
      "C:\\Users\\vikto\\AppData\\Local\\Temp\\ipykernel_18772\\4076445678.py:4: FutureWarning: The default dtype for empty Series will be 'object' instead of 'float64' in a future version. Specify a dtype explicitly to silence this warning.\n",
      "  df_stats=pd.Series(index=grouping_categories)\n",
      "C:\\Users\\vikto\\AppData\\Local\\Temp\\ipykernel_18772\\4076445678.py:9: FutureWarning: The default dtype for empty Series will be 'object' instead of 'float64' in a future version. Specify a dtype explicitly to silence this warning.\n",
      "  group_stats=pd.Series(index=grunfeld_cols_not_in_grouping_categories)\n",
      "C:\\Users\\vikto\\AppData\\Local\\Temp\\ipykernel_18772\\4076445678.py:9: FutureWarning: The default dtype for empty Series will be 'object' instead of 'float64' in a future version. Specify a dtype explicitly to silence this warning.\n",
      "  group_stats=pd.Series(index=grunfeld_cols_not_in_grouping_categories)\n"
     ]
    },
    {
     "data": {
      "text/html": [
       "<div>\n",
       "<style scoped>\n",
       "    .dataframe tbody tr th:only-of-type {\n",
       "        vertical-align: middle;\n",
       "    }\n",
       "\n",
       "    .dataframe tbody tr th {\n",
       "        vertical-align: top;\n",
       "    }\n",
       "\n",
       "    .dataframe thead th {\n",
       "        text-align: right;\n",
       "    }\n",
       "</style>\n",
       "<table border=\"1\" class=\"dataframe\">\n",
       "  <thead>\n",
       "    <tr style=\"text-align: right;\">\n",
       "      <th></th>\n",
       "      <th>groupedby_year</th>\n",
       "      <th>mean_invest</th>\n",
       "      <th>median_invest</th>\n",
       "      <th>mode_invest</th>\n",
       "      <th>variance_invest</th>\n",
       "      <th>standart_deviationinvest</th>\n",
       "    </tr>\n",
       "  </thead>\n",
       "  <tbody>\n",
       "    <tr>\n",
       "      <th>0</th>\n",
       "      <td>1935</td>\n",
       "      <td>66.399818</td>\n",
       "      <td>26.63</td>\n",
       "      <td>0       2.540\n",
       "1       2.938\n",
       "2      12.930\n",
       "3   ...</td>\n",
       "      <td>9329.604713</td>\n",
       "      <td>101.304320</td>\n",
       "    </tr>\n",
       "    <tr>\n",
       "      <th>1</th>\n",
       "      <td>1936</td>\n",
       "      <td>92.883000</td>\n",
       "      <td>25.98</td>\n",
       "      <td>0       2.000\n",
       "1       5.643\n",
       "2      23.210\n",
       "3   ...</td>\n",
       "      <td>17927.774725</td>\n",
       "      <td>140.429884</td>\n",
       "    </tr>\n",
       "    <tr>\n",
       "      <th>2</th>\n",
       "      <td>1937</td>\n",
       "      <td>112.276636</td>\n",
       "      <td>35.05</td>\n",
       "      <td>0       2.190\n",
       "1      10.233\n",
       "2      25.940\n",
       "3   ...</td>\n",
       "      <td>24601.686253</td>\n",
       "      <td>164.504878</td>\n",
       "    </tr>\n",
       "    <tr>\n",
       "      <th>3</th>\n",
       "      <td>1938</td>\n",
       "      <td>70.872364</td>\n",
       "      <td>32.54</td>\n",
       "      <td>0       1.990\n",
       "1       4.046\n",
       "2      20.890\n",
       "3   ...</td>\n",
       "      <td>8206.475983</td>\n",
       "      <td>95.011176</td>\n",
       "    </tr>\n",
       "    <tr>\n",
       "      <th>4</th>\n",
       "      <td>1939</td>\n",
       "      <td>73.507818</td>\n",
       "      <td>28.78</td>\n",
       "      <td>0       2.030\n",
       "1       3.326\n",
       "2      18.840\n",
       "3   ...</td>\n",
       "      <td>10224.422509</td>\n",
       "      <td>106.051236</td>\n",
       "    </tr>\n",
       "    <tr>\n",
       "      <th>5</th>\n",
       "      <td>1940</td>\n",
       "      <td>103.393636</td>\n",
       "      <td>33.71</td>\n",
       "      <td>0       1.81\n",
       "1       4.68\n",
       "2      26.93\n",
       "3      ...</td>\n",
       "      <td>21990.759823</td>\n",
       "      <td>155.530819</td>\n",
       "    </tr>\n",
       "    <tr>\n",
       "      <th>6</th>\n",
       "      <td>1941</td>\n",
       "      <td>127.538364</td>\n",
       "      <td>48.51</td>\n",
       "      <td>0       2.140\n",
       "1       5.732\n",
       "2      32.080\n",
       "3   ...</td>\n",
       "      <td>30469.509667</td>\n",
       "      <td>183.075014</td>\n",
       "    </tr>\n",
       "    <tr>\n",
       "      <th>7</th>\n",
       "      <td>1942</td>\n",
       "      <td>112.615182</td>\n",
       "      <td>42.81</td>\n",
       "      <td>0       1.860\n",
       "1      12.117\n",
       "2      32.210\n",
       "3   ...</td>\n",
       "      <td>25277.750605</td>\n",
       "      <td>166.749890</td>\n",
       "    </tr>\n",
       "    <tr>\n",
       "      <th>8</th>\n",
       "      <td>1943</td>\n",
       "      <td>108.470545</td>\n",
       "      <td>44.28</td>\n",
       "      <td>0       0.930\n",
       "1      15.276\n",
       "2      27.840\n",
       "3   ...</td>\n",
       "      <td>24220.254330</td>\n",
       "      <td>163.224630</td>\n",
       "    </tr>\n",
       "    <tr>\n",
       "      <th>9</th>\n",
       "      <td>1944</td>\n",
       "      <td>110.775000</td>\n",
       "      <td>56.80</td>\n",
       "      <td>0       1.180\n",
       "1       9.275\n",
       "2      32.600\n",
       "3   ...</td>\n",
       "      <td>24440.045950</td>\n",
       "      <td>163.963565</td>\n",
       "    </tr>\n",
       "    <tr>\n",
       "      <th>10</th>\n",
       "      <td>1945</td>\n",
       "      <td>113.742455</td>\n",
       "      <td>52.32</td>\n",
       "      <td>0       1.360\n",
       "1       9.577\n",
       "2      39.030\n",
       "3   ...</td>\n",
       "      <td>24367.425091</td>\n",
       "      <td>163.719784</td>\n",
       "    </tr>\n",
       "    <tr>\n",
       "      <th>11</th>\n",
       "      <td>1946</td>\n",
       "      <td>147.049636</td>\n",
       "      <td>56.95</td>\n",
       "      <td>0       2.240\n",
       "1       3.956\n",
       "2      48.980\n",
       "3   ...</td>\n",
       "      <td>41627.158285</td>\n",
       "      <td>213.985687</td>\n",
       "    </tr>\n",
       "    <tr>\n",
       "      <th>12</th>\n",
       "      <td>1947</td>\n",
       "      <td>134.107636</td>\n",
       "      <td>55.56</td>\n",
       "      <td>0       3.810\n",
       "1       3.834\n",
       "2      48.510\n",
       "3   ...</td>\n",
       "      <td>31155.036147</td>\n",
       "      <td>185.123040</td>\n",
       "    </tr>\n",
       "    <tr>\n",
       "      <th>13</th>\n",
       "      <td>1948</td>\n",
       "      <td>140.495455</td>\n",
       "      <td>64.03</td>\n",
       "      <td>0       5.66\n",
       "1       5.97\n",
       "2      40.53\n",
       "3      ...</td>\n",
       "      <td>32050.654261</td>\n",
       "      <td>187.765065</td>\n",
       "    </tr>\n",
       "    <tr>\n",
       "      <th>14</th>\n",
       "      <td>1949</td>\n",
       "      <td>127.170273</td>\n",
       "      <td>67.42</td>\n",
       "      <td>0       4.210\n",
       "1       6.433\n",
       "2      32.040\n",
       "3   ...</td>\n",
       "      <td>29467.527306</td>\n",
       "      <td>180.039662</td>\n",
       "    </tr>\n",
       "    <tr>\n",
       "      <th>15</th>\n",
       "      <td>1950</td>\n",
       "      <td>137.761818</td>\n",
       "      <td>55.74</td>\n",
       "      <td>0       3.42\n",
       "1       4.77\n",
       "2      32.24\n",
       "3      ...</td>\n",
       "      <td>37517.148451</td>\n",
       "      <td>203.147393</td>\n",
       "    </tr>\n",
       "    <tr>\n",
       "      <th>16</th>\n",
       "      <td>1951</td>\n",
       "      <td>182.032909</td>\n",
       "      <td>80.30</td>\n",
       "      <td>0       4.670\n",
       "1       6.532\n",
       "2      54.380\n",
       "3   ...</td>\n",
       "      <td>56625.837074</td>\n",
       "      <td>249.576483</td>\n",
       "    </tr>\n",
       "    <tr>\n",
       "      <th>17</th>\n",
       "      <td>1952</td>\n",
       "      <td>204.332636</td>\n",
       "      <td>85.40</td>\n",
       "      <td>0       6.000\n",
       "1       7.329\n",
       "2      65.980\n",
       "3   ...</td>\n",
       "      <td>75406.830584</td>\n",
       "      <td>288.006100</td>\n",
       "    </tr>\n",
       "    <tr>\n",
       "      <th>18</th>\n",
       "      <td>1953</td>\n",
       "      <td>251.350000</td>\n",
       "      <td>91.90</td>\n",
       "      <td>0        6.53\n",
       "1        9.02\n",
       "2       66.11\n",
       "3   ...</td>\n",
       "      <td>138453.387927</td>\n",
       "      <td>390.254695</td>\n",
       "    </tr>\n",
       "    <tr>\n",
       "      <th>19</th>\n",
       "      <td>1954</td>\n",
       "      <td>249.462818</td>\n",
       "      <td>89.51</td>\n",
       "      <td>0        5.120\n",
       "1        6.281\n",
       "2       49.340\n",
       "3...</td>\n",
       "      <td>167514.048205</td>\n",
       "      <td>429.261521</td>\n",
       "    </tr>\n",
       "  </tbody>\n",
       "</table>\n",
       "</div>"
      ],
      "text/plain": [
       "   groupedby_year  mean_invest  median_invest  \\\n",
       "0            1935    66.399818          26.63   \n",
       "1            1936    92.883000          25.98   \n",
       "2            1937   112.276636          35.05   \n",
       "3            1938    70.872364          32.54   \n",
       "4            1939    73.507818          28.78   \n",
       "5            1940   103.393636          33.71   \n",
       "6            1941   127.538364          48.51   \n",
       "7            1942   112.615182          42.81   \n",
       "8            1943   108.470545          44.28   \n",
       "9            1944   110.775000          56.80   \n",
       "10           1945   113.742455          52.32   \n",
       "11           1946   147.049636          56.95   \n",
       "12           1947   134.107636          55.56   \n",
       "13           1948   140.495455          64.03   \n",
       "14           1949   127.170273          67.42   \n",
       "15           1950   137.761818          55.74   \n",
       "16           1951   182.032909          80.30   \n",
       "17           1952   204.332636          85.40   \n",
       "18           1953   251.350000          91.90   \n",
       "19           1954   249.462818          89.51   \n",
       "\n",
       "                                          mode_invest  variance_invest  \\\n",
       "0   0       2.540\n",
       "1       2.938\n",
       "2      12.930\n",
       "3   ...      9329.604713   \n",
       "1   0       2.000\n",
       "1       5.643\n",
       "2      23.210\n",
       "3   ...     17927.774725   \n",
       "2   0       2.190\n",
       "1      10.233\n",
       "2      25.940\n",
       "3   ...     24601.686253   \n",
       "3   0       1.990\n",
       "1       4.046\n",
       "2      20.890\n",
       "3   ...      8206.475983   \n",
       "4   0       2.030\n",
       "1       3.326\n",
       "2      18.840\n",
       "3   ...     10224.422509   \n",
       "5   0       1.81\n",
       "1       4.68\n",
       "2      26.93\n",
       "3      ...     21990.759823   \n",
       "6   0       2.140\n",
       "1       5.732\n",
       "2      32.080\n",
       "3   ...     30469.509667   \n",
       "7   0       1.860\n",
       "1      12.117\n",
       "2      32.210\n",
       "3   ...     25277.750605   \n",
       "8   0       0.930\n",
       "1      15.276\n",
       "2      27.840\n",
       "3   ...     24220.254330   \n",
       "9   0       1.180\n",
       "1       9.275\n",
       "2      32.600\n",
       "3   ...     24440.045950   \n",
       "10  0       1.360\n",
       "1       9.577\n",
       "2      39.030\n",
       "3   ...     24367.425091   \n",
       "11  0       2.240\n",
       "1       3.956\n",
       "2      48.980\n",
       "3   ...     41627.158285   \n",
       "12  0       3.810\n",
       "1       3.834\n",
       "2      48.510\n",
       "3   ...     31155.036147   \n",
       "13  0       5.66\n",
       "1       5.97\n",
       "2      40.53\n",
       "3      ...     32050.654261   \n",
       "14  0       4.210\n",
       "1       6.433\n",
       "2      32.040\n",
       "3   ...     29467.527306   \n",
       "15  0       3.42\n",
       "1       4.77\n",
       "2      32.24\n",
       "3      ...     37517.148451   \n",
       "16  0       4.670\n",
       "1       6.532\n",
       "2      54.380\n",
       "3   ...     56625.837074   \n",
       "17  0       6.000\n",
       "1       7.329\n",
       "2      65.980\n",
       "3   ...     75406.830584   \n",
       "18  0        6.53\n",
       "1        9.02\n",
       "2       66.11\n",
       "3   ...    138453.387927   \n",
       "19  0        5.120\n",
       "1        6.281\n",
       "2       49.340\n",
       "3...    167514.048205   \n",
       "\n",
       "    standart_deviationinvest  \n",
       "0                 101.304320  \n",
       "1                 140.429884  \n",
       "2                 164.504878  \n",
       "3                  95.011176  \n",
       "4                 106.051236  \n",
       "5                 155.530819  \n",
       "6                 183.075014  \n",
       "7                 166.749890  \n",
       "8                 163.224630  \n",
       "9                 163.963565  \n",
       "10                163.719784  \n",
       "11                213.985687  \n",
       "12                185.123040  \n",
       "13                187.765065  \n",
       "14                180.039662  \n",
       "15                203.147393  \n",
       "16                249.576483  \n",
       "17                288.006100  \n",
       "18                390.254695  \n",
       "19                429.261521  "
      ]
     },
     "execution_count": 3,
     "metadata": {},
     "output_type": "execute_result"
    }
   ],
   "source": [
    "import statistics\n",
    "grouping_categories=pd.Series(['firm', 'year'])\n",
    "grunfeld_cols_not_in_grouping_categories=[k for k in grunfeld_df.columns.tolist() if k not in grouping_categories.values]\n",
    "df_stats=pd.Series(index=grouping_categories)\n",
    "\n",
    "for k in grouping_categories.values:\n",
    "    groups=grunfeld_df.groupby(k)\n",
    "\n",
    "    group_stats=pd.Series(index=grunfeld_cols_not_in_grouping_categories)\n",
    "    for j in grunfeld_cols_not_in_grouping_categories:\n",
    "        column_names_of_stat=['grouped_by_'+k,\n",
    "                'mean_'+j,\n",
    "                'median_'+j,\n",
    "                'mode_'+j,\n",
    "                'variance_'+j,\n",
    "                'standard_deviation_'+j ]\n",
    "        stat=pd.DataFrame(columns=column_names_of_stat)\n",
    "                                    \n",
    "        for i in groups.groups.keys():\n",
    "            row=[[i,\n",
    "                groups.get_group(i)[j].mean(),\n",
    "                groups.get_group(i)[j].median(),\n",
    "                groups.get_group(i)[j].mode(),\n",
    "                statistics.pvariance( groups.get_group(i)[j]),\n",
    "                statistics.stdev( groups.get_group(i)[j])]]\n",
    "            stat=pd.concat([stat, pd.DataFrame(row, columns=column_names_of_stat)], ignore_index=True)\n",
    "        group_stats.loc[j]=[stat]\n",
    "    df_stats.loc[k]=[group_stats]\n",
    "\n",
    "\n",
    "df_stats['year'][0]['invest'][0]\n"
   ]
  },
  {
   "cell_type": "markdown",
   "metadata": {},
   "source": [
    "3. visualize the downloaded data by histogram"
   ]
  },
  {
   "cell_type": "code",
   "execution_count": 29,
   "metadata": {
    "ExecuteTime": {
     "end_time": "2023-04-04T09:27:00.623466Z",
     "start_time": "2023-04-04T09:27:00.218781Z"
    }
   },
   "outputs": [
    {
     "data": {
      "image/png": "[encoded data removed]",
      "text/plain": [
       "<Figure size 640x480 with 1 Axes>"
      ]
     },
     "metadata": {},
     "output_type": "display_data"
    }
   ],
   "source": [
    "import matplotlib.pyplot as plt\n",
    "bins=9\n",
    "\n",
    "def plot_hist_of(param: dict)->None:\n",
    "    grouping_col_name=list(param.keys())[0]\n",
    "    hist_col_name=list(param.keys())[1]\n",
    "\n",
    "    assert len(param) == 2\n",
    "    assert grouping_col_name in grouping_categories.values\n",
    "\n",
    "    hist=list(grunfeld_df.groupby(grouping_col_name).get_group(param[grouping_col_name])[param[hist_col_name]])\n",
    "    plt.hist(hist, bins=bins)\n",
    "    plt.xlabel('value of \"{}\" when grouped by {}'.format(param[hist_col_name], param[grouping_col_name]))\n",
    "    plt.ylabel('amount of occurances')\n",
    "    plt.show()\n",
    "\n",
    "plot_hist_of({'year': 1937, 'hist_column': 'invest'})\n",
    "# plot_hist_of({'firm': 'American Steel', 'hist_column': 'capital'})"
   ]
  },
  {
   "cell_type": "markdown",
   "metadata": {},
   "source": [
    "4. For this data, perform all actions from the chapter \"Series Collection Library Pandas\":\n",
    "   \n",
    "    4.1 Creating Series with Default Indexes \n",
    "\n",
    "    4.2 Output of the Series Collection(see first cell)\n",
    "\n",
    "    4.3 Creating a series collection with the same values \n",
    "    \n",
    "    4.4 Adress to SERIES element by index(see first cell)\n",
    "    \n",
    "    4.5 Calculation of descriptive statistics for series\n",
    "\n",
    "    4.6 Creating a series collection with non -standard indexes\n",
    "\n",
    "    4.7 Dictionaries as an initializer\n",
    "\n",
    "    4.8 Appeal to Series items using non -standard indices\n",
    "\n",
    "    4.9 Creating a series collection with string items"
   ]
  },
  {
   "cell_type": "code",
   "execution_count": 5,
   "metadata": {
    "ExecuteTime": {
     "end_time": "2023-04-04T09:24:05.130673Z",
     "start_time": "2023-04-04T09:24:05.066162Z"
    }
   },
   "outputs": [
    {
     "data": {
      "text/plain": [
       "0      317.600\n",
       "1      391.800\n",
       "2      410.600\n",
       "3      257.700\n",
       "4      330.800\n",
       "        ...   \n",
       "215      4.770\n",
       "216      6.532\n",
       "217      7.329\n",
       "218      9.020\n",
       "219      6.281\n",
       "Name: invest, Length: 220, dtype: float64"
      ]
     },
     "execution_count": 5,
     "metadata": {},
     "output_type": "execute_result"
    }
   ],
   "source": [
    "# frist column of main dataframe\n",
    "first_col=pd.Series(grunfeld_df['invest'])\n",
    "first_col=first_col.reset_index(drop=True)\n",
    "first_col"
   ]
  },
  {
   "cell_type": "code",
   "execution_count": 6,
   "metadata": {
    "ExecuteTime": {
     "end_time": "2023-04-04T09:24:05.398049Z",
     "start_time": "2023-04-04T09:24:05.115034Z"
    }
   },
   "outputs": [
    {
     "data": {
      "text/plain": [
       "0    317.6\n",
       "1    317.6\n",
       "2    317.6\n",
       "dtype: float64"
      ]
     },
     "execution_count": 6,
     "metadata": {},
     "output_type": "execute_result"
    }
   ],
   "source": [
    "# collection with same values\n",
    "same_vals=pd.Series(grunfeld_df.at[1, 'invest'], range(3))\n",
    "same_vals"
   ]
  },
  {
   "cell_type": "code",
   "execution_count": 7,
   "metadata": {
    "ExecuteTime": {
     "end_time": "2023-04-04T09:24:05.398049Z",
     "start_time": "2023-04-04T09:24:05.130673Z"
    }
   },
   "outputs": [
    {
     "name": "stdout",
     "output_type": "stream",
     "text": [
      "count : 220\n",
      "mean : 133.31189999999992\n",
      "min : 0.93\n",
      "max : 1486.7\n",
      "standart deviation : 210.58718635614184\n"
     ]
    }
   ],
   "source": [
    "print( 'count : {}'.format(first_col.count()), )\n",
    "print( 'mean : {}'.format(first_col.mean()), )\n",
    "print( 'min : {}'.format(first_col.min()), )\n",
    "print( 'max : {}'.format(first_col.max()), )\n",
    "print( 'standart deviation : {}'.format(first_col.std()), )"
   ]
  },
  {
   "cell_type": "code",
   "execution_count": 8,
   "metadata": {
    "ExecuteTime": {
     "end_time": "2023-04-04T09:24:05.398049Z",
     "start_time": "2023-04-04T09:24:05.161919Z"
    }
   },
   "outputs": [
    {
     "data": {
      "text/plain": [
       "count     220.000000\n",
       "mean      133.311900\n",
       "std       210.587186\n",
       "min         0.930000\n",
       "25%        27.380000\n",
       "50%        52.365000\n",
       "75%        99.782500\n",
       "max      1486.700000\n",
       "Name: invest, dtype: float64"
      ]
     },
     "execution_count": 8,
     "metadata": {},
     "output_type": "execute_result"
    }
   ],
   "source": [
    "first_col.describe()"
   ]
  },
  {
   "cell_type": "code",
   "execution_count": 9,
   "metadata": {
    "ExecuteTime": {
     "end_time": "2023-04-04T09:24:05.398049Z",
     "start_time": "2023-04-04T09:24:05.199681Z"
    }
   },
   "outputs": [
    {
     "data": {
      "text/plain": [
       "value 0        2.800\n",
       "value 1       52.600\n",
       "value 2      156.900\n",
       "value 3      209.200\n",
       "value 4      203.400\n",
       "              ...   \n",
       "value 215     75.847\n",
       "value 216     77.367\n",
       "value 217     78.631\n",
       "value 218     80.215\n",
       "value 219     83.788\n",
       "Name: capital, Length: 220, dtype: float64"
      ]
     },
     "execution_count": 9,
     "metadata": {},
     "output_type": "execute_result"
    }
   ],
   "source": [
    "second_col= pd.Series(grunfeld_df['capital'])\n",
    "second_col=second_col.reset_index(drop=True)\n",
    "second_col.index=second_col.index.map(lambda x: 'value '+str(x))\n",
    "second_col"
   ]
  },
  {
   "cell_type": "code",
   "execution_count": 10,
   "metadata": {
    "ExecuteTime": {
     "end_time": "2023-04-04T09:24:05.398049Z",
     "start_time": "2023-04-04T09:24:05.246590Z"
    }
   },
   "outputs": [
    {
     "data": {
      "text/plain": [
       "firstRowInvest             317.6\n",
       "firstRowFirm      General Motors\n",
       "dtype: object"
      ]
     },
     "execution_count": 10,
     "metadata": {},
     "output_type": "execute_result"
    }
   ],
   "source": [
    "# dictionary init\n",
    "values=pd.Series({'firstRowInvest': grunfeld_df.at[1, 'invest'], 'firstRowFirm': grunfeld_df.at[1, 'firm']})\n",
    "values"
   ]
  },
  {
   "cell_type": "code",
   "execution_count": 30,
   "metadata": {
    "ExecuteTime": {
     "end_time": "2023-04-04T09:50:41.656825Z",
     "start_time": "2023-04-04T09:50:41.579829Z"
    }
   },
   "outputs": [
    {
     "data": {
      "text/plain": [
       "317.6"
      ]
     },
     "execution_count": 30,
     "metadata": {},
     "output_type": "execute_result"
    }
   ],
   "source": [
    "# non standart index\n",
    "values['firstRowInvest']\n",
    "\n",
    "# values.dtype\n",
    "# values.values"
   ]
  },
  {
   "cell_type": "code",
   "execution_count": 31,
   "metadata": {
    "ExecuteTime": {
     "end_time": "2023-04-04T09:51:35.950019Z",
     "start_time": "2023-04-04T09:51:35.759019Z"
    }
   },
   "outputs": [
    {
     "data": {
      "text/plain": [
       "0      True\n",
       "1      True\n",
       "2     False\n",
       "3      True\n",
       "4      True\n",
       "5      True\n",
       "6      True\n",
       "7     False\n",
       "8     False\n",
       "9     False\n",
       "10    False\n",
       "dtype: bool"
      ]
     },
     "execution_count": 31,
     "metadata": {},
     "output_type": "execute_result"
    }
   ],
   "source": [
    "# str elements\n",
    "str_column=pd.Series(grunfeld_df.groupby('firm').groups.keys())\n",
    "str_column.str.contains('a')\n",
    "str_column.str.upper()\n",
    "str_column"
   ]
  },
  {
   "cell_type": "markdown",
   "metadata": {},
   "source": [
    "5. For this data, perform all actions from the chapter \"Dataframe Collection Library Pandas\":\n",
    "\n",
    "    5.1 Creating a DataFrame based on a dictionary \n",
    "    \n",
    "    5.2 DATAFRAME index setting using an Index attribute\n",
    "\n",
    "    5.3 Address to Dataframe columns\n",
    "\n",
    "    5.4 Choosing lines using the attributes of Loc and Iloc\n",
    "\n",
    "    5.5 Logical indexing \n",
    "\n",
    "    5.6 Appeal to a particular Dataframe cell on a row and column\n",
    "\n",
    "    5.7 Descriptive statistics \n",
    "\n",
    "    5.8 Dataframe transposition using attribute T\n",
    "\n",
    "    5.9 Sorting rows by indexes\n",
    "\n",
    "    5.10 Sorting by column indexes\n",
    "\n",
    "    5.11 Sorting by column values"
   ]
  },
  {
   "cell_type": "code",
   "execution_count": 13,
   "metadata": {
    "ExecuteTime": {
     "end_time": "2023-04-04T09:24:05.398049Z",
     "start_time": "2023-04-04T09:24:05.319913Z"
    }
   },
   "outputs": [
    {
     "data": {
      "text/html": [
       "<div>\n",
       "<style scoped>\n",
       "    .dataframe tbody tr th:only-of-type {\n",
       "        vertical-align: middle;\n",
       "    }\n",
       "\n",
       "    .dataframe tbody tr th {\n",
       "        vertical-align: top;\n",
       "    }\n",
       "\n",
       "    .dataframe thead th {\n",
       "        text-align: right;\n",
       "    }\n",
       "</style>\n",
       "<table border=\"1\" class=\"dataframe\">\n",
       "  <thead>\n",
       "    <tr style=\"text-align: right;\">\n",
       "      <th></th>\n",
       "      <th>invest_col</th>\n",
       "      <th>capital_col</th>\n",
       "    </tr>\n",
       "  </thead>\n",
       "  <tbody>\n",
       "    <tr>\n",
       "      <th>0</th>\n",
       "      <td>317.6</td>\n",
       "      <td>2.8</td>\n",
       "    </tr>\n",
       "    <tr>\n",
       "      <th>1</th>\n",
       "      <td>391.8</td>\n",
       "      <td>52.6</td>\n",
       "    </tr>\n",
       "    <tr>\n",
       "      <th>2</th>\n",
       "      <td>410.6</td>\n",
       "      <td>156.9</td>\n",
       "    </tr>\n",
       "    <tr>\n",
       "      <th>3</th>\n",
       "      <td>257.7</td>\n",
       "      <td>209.2</td>\n",
       "    </tr>\n",
       "    <tr>\n",
       "      <th>4</th>\n",
       "      <td>330.8</td>\n",
       "      <td>203.4</td>\n",
       "    </tr>\n",
       "    <tr>\n",
       "      <th>5</th>\n",
       "      <td>461.2</td>\n",
       "      <td>207.2</td>\n",
       "    </tr>\n",
       "    <tr>\n",
       "      <th>6</th>\n",
       "      <td>512.0</td>\n",
       "      <td>255.2</td>\n",
       "    </tr>\n",
       "    <tr>\n",
       "      <th>7</th>\n",
       "      <td>448.0</td>\n",
       "      <td>303.7</td>\n",
       "    </tr>\n",
       "    <tr>\n",
       "      <th>8</th>\n",
       "      <td>499.6</td>\n",
       "      <td>264.1</td>\n",
       "    </tr>\n",
       "    <tr>\n",
       "      <th>9</th>\n",
       "      <td>547.5</td>\n",
       "      <td>201.6</td>\n",
       "    </tr>\n",
       "  </tbody>\n",
       "</table>\n",
       "</div>"
      ],
      "text/plain": [
       "   invest_col  capital_col\n",
       "0       317.6          2.8\n",
       "1       391.8         52.6\n",
       "2       410.6        156.9\n",
       "3       257.7        209.2\n",
       "4       330.8        203.4\n",
       "5       461.2        207.2\n",
       "6       512.0        255.2\n",
       "7       448.0        303.7\n",
       "8       499.6        264.1\n",
       "9       547.5        201.6"
      ]
     },
     "execution_count": 13,
     "metadata": {},
     "output_type": "execute_result"
    }
   ],
   "source": [
    "#Creating a DataFrame based on a dictionary\n",
    "cols_dict={'invest_col': first_col[0:10], 'capital_col':second_col['value 0': 'value 9'].reset_index(drop=True) }\n",
    "cols=pd.DataFrame(cols_dict)\n",
    "cols"
   ]
  },
  {
   "cell_type": "code",
   "execution_count": 14,
   "metadata": {
    "ExecuteTime": {
     "end_time": "2023-04-04T09:24:05.398049Z",
     "start_time": "2023-04-04T09:24:05.351177Z"
    }
   },
   "outputs": [
    {
     "data": {
      "text/html": [
       "<div>\n",
       "<style scoped>\n",
       "    .dataframe tbody tr th:only-of-type {\n",
       "        vertical-align: middle;\n",
       "    }\n",
       "\n",
       "    .dataframe tbody tr th {\n",
       "        vertical-align: top;\n",
       "    }\n",
       "\n",
       "    .dataframe thead th {\n",
       "        text-align: right;\n",
       "    }\n",
       "</style>\n",
       "<table border=\"1\" class=\"dataframe\">\n",
       "  <thead>\n",
       "    <tr style=\"text-align: right;\">\n",
       "      <th></th>\n",
       "      <th>invest_col</th>\n",
       "      <th>capital_col</th>\n",
       "    </tr>\n",
       "  </thead>\n",
       "  <tbody>\n",
       "    <tr>\n",
       "      <th>index 0</th>\n",
       "      <td>317.6</td>\n",
       "      <td>2.8</td>\n",
       "    </tr>\n",
       "    <tr>\n",
       "      <th>index 1</th>\n",
       "      <td>391.8</td>\n",
       "      <td>52.6</td>\n",
       "    </tr>\n",
       "    <tr>\n",
       "      <th>index 2</th>\n",
       "      <td>410.6</td>\n",
       "      <td>156.9</td>\n",
       "    </tr>\n",
       "    <tr>\n",
       "      <th>index 3</th>\n",
       "      <td>257.7</td>\n",
       "      <td>209.2</td>\n",
       "    </tr>\n",
       "    <tr>\n",
       "      <th>index 4</th>\n",
       "      <td>330.8</td>\n",
       "      <td>203.4</td>\n",
       "    </tr>\n",
       "    <tr>\n",
       "      <th>index 5</th>\n",
       "      <td>461.2</td>\n",
       "      <td>207.2</td>\n",
       "    </tr>\n",
       "    <tr>\n",
       "      <th>index 6</th>\n",
       "      <td>512.0</td>\n",
       "      <td>255.2</td>\n",
       "    </tr>\n",
       "    <tr>\n",
       "      <th>index 7</th>\n",
       "      <td>448.0</td>\n",
       "      <td>303.7</td>\n",
       "    </tr>\n",
       "    <tr>\n",
       "      <th>index 8</th>\n",
       "      <td>499.6</td>\n",
       "      <td>264.1</td>\n",
       "    </tr>\n",
       "    <tr>\n",
       "      <th>index 9</th>\n",
       "      <td>547.5</td>\n",
       "      <td>201.6</td>\n",
       "    </tr>\n",
       "  </tbody>\n",
       "</table>\n",
       "</div>"
      ],
      "text/plain": [
       "         invest_col  capital_col\n",
       "index 0       317.6          2.8\n",
       "index 1       391.8         52.6\n",
       "index 2       410.6        156.9\n",
       "index 3       257.7        209.2\n",
       "index 4       330.8        203.4\n",
       "index 5       461.2        207.2\n",
       "index 6       512.0        255.2\n",
       "index 7       448.0        303.7\n",
       "index 8       499.6        264.1\n",
       "index 9       547.5        201.6"
      ]
     },
     "execution_count": 14,
     "metadata": {},
     "output_type": "execute_result"
    }
   ],
   "source": [
    "# cols.index=cols.index.map(lambda x: 'index '+ str(x))\n",
    "cols.index=['index '+str(k) for k in range(10)]\n",
    "cols"
   ]
  },
  {
   "cell_type": "code",
   "execution_count": 15,
   "metadata": {
    "ExecuteTime": {
     "end_time": "2023-04-04T09:24:05.444933Z",
     "start_time": "2023-04-04T09:24:05.398049Z"
    }
   },
   "outputs": [
    {
     "data": {
      "text/plain": [
       "index 0    317.6\n",
       "index 1    391.8\n",
       "index 2    410.6\n",
       "index 3    257.7\n",
       "index 4    330.8\n",
       "index 5    461.2\n",
       "index 6    512.0\n",
       "index 7    448.0\n",
       "index 8    499.6\n",
       "index 9    547.5\n",
       "Name: invest_col, dtype: float64"
      ]
     },
     "execution_count": 15,
     "metadata": {},
     "output_type": "execute_result"
    }
   ],
   "source": [
    "cols.invest_col\n",
    "cols['invest_col']"
   ]
  },
  {
   "cell_type": "code",
   "execution_count": 16,
   "metadata": {
    "ExecuteTime": {
     "end_time": "2023-04-04T09:24:05.811685Z",
     "start_time": "2023-04-04T09:24:05.429297Z"
    }
   },
   "outputs": [
    {
     "data": {
      "text/plain": [
       "index 3    257.7\n",
       "index 4    330.8\n",
       "index 5    461.2\n",
       "Name: invest_col, dtype: float64"
      ]
     },
     "execution_count": 16,
     "metadata": {},
     "output_type": "execute_result"
    }
   ],
   "source": [
    "cols.loc['index 0']\n",
    "cols.loc['index 3':'index 5', 'invest_col']"
   ]
  },
  {
   "cell_type": "code",
   "execution_count": 17,
   "metadata": {
    "ExecuteTime": {
     "end_time": "2023-04-04T09:24:05.811685Z",
     "start_time": "2023-04-04T09:24:05.460557Z"
    }
   },
   "outputs": [
    {
     "data": {
      "text/html": [
       "<div>\n",
       "<style scoped>\n",
       "    .dataframe tbody tr th:only-of-type {\n",
       "        vertical-align: middle;\n",
       "    }\n",
       "\n",
       "    .dataframe tbody tr th {\n",
       "        vertical-align: top;\n",
       "    }\n",
       "\n",
       "    .dataframe thead th {\n",
       "        text-align: right;\n",
       "    }\n",
       "</style>\n",
       "<table border=\"1\" class=\"dataframe\">\n",
       "  <thead>\n",
       "    <tr style=\"text-align: right;\">\n",
       "      <th></th>\n",
       "      <th>invest_col</th>\n",
       "      <th>capital_col</th>\n",
       "    </tr>\n",
       "  </thead>\n",
       "  <tbody>\n",
       "    <tr>\n",
       "      <th>index 0</th>\n",
       "      <td>NaN</td>\n",
       "      <td>NaN</td>\n",
       "    </tr>\n",
       "    <tr>\n",
       "      <th>index 1</th>\n",
       "      <td>391.8</td>\n",
       "      <td>NaN</td>\n",
       "    </tr>\n",
       "    <tr>\n",
       "      <th>index 2</th>\n",
       "      <td>410.6</td>\n",
       "      <td>NaN</td>\n",
       "    </tr>\n",
       "    <tr>\n",
       "      <th>index 3</th>\n",
       "      <td>NaN</td>\n",
       "      <td>NaN</td>\n",
       "    </tr>\n",
       "    <tr>\n",
       "      <th>index 4</th>\n",
       "      <td>NaN</td>\n",
       "      <td>NaN</td>\n",
       "    </tr>\n",
       "    <tr>\n",
       "      <th>index 5</th>\n",
       "      <td>461.2</td>\n",
       "      <td>NaN</td>\n",
       "    </tr>\n",
       "    <tr>\n",
       "      <th>index 6</th>\n",
       "      <td>512.0</td>\n",
       "      <td>NaN</td>\n",
       "    </tr>\n",
       "    <tr>\n",
       "      <th>index 7</th>\n",
       "      <td>448.0</td>\n",
       "      <td>NaN</td>\n",
       "    </tr>\n",
       "    <tr>\n",
       "      <th>index 8</th>\n",
       "      <td>499.6</td>\n",
       "      <td>NaN</td>\n",
       "    </tr>\n",
       "    <tr>\n",
       "      <th>index 9</th>\n",
       "      <td>547.5</td>\n",
       "      <td>NaN</td>\n",
       "    </tr>\n",
       "  </tbody>\n",
       "</table>\n",
       "</div>"
      ],
      "text/plain": [
       "         invest_col  capital_col\n",
       "index 0         NaN          NaN\n",
       "index 1       391.8          NaN\n",
       "index 2       410.6          NaN\n",
       "index 3         NaN          NaN\n",
       "index 4         NaN          NaN\n",
       "index 5       461.2          NaN\n",
       "index 6       512.0          NaN\n",
       "index 7       448.0          NaN\n",
       "index 8       499.6          NaN\n",
       "index 9       547.5          NaN"
      ]
     },
     "execution_count": 17,
     "metadata": {},
     "output_type": "execute_result"
    }
   ],
   "source": [
    "cols[cols['invest_col']>350]\n",
    "cols[cols>350]"
   ]
  },
  {
   "cell_type": "code",
   "execution_count": 18,
   "metadata": {
    "ExecuteTime": {
     "end_time": "2023-04-04T09:24:05.811685Z",
     "start_time": "2023-04-04T09:24:05.476181Z"
    }
   },
   "outputs": [
    {
     "data": {
      "text/plain": [
       "207.2"
      ]
     },
     "execution_count": 18,
     "metadata": {},
     "output_type": "execute_result"
    }
   ],
   "source": [
    "cols.at['index 5', 'capital_col']"
   ]
  },
  {
   "cell_type": "code",
   "execution_count": 19,
   "metadata": {
    "ExecuteTime": {
     "end_time": "2023-04-04T09:24:05.827306Z",
     "start_time": "2023-04-04T09:24:05.491801Z"
    }
   },
   "outputs": [
    {
     "data": {
      "text/plain": [
       "invest_col     417.68\n",
       "capital_col    185.67\n",
       "dtype: float64"
      ]
     },
     "execution_count": 19,
     "metadata": {},
     "output_type": "execute_result"
    }
   ],
   "source": [
    "pd.set_option('display.precision', 2)\n",
    "cols.describe()\n",
    "cols.mean()"
   ]
  },
  {
   "cell_type": "code",
   "execution_count": 20,
   "metadata": {
    "ExecuteTime": {
     "end_time": "2023-04-04T09:24:06.014807Z",
     "start_time": "2023-04-04T09:24:05.543677Z"
    }
   },
   "outputs": [
    {
     "data": {
      "text/plain": [
       "index 0    160.20\n",
       "index 1    222.20\n",
       "index 2    283.75\n",
       "index 3    233.45\n",
       "index 4    267.10\n",
       "index 5    334.20\n",
       "index 6    383.60\n",
       "index 7    375.85\n",
       "index 8    381.85\n",
       "index 9    374.55\n",
       "dtype: float64"
      ]
     },
     "execution_count": 20,
     "metadata": {},
     "output_type": "execute_result"
    }
   ],
   "source": [
    "cols.T.describe()\n",
    "cols.T.mean()"
   ]
  },
  {
   "cell_type": "code",
   "execution_count": 21,
   "metadata": {
    "ExecuteTime": {
     "end_time": "2023-04-04T09:24:06.014807Z",
     "start_time": "2023-04-04T09:24:05.702310Z"
    }
   },
   "outputs": [
    {
     "data": {
      "text/html": [
       "<div>\n",
       "<style scoped>\n",
       "    .dataframe tbody tr th:only-of-type {\n",
       "        vertical-align: middle;\n",
       "    }\n",
       "\n",
       "    .dataframe tbody tr th {\n",
       "        vertical-align: top;\n",
       "    }\n",
       "\n",
       "    .dataframe thead th {\n",
       "        text-align: right;\n",
       "    }\n",
       "</style>\n",
       "<table border=\"1\" class=\"dataframe\">\n",
       "  <thead>\n",
       "    <tr style=\"text-align: right;\">\n",
       "      <th></th>\n",
       "      <th>invest_col</th>\n",
       "      <th>capital_col</th>\n",
       "    </tr>\n",
       "  </thead>\n",
       "  <tbody>\n",
       "    <tr>\n",
       "      <th>index 9</th>\n",
       "      <td>547.5</td>\n",
       "      <td>201.6</td>\n",
       "    </tr>\n",
       "    <tr>\n",
       "      <th>index 8</th>\n",
       "      <td>499.6</td>\n",
       "      <td>264.1</td>\n",
       "    </tr>\n",
       "    <tr>\n",
       "      <th>index 7</th>\n",
       "      <td>448.0</td>\n",
       "      <td>303.7</td>\n",
       "    </tr>\n",
       "    <tr>\n",
       "      <th>index 6</th>\n",
       "      <td>512.0</td>\n",
       "      <td>255.2</td>\n",
       "    </tr>\n",
       "    <tr>\n",
       "      <th>index 5</th>\n",
       "      <td>461.2</td>\n",
       "      <td>207.2</td>\n",
       "    </tr>\n",
       "    <tr>\n",
       "      <th>index 4</th>\n",
       "      <td>330.8</td>\n",
       "      <td>203.4</td>\n",
       "    </tr>\n",
       "    <tr>\n",
       "      <th>index 3</th>\n",
       "      <td>257.7</td>\n",
       "      <td>209.2</td>\n",
       "    </tr>\n",
       "    <tr>\n",
       "      <th>index 2</th>\n",
       "      <td>410.6</td>\n",
       "      <td>156.9</td>\n",
       "    </tr>\n",
       "    <tr>\n",
       "      <th>index 1</th>\n",
       "      <td>391.8</td>\n",
       "      <td>52.6</td>\n",
       "    </tr>\n",
       "    <tr>\n",
       "      <th>index 0</th>\n",
       "      <td>317.6</td>\n",
       "      <td>2.8</td>\n",
       "    </tr>\n",
       "  </tbody>\n",
       "</table>\n",
       "</div>"
      ],
      "text/plain": [
       "         invest_col  capital_col\n",
       "index 9       547.5        201.6\n",
       "index 8       499.6        264.1\n",
       "index 7       448.0        303.7\n",
       "index 6       512.0        255.2\n",
       "index 5       461.2        207.2\n",
       "index 4       330.8        203.4\n",
       "index 3       257.7        209.2\n",
       "index 2       410.6        156.9\n",
       "index 1       391.8         52.6\n",
       "index 0       317.6          2.8"
      ]
     },
     "execution_count": 21,
     "metadata": {},
     "output_type": "execute_result"
    }
   ],
   "source": [
    "cols.sort_index(ascending=False)"
   ]
  },
  {
   "cell_type": "code",
   "execution_count": 22,
   "metadata": {
    "ExecuteTime": {
     "end_time": "2023-04-04T09:24:06.014807Z",
     "start_time": "2023-04-04T09:24:05.717939Z"
    }
   },
   "outputs": [
    {
     "data": {
      "text/html": [
       "<div>\n",
       "<style scoped>\n",
       "    .dataframe tbody tr th:only-of-type {\n",
       "        vertical-align: middle;\n",
       "    }\n",
       "\n",
       "    .dataframe tbody tr th {\n",
       "        vertical-align: top;\n",
       "    }\n",
       "\n",
       "    .dataframe thead th {\n",
       "        text-align: right;\n",
       "    }\n",
       "</style>\n",
       "<table border=\"1\" class=\"dataframe\">\n",
       "  <thead>\n",
       "    <tr style=\"text-align: right;\">\n",
       "      <th></th>\n",
       "      <th>capital_col</th>\n",
       "      <th>invest_col</th>\n",
       "    </tr>\n",
       "  </thead>\n",
       "  <tbody>\n",
       "    <tr>\n",
       "      <th>index 0</th>\n",
       "      <td>2.8</td>\n",
       "      <td>317.6</td>\n",
       "    </tr>\n",
       "    <tr>\n",
       "      <th>index 1</th>\n",
       "      <td>52.6</td>\n",
       "      <td>391.8</td>\n",
       "    </tr>\n",
       "    <tr>\n",
       "      <th>index 2</th>\n",
       "      <td>156.9</td>\n",
       "      <td>410.6</td>\n",
       "    </tr>\n",
       "    <tr>\n",
       "      <th>index 3</th>\n",
       "      <td>209.2</td>\n",
       "      <td>257.7</td>\n",
       "    </tr>\n",
       "    <tr>\n",
       "      <th>index 4</th>\n",
       "      <td>203.4</td>\n",
       "      <td>330.8</td>\n",
       "    </tr>\n",
       "    <tr>\n",
       "      <th>index 5</th>\n",
       "      <td>207.2</td>\n",
       "      <td>461.2</td>\n",
       "    </tr>\n",
       "    <tr>\n",
       "      <th>index 6</th>\n",
       "      <td>255.2</td>\n",
       "      <td>512.0</td>\n",
       "    </tr>\n",
       "    <tr>\n",
       "      <th>index 7</th>\n",
       "      <td>303.7</td>\n",
       "      <td>448.0</td>\n",
       "    </tr>\n",
       "    <tr>\n",
       "      <th>index 8</th>\n",
       "      <td>264.1</td>\n",
       "      <td>499.6</td>\n",
       "    </tr>\n",
       "    <tr>\n",
       "      <th>index 9</th>\n",
       "      <td>201.6</td>\n",
       "      <td>547.5</td>\n",
       "    </tr>\n",
       "  </tbody>\n",
       "</table>\n",
       "</div>"
      ],
      "text/plain": [
       "         capital_col  invest_col\n",
       "index 0          2.8       317.6\n",
       "index 1         52.6       391.8\n",
       "index 2        156.9       410.6\n",
       "index 3        209.2       257.7\n",
       "index 4        203.4       330.8\n",
       "index 5        207.2       461.2\n",
       "index 6        255.2       512.0\n",
       "index 7        303.7       448.0\n",
       "index 8        264.1       499.6\n",
       "index 9        201.6       547.5"
      ]
     },
     "execution_count": 22,
     "metadata": {},
     "output_type": "execute_result"
    }
   ],
   "source": [
    "#Sorting by column indexes\n",
    "cols.sort_index(axis=1)"
   ]
  },
  {
   "cell_type": "code",
   "execution_count": 23,
   "metadata": {
    "ExecuteTime": {
     "end_time": "2023-04-04T09:24:06.014807Z",
     "start_time": "2023-04-04T09:24:05.780431Z"
    }
   },
   "outputs": [
    {
     "data": {
      "text/html": [
       "<div>\n",
       "<style scoped>\n",
       "    .dataframe tbody tr th:only-of-type {\n",
       "        vertical-align: middle;\n",
       "    }\n",
       "\n",
       "    .dataframe tbody tr th {\n",
       "        vertical-align: top;\n",
       "    }\n",
       "\n",
       "    .dataframe thead th {\n",
       "        text-align: right;\n",
       "    }\n",
       "</style>\n",
       "<table border=\"1\" class=\"dataframe\">\n",
       "  <thead>\n",
       "    <tr style=\"text-align: right;\">\n",
       "      <th></th>\n",
       "      <th>index 3</th>\n",
       "      <th>index 0</th>\n",
       "      <th>index 4</th>\n",
       "      <th>index 1</th>\n",
       "      <th>index 2</th>\n",
       "      <th>index 7</th>\n",
       "      <th>index 5</th>\n",
       "      <th>index 8</th>\n",
       "      <th>index 6</th>\n",
       "      <th>index 9</th>\n",
       "    </tr>\n",
       "  </thead>\n",
       "  <tbody>\n",
       "    <tr>\n",
       "      <th>invest_col</th>\n",
       "      <td>257.7</td>\n",
       "      <td>317.6</td>\n",
       "      <td>330.8</td>\n",
       "      <td>391.8</td>\n",
       "      <td>410.6</td>\n",
       "      <td>448.0</td>\n",
       "      <td>461.2</td>\n",
       "      <td>499.6</td>\n",
       "      <td>512.0</td>\n",
       "      <td>547.5</td>\n",
       "    </tr>\n",
       "    <tr>\n",
       "      <th>capital_col</th>\n",
       "      <td>209.2</td>\n",
       "      <td>2.8</td>\n",
       "      <td>203.4</td>\n",
       "      <td>52.6</td>\n",
       "      <td>156.9</td>\n",
       "      <td>303.7</td>\n",
       "      <td>207.2</td>\n",
       "      <td>264.1</td>\n",
       "      <td>255.2</td>\n",
       "      <td>201.6</td>\n",
       "    </tr>\n",
       "  </tbody>\n",
       "</table>\n",
       "</div>"
      ],
      "text/plain": [
       "             index 3  index 0  index 4  index 1  index 2  index 7  index 5  \\\n",
       "invest_col     257.7    317.6    330.8    391.8    410.6    448.0    461.2   \n",
       "capital_col    209.2      2.8    203.4     52.6    156.9    303.7    207.2   \n",
       "\n",
       "             index 8  index 6  index 9  \n",
       "invest_col     499.6    512.0    547.5  \n",
       "capital_col    264.1    255.2    201.6  "
      ]
     },
     "execution_count": 23,
     "metadata": {},
     "output_type": "execute_result"
    }
   ],
   "source": [
    "#Sorting by column values\n",
    "cols.T.sort_values(by='invest_col', axis=1)\n"
   ]
  },
  {
   "cell_type": "markdown",
   "metadata": {},
   "source": [
    "5. \tPerform initial data processing(data is clean already)\n",
    "6.  Read a set of data of the Titanic catastrophe\n",
    "7. Download the Titanic Catastrophe Data by URL\n",
    "8. View the Titanic Catastrophe Data Set\n",
    "9. Set up column names\n",
    "10. Conduct a simple data analysis: Identify the youngest passenger, the oldest who was the average age of passengers and the statistics on the surviving passengers.Sort all women with 1st class cabin, find the youngest and oldest among them\n",
    "11. Construct a histogram of the age of passengers"
   ]
  },
  {
   "cell_type": "code",
   "execution_count": 24,
   "metadata": {
    "ExecuteTime": {
     "end_time": "2023-04-04T09:24:06.649680Z",
     "start_time": "2023-04-04T09:24:05.811685Z"
    }
   },
   "outputs": [
    {
     "data": {
      "text/html": [
       "<div>\n",
       "<style scoped>\n",
       "    .dataframe tbody tr th:only-of-type {\n",
       "        vertical-align: middle;\n",
       "    }\n",
       "\n",
       "    .dataframe tbody tr th {\n",
       "        vertical-align: top;\n",
       "    }\n",
       "\n",
       "    .dataframe thead th {\n",
       "        text-align: right;\n",
       "    }\n",
       "</style>\n",
       "<table border=\"1\" class=\"dataframe\">\n",
       "  <thead>\n",
       "    <tr style=\"text-align: right;\">\n",
       "      <th></th>\n",
       "      <th>Unnamed: 0</th>\n",
       "      <th>survived</th>\n",
       "      <th>sex</th>\n",
       "      <th>age</th>\n",
       "      <th>passengerClass</th>\n",
       "    </tr>\n",
       "  </thead>\n",
       "  <tbody>\n",
       "    <tr>\n",
       "      <th>0</th>\n",
       "      <td>Allen, Miss. Elisabeth Walton</td>\n",
       "      <td>yes</td>\n",
       "      <td>female</td>\n",
       "      <td>29.00</td>\n",
       "      <td>1st</td>\n",
       "    </tr>\n",
       "    <tr>\n",
       "      <th>1</th>\n",
       "      <td>Allison, Master. Hudson Trevor</td>\n",
       "      <td>yes</td>\n",
       "      <td>male</td>\n",
       "      <td>0.92</td>\n",
       "      <td>1st</td>\n",
       "    </tr>\n",
       "    <tr>\n",
       "      <th>2</th>\n",
       "      <td>Allison, Miss. Helen Loraine</td>\n",
       "      <td>no</td>\n",
       "      <td>female</td>\n",
       "      <td>2.00</td>\n",
       "      <td>1st</td>\n",
       "    </tr>\n",
       "    <tr>\n",
       "      <th>3</th>\n",
       "      <td>Allison, Mr. Hudson Joshua Crei</td>\n",
       "      <td>no</td>\n",
       "      <td>male</td>\n",
       "      <td>30.00</td>\n",
       "      <td>1st</td>\n",
       "    </tr>\n",
       "    <tr>\n",
       "      <th>4</th>\n",
       "      <td>Allison, Mrs. Hudson J C (Bessi</td>\n",
       "      <td>no</td>\n",
       "      <td>female</td>\n",
       "      <td>25.00</td>\n",
       "      <td>1st</td>\n",
       "    </tr>\n",
       "  </tbody>\n",
       "</table>\n",
       "</div>"
      ],
      "text/plain": [
       "                        Unnamed: 0 survived     sex    age passengerClass\n",
       "0    Allen, Miss. Elisabeth Walton      yes  female  29.00            1st\n",
       "1   Allison, Master. Hudson Trevor      yes    male   0.92            1st\n",
       "2     Allison, Miss. Helen Loraine       no  female   2.00            1st\n",
       "3  Allison, Mr. Hudson Joshua Crei       no    male  30.00            1st\n",
       "4  Allison, Mrs. Hudson J C (Bessi       no  female  25.00            1st"
      ]
     },
     "execution_count": 24,
     "metadata": {},
     "output_type": "execute_result"
    }
   ],
   "source": [
    "titanic_df=pd.read_csv('https://vincentarelbundock.github.io/Rdatasets/csv/carData/TitanicSurvival.csv')\n",
    "titanic_df.head(5)"
   ]
  },
  {
   "cell_type": "code",
   "execution_count": 25,
   "metadata": {
    "ExecuteTime": {
     "end_time": "2023-04-04T09:24:06.680927Z",
     "start_time": "2023-04-04T09:24:06.180933Z"
    }
   },
   "outputs": [
    {
     "data": {
      "text/html": [
       "<div>\n",
       "<style scoped>\n",
       "    .dataframe tbody tr th:only-of-type {\n",
       "        vertical-align: middle;\n",
       "    }\n",
       "\n",
       "    .dataframe tbody tr th {\n",
       "        vertical-align: top;\n",
       "    }\n",
       "\n",
       "    .dataframe thead th {\n",
       "        text-align: right;\n",
       "    }\n",
       "</style>\n",
       "<table border=\"1\" class=\"dataframe\">\n",
       "  <thead>\n",
       "    <tr style=\"text-align: right;\">\n",
       "      <th></th>\n",
       "      <th>Unnamed: 0</th>\n",
       "      <th>survived</th>\n",
       "      <th>sex</th>\n",
       "      <th>age</th>\n",
       "      <th>passengerClass</th>\n",
       "    </tr>\n",
       "  </thead>\n",
       "  <tbody>\n",
       "    <tr>\n",
       "      <th>1304</th>\n",
       "      <td>Zabour, Miss. Hileni</td>\n",
       "      <td>no</td>\n",
       "      <td>female</td>\n",
       "      <td>14.5</td>\n",
       "      <td>3rd</td>\n",
       "    </tr>\n",
       "    <tr>\n",
       "      <th>1305</th>\n",
       "      <td>Zabour, Miss. Thamine</td>\n",
       "      <td>no</td>\n",
       "      <td>female</td>\n",
       "      <td>NaN</td>\n",
       "      <td>3rd</td>\n",
       "    </tr>\n",
       "    <tr>\n",
       "      <th>1306</th>\n",
       "      <td>Zakarian, Mr. Mapriededer</td>\n",
       "      <td>no</td>\n",
       "      <td>male</td>\n",
       "      <td>26.5</td>\n",
       "      <td>3rd</td>\n",
       "    </tr>\n",
       "    <tr>\n",
       "      <th>1307</th>\n",
       "      <td>Zakarian, Mr. Ortin</td>\n",
       "      <td>no</td>\n",
       "      <td>male</td>\n",
       "      <td>27.0</td>\n",
       "      <td>3rd</td>\n",
       "    </tr>\n",
       "    <tr>\n",
       "      <th>1308</th>\n",
       "      <td>Zimmerman, Mr. Leo</td>\n",
       "      <td>no</td>\n",
       "      <td>male</td>\n",
       "      <td>29.0</td>\n",
       "      <td>3rd</td>\n",
       "    </tr>\n",
       "  </tbody>\n",
       "</table>\n",
       "</div>"
      ],
      "text/plain": [
       "                     Unnamed: 0 survived     sex   age passengerClass\n",
       "1304       Zabour, Miss. Hileni       no  female  14.5            3rd\n",
       "1305      Zabour, Miss. Thamine       no  female   NaN            3rd\n",
       "1306  Zakarian, Mr. Mapriededer       no    male  26.5            3rd\n",
       "1307        Zakarian, Mr. Ortin       no    male  27.0            3rd\n",
       "1308         Zimmerman, Mr. Leo       no    male  29.0            3rd"
      ]
     },
     "execution_count": 25,
     "metadata": {},
     "output_type": "execute_result"
    }
   ],
   "source": [
    "titanic_df.tail(5)"
   ]
  },
  {
   "cell_type": "code",
   "execution_count": 26,
   "metadata": {
    "ExecuteTime": {
     "end_time": "2023-04-04T09:24:06.680927Z",
     "start_time": "2023-04-04T09:24:06.212191Z"
    }
   },
   "outputs": [
    {
     "data": {
      "text/html": [
       "<div>\n",
       "<style scoped>\n",
       "    .dataframe tbody tr th:only-of-type {\n",
       "        vertical-align: middle;\n",
       "    }\n",
       "\n",
       "    .dataframe tbody tr th {\n",
       "        vertical-align: top;\n",
       "    }\n",
       "\n",
       "    .dataframe thead th {\n",
       "        text-align: right;\n",
       "    }\n",
       "</style>\n",
       "<table border=\"1\" class=\"dataframe\">\n",
       "  <thead>\n",
       "    <tr style=\"text-align: right;\">\n",
       "      <th></th>\n",
       "      <th>name</th>\n",
       "      <th>survived</th>\n",
       "      <th>sex</th>\n",
       "      <th>age</th>\n",
       "      <th>class</th>\n",
       "    </tr>\n",
       "  </thead>\n",
       "  <tbody>\n",
       "    <tr>\n",
       "      <th>0</th>\n",
       "      <td>Allen, Miss. Elisabeth Walton</td>\n",
       "      <td>yes</td>\n",
       "      <td>female</td>\n",
       "      <td>29.00</td>\n",
       "      <td>1st</td>\n",
       "    </tr>\n",
       "    <tr>\n",
       "      <th>1</th>\n",
       "      <td>Allison, Master. Hudson Trevor</td>\n",
       "      <td>yes</td>\n",
       "      <td>male</td>\n",
       "      <td>0.92</td>\n",
       "      <td>1st</td>\n",
       "    </tr>\n",
       "    <tr>\n",
       "      <th>2</th>\n",
       "      <td>Allison, Miss. Helen Loraine</td>\n",
       "      <td>no</td>\n",
       "      <td>female</td>\n",
       "      <td>2.00</td>\n",
       "      <td>1st</td>\n",
       "    </tr>\n",
       "    <tr>\n",
       "      <th>3</th>\n",
       "      <td>Allison, Mr. Hudson Joshua Crei</td>\n",
       "      <td>no</td>\n",
       "      <td>male</td>\n",
       "      <td>30.00</td>\n",
       "      <td>1st</td>\n",
       "    </tr>\n",
       "    <tr>\n",
       "      <th>4</th>\n",
       "      <td>Allison, Mrs. Hudson J C (Bessi</td>\n",
       "      <td>no</td>\n",
       "      <td>female</td>\n",
       "      <td>25.00</td>\n",
       "      <td>1st</td>\n",
       "    </tr>\n",
       "    <tr>\n",
       "      <th>...</th>\n",
       "      <td>...</td>\n",
       "      <td>...</td>\n",
       "      <td>...</td>\n",
       "      <td>...</td>\n",
       "      <td>...</td>\n",
       "    </tr>\n",
       "    <tr>\n",
       "      <th>1304</th>\n",
       "      <td>Zabour, Miss. Hileni</td>\n",
       "      <td>no</td>\n",
       "      <td>female</td>\n",
       "      <td>14.50</td>\n",
       "      <td>3rd</td>\n",
       "    </tr>\n",
       "    <tr>\n",
       "      <th>1305</th>\n",
       "      <td>Zabour, Miss. Thamine</td>\n",
       "      <td>no</td>\n",
       "      <td>female</td>\n",
       "      <td>NaN</td>\n",
       "      <td>3rd</td>\n",
       "    </tr>\n",
       "    <tr>\n",
       "      <th>1306</th>\n",
       "      <td>Zakarian, Mr. Mapriededer</td>\n",
       "      <td>no</td>\n",
       "      <td>male</td>\n",
       "      <td>26.50</td>\n",
       "      <td>3rd</td>\n",
       "    </tr>\n",
       "    <tr>\n",
       "      <th>1307</th>\n",
       "      <td>Zakarian, Mr. Ortin</td>\n",
       "      <td>no</td>\n",
       "      <td>male</td>\n",
       "      <td>27.00</td>\n",
       "      <td>3rd</td>\n",
       "    </tr>\n",
       "    <tr>\n",
       "      <th>1308</th>\n",
       "      <td>Zimmerman, Mr. Leo</td>\n",
       "      <td>no</td>\n",
       "      <td>male</td>\n",
       "      <td>29.00</td>\n",
       "      <td>3rd</td>\n",
       "    </tr>\n",
       "  </tbody>\n",
       "</table>\n",
       "<p>1309 rows × 5 columns</p>\n",
       "</div>"
      ],
      "text/plain": [
       "                                 name survived     sex    age class\n",
       "0       Allen, Miss. Elisabeth Walton      yes  female  29.00   1st\n",
       "1      Allison, Master. Hudson Trevor      yes    male   0.92   1st\n",
       "2        Allison, Miss. Helen Loraine       no  female   2.00   1st\n",
       "3     Allison, Mr. Hudson Joshua Crei       no    male  30.00   1st\n",
       "4     Allison, Mrs. Hudson J C (Bessi       no  female  25.00   1st\n",
       "...                               ...      ...     ...    ...   ...\n",
       "1304             Zabour, Miss. Hileni       no  female  14.50   3rd\n",
       "1305            Zabour, Miss. Thamine       no  female    NaN   3rd\n",
       "1306        Zakarian, Mr. Mapriededer       no    male  26.50   3rd\n",
       "1307              Zakarian, Mr. Ortin       no    male  27.00   3rd\n",
       "1308               Zimmerman, Mr. Leo       no    male  29.00   3rd\n",
       "\n",
       "[1309 rows x 5 columns]"
      ]
     },
     "execution_count": 26,
     "metadata": {},
     "output_type": "execute_result"
    }
   ],
   "source": [
    "new_cols=list(titanic_df.columns)\n",
    "new_cols[0]='name'\n",
    "new_cols[-1]='class'\n",
    "titanic_df.columns=new_cols\n",
    "titanic_df"
   ]
  },
  {
   "cell_type": "code",
   "execution_count": 27,
   "metadata": {
    "ExecuteTime": {
     "end_time": "2023-04-04T09:24:06.680927Z",
     "start_time": "2023-04-04T09:24:06.243436Z"
    }
   },
   "outputs": [
    {
     "name": "stdout",
     "output_type": "stream",
     "text": [
      "name        Dean, Miss. Elizabeth Gladys M\n",
      "survived                               yes\n",
      "sex                                 female\n",
      "age                                   0.17\n",
      "class                                  3rd\n",
      "Name: 763, dtype: object\n",
      "name        Barkworth, Mr. Algernon Henry W\n",
      "survived                                yes\n",
      "sex                                    male\n",
      "age                                    80.0\n",
      "class                                   1st\n",
      "Name: 14, dtype: object\n",
      "29.881134512434034\n",
      "          age\n",
      "count  427.00\n",
      "mean    28.92\n",
      "std     15.06\n",
      "min      0.17\n",
      "25%     20.00\n",
      "50%     28.00\n",
      "75%     38.00\n",
      "max     80.00\n",
      "                                name survived     sex   age class\n",
      "2       Allison, Miss. Helen Loraine       no  female   2.0   1st\n",
      "55         Carter, Miss. Lucile Polk      yes  female  14.0   1st\n",
      "193  Madill, Miss. Georgette Alexand      yes  female  15.0   1st\n",
      "195            Maioni, Miss. Roberta      yes  female  16.0   1st\n",
      "159     Hippach, Miss. Jean Gertrude      yes  female  16.0   1st\n",
      "..                               ...      ...     ...   ...   ...\n",
      "176  Kenyon, Mrs. Frederick R (Mario      yes  female   NaN   1st\n",
      "204  Meyer, Mrs. Edgar Joseph (Leila      yes  female   NaN   1st\n",
      "277   Spencer, Mrs. William Augustus      yes  female   NaN   1st\n",
      "293  Taylor, Mrs. Elmer Zebley (Juli      yes  female   NaN   1st\n",
      "297   Thorne, Mrs. Gertrude Maybelle      yes  female   NaN   1st\n",
      "\n",
      "[144 rows x 5 columns]\n",
      "name        Allison, Miss. Helen Loraine\n",
      "survived                              no\n",
      "sex                               female\n",
      "age                                  2.0\n",
      "class                                1st\n",
      "Name: 2, dtype: object\n",
      "name        Cavendish, Mrs. Tyrell William\n",
      "survived                               yes\n",
      "sex                                 female\n",
      "age                                   76.0\n",
      "class                                  1st\n",
      "Name: 61, dtype: object\n",
      "139\n"
     ]
    }
   ],
   "source": [
    "youngest_passenger=titanic_df.sort_values(by='age').iloc[0]\n",
    "print(youngest_passenger)\n",
    "\n",
    "oldest_passenger=titanic_df.sort_values(by='age').dropna(subset=['age']).iloc[-1]\n",
    "print(oldest_passenger)\n",
    "\n",
    "avg_survive_age=titanic_df['age'].mean()\n",
    "print(avg_survive_age)\n",
    "\n",
    "#survived statistics\n",
    "print(titanic_df[titanic_df['survived']=='yes'].describe())\n",
    "\n",
    "first_class_women=titanic_df[(titanic_df['class']=='1st') & (titanic_df['sex']=='female')].sort_values(by='age')\n",
    "print(first_class_women)\n",
    "\n",
    "youngest_first_class_woman=first_class_women.iloc[0]\n",
    "print(youngest_first_class_woman)\n",
    "\n",
    "oldest_first_class_woman=first_class_women.dropna(subset=['age']).iloc[-1]\n",
    "print(oldest_first_class_woman)\n",
    "\n",
    "first_class_woman_survived_count=(first_class_women['survived']=='yes').sum( )\n",
    "print(first_class_woman_survived_count)"
   ]
  },
  {
   "cell_type": "code",
   "execution_count": 28,
   "metadata": {
    "ExecuteTime": {
     "end_time": "2023-04-04T09:24:06.915325Z",
     "start_time": "2023-04-04T09:24:06.305940Z"
    }
   },
   "outputs": [
    {
     "data": {
      "image/png": "[encoded data removed]",
      "text/plain": [
       "<Figure size 640x480 with 1 Axes>"
      ]
     },
     "metadata": {},
     "output_type": "display_data"
    }
   ],
   "source": [
    "histogram=titanic_df.hist()"
   ]
  }
 ],
 "metadata": {
  "kernelspec": {
   "display_name": "Python 3 (ipykernel)",
   "language": "python",
   "name": "python3"
  },
  "language_info": {
   "codemirror_mode": {
    "name": "ipython",
    "version": 3
   },
   "file_extension": ".py",
   "mimetype": "text/x-python",
   "name": "python",
   "nbconvert_exporter": "python",
   "pygments_lexer": "ipython3",
   "version": "3.9.13"
  },
  "vscode": {
   "interpreter": {
    "hash": "6154f5e7010e3fc887b4ef746b1797a21e307032fb152fdac8d8ffa27b151033"
   }
  }
 },
 "nbformat": 4,
 "nbformat_minor": 2
}
