{
 "cells": [
  {
   "cell_type": "markdown",
   "metadata": {},
   "source": [
    "### Лабораторна робота №1, Обробка та аналіз текстових даних на Python, Варіант 14\n",
    "**Виконав**: студент групи ІП-11, Лошак Віктор Іванович<br>\n",
    "**Перевірив**: Юлія Тимофєєва Сергіївна<br>\n",
    "\n",
    "**Тема роботи**: Робота з текстовими даними в Python<br>\n",
    "**Мета роботи**: Ознайомитись  з  представленням  тексту  Python в  та \n",
    "регулярними виразами\n",
    "\n",
    "15.03.2024"
   ]
  },
  {
   "cell_type": "markdown",
   "metadata": {},
   "source": [
    "**Створіть програму, яка**:\n",
    "1. Читає текстовий файл як рядок. За допомогою фрагментів: виділіть частину тексту в окрему рядкову змінну та використовуйте функції та методи роботи з рядками, які описані в теоретичних відомостях.\n",
    "2. За допомогою регулярних виразів виконайте завдання за варіантом:<br>Варіант 14. Знайти всі номери будинків і замінити цифри після першої цифри на будь-який символ.\n",
    "\n",
    "**Create a program that**:\n",
    "1. Reads the text file as a string. By using slices: select a part of the text into a separate string variable and use functions and methods for working with strings that are described in the theoretical information.\n",
    "2. Use regular expressions to perform tasks according to variant:<br>Variant 14. Find all house numbers and replace digits after the first digit with any symbol."
   ]
  },
  {
   "cell_type": "code",
   "execution_count": 2,
   "metadata": {},
   "outputs": [
    {
     "name": "stdout",
     "output_type": "stream",
     "text": [
      "Slowly and solemnly he was borne into Briony LODgE 145a and laid out in the\n",
      "principal room, while I (094)-44-33 still observed the proceedings from my post\n",
      "by the window 12/15/1892.    The lamps had been lit, but the blinds had not been\n",
      "drawn, so that I could see Holmes sh_holmes221@mail.uk as he lay upon the couch.... I do not\n",
      "know whether he was seized with compunction at that moment for the part\n",
      "he was playing, but I know that I never felt more heartily ashamed of\n",
      "myself in my life 34-34-32 than when I saw the beautiful creature against whom\n",
      "I wston23@mymail.com was conspiring, or the grace and kindliness with which she waited\n",
      "upon the injured man. And yet    it would be the blackest treachery to 1895-11-17\n",
      "Holmes to draw back now from the part which he had intrusted to me AveNUe 123.\n",
      "I hardened my heart Wtason Street 45b, and took the smoke-rocket from under my ulster.\n",
      "After all,, 344-21-01 I thought, we are not injuring her. We are but preventing\n",
      "her from injuring another adlerrr@mail.com.\n"
     ]
    }
   ],
   "source": [
    "with open('text3.txt', 'r', encoding='utf-8') as file:\n",
    "    text = file.read()\n",
    "    \n",
    "print(text)"
   ]
  },
  {
   "cell_type": "markdown",
   "metadata": {},
   "source": [
    "## Task 1"
   ]
  },
  {
   "cell_type": "code",
   "execution_count": 5,
   "metadata": {},
   "outputs": [
    {
     "data": {
      "text/plain": [
       "'S'"
      ]
     },
     "execution_count": 5,
     "metadata": {},
     "output_type": "execute_result"
    }
   ],
   "source": [
    "text[0]"
   ]
  },
  {
   "cell_type": "code",
   "execution_count": 6,
   "metadata": {},
   "outputs": [
    {
     "data": {
      "text/plain": [
       "'Slowly and solemnly he was borne into Briony LODgE 145a and laid out in the\\nprincipal room, while I '"
      ]
     },
     "execution_count": 6,
     "metadata": {},
     "output_type": "execute_result"
    }
   ],
   "source": [
    "text[0:100]"
   ]
  },
  {
   "cell_type": "code",
   "execution_count": 7,
   "metadata": {},
   "outputs": [
    {
     "data": {
      "text/plain": [
       "66"
      ]
     },
     "execution_count": 7,
     "metadata": {},
     "output_type": "execute_result"
    }
   ],
   "source": [
    "text.count('t')"
   ]
  },
  {
   "cell_type": "code",
   "execution_count": 8,
   "metadata": {},
   "outputs": [
    {
     "data": {
      "text/plain": [
       "11"
      ]
     },
     "execution_count": 8,
     "metadata": {},
     "output_type": "execute_result"
    }
   ],
   "source": [
    "text.find(\"s\")"
   ]
  },
  {
   "cell_type": "code",
   "execution_count": 9,
   "metadata": {},
   "outputs": [
    {
     "data": {
      "text/plain": [
       "60"
      ]
     },
     "execution_count": 9,
     "metadata": {},
     "output_type": "execute_result"
    }
   ],
   "source": [
    "text.index('laid')"
   ]
  },
  {
   "cell_type": "code",
   "execution_count": 10,
   "metadata": {},
   "outputs": [
    {
     "data": {
      "text/plain": [
       "'SLOWLY AND SOLEMNLY HE WAS BORNE INTO BRIONY LODGE 145A AND LAID OUT IN THE\\nPRINCIPAL ROOM, WHILE I (094)-44-33 STILL OBSERVED THE PROCEEDINGS FROM MY POST\\nBY THE WINDOW 12/15/1892.    THE LAMPS HAD BEEN LIT, BUT THE BLINDS HAD NOT BEEN\\nDRAWN, SO THAT I COULD SEE HOLMES SH_HOLMES221@MAIL.UK AS HE LAY UPON THE COUCH.... I DO NOT\\nKNOW WHETHER HE WAS SEIZED WITH COMPUNCTION AT THAT MOMENT FOR THE PART\\nHE WAS PLAYING, BUT I KNOW THAT I NEVER FELT MORE HEARTILY ASHAMED OF\\nMYSELF IN MY LIFE 34-34-32 THAN WHEN I SAW THE BEAUTIFUL CREATURE AGAINST WHOM\\nI WSTON23@MYMAIL.COM WAS CONSPIRING, OR THE GRACE AND KINDLINESS WITH WHICH SHE WAITED\\nUPON THE INJURED MAN. AND YET    IT WOULD BE THE BLACKEST TREACHERY TO 1895-11-17\\nHOLMES TO DRAW BACK NOW FROM THE PART WHICH HE HAD INTRUSTED TO ME AVENUE 123.\\nI HARDENED MY HEART WTASON STREET 45B, AND TOOK THE SMOKE-ROCKET FROM UNDER MY ULSTER.\\nAFTER ALL,, 344-21-01 I THOUGHT, WE ARE NOT INJURING HER. WE ARE BUT PREVENTING\\nHER FROM INJURING ANOTHER ADLERRR@MAIL.COM.'"
      ]
     },
     "execution_count": 10,
     "metadata": {},
     "output_type": "execute_result"
    }
   ],
   "source": [
    "text.upper()"
   ]
  },
  {
   "cell_type": "code",
   "execution_count": 11,
   "metadata": {
    "scrolled": true
   },
   "outputs": [
    {
     "data": {
      "text/plain": [
       "'slowly and solemnly he was borne into briony lodge 145a and laid out in the\\nprincipal room, while i (094)-44-33 still observed the proceedings from my post\\nby the window 12/15/1892.    the lamps had been lit, but the blinds had not been\\ndrawn, so that i could see holmes sh_holmes221@mail.uk as he lay upon the couch.... i do not\\nknow whether he was seized with compunction at that moment for the part\\nhe was playing, but i know that i never felt more heartily ashamed of\\nmyself in my life 34-34-32 than when i saw the beautiful creature against whom\\ni wston23@mymail.com was conspiring, or the grace and kindliness with which she waited\\nupon the injured man. and yet    it would be the blackest treachery to 1895-11-17\\nholmes to draw back now from the part which he had intrusted to me avenue 123.\\ni hardened my heart wtason street 45b, and took the smoke-rocket from under my ulster.\\nafter all,, 344-21-01 i thought, we are not injuring her. we are but preventing\\nher from injuring another adlerrr@mail.com.'"
      ]
     },
     "execution_count": 11,
     "metadata": {},
     "output_type": "execute_result"
    }
   ],
   "source": [
    "text.lower()"
   ]
  },
  {
   "cell_type": "code",
   "execution_count": 12,
   "metadata": {
    "scrolled": true
   },
   "outputs": [
    {
     "data": {
      "text/plain": [
       "'Slowly And Solemnly He Was Borne Into Briony Lodge 145A And Laid Out In The\\nPrincipal Room, While I (094)-44-33 Still Observed The Proceedings From My Post\\nBy The Window 12/15/1892.    The Lamps Had Been Lit, But The Blinds Had Not Been\\nDrawn, So That I Could See Holmes Sh_Holmes221@Mail.Uk As He Lay Upon The Couch.... I Do Not\\nKnow Whether He Was Seized With Compunction At That Moment For The Part\\nHe Was Playing, But I Know That I Never Felt More Heartily Ashamed Of\\nMyself In My Life 34-34-32 Than When I Saw The Beautiful Creature Against Whom\\nI Wston23@Mymail.Com Was Conspiring, Or The Grace And Kindliness With Which She Waited\\nUpon The Injured Man. And Yet    It Would Be The Blackest Treachery To 1895-11-17\\nHolmes To Draw Back Now From The Part Which He Had Intrusted To Me Avenue 123.\\nI Hardened My Heart Wtason Street 45B, And Took The Smoke-Rocket From Under My Ulster.\\nAfter All,, 344-21-01 I Thought, We Are Not Injuring Her. We Are But Preventing\\nHer From Injuring Another Adlerrr@Mail.Com.'"
      ]
     },
     "execution_count": 12,
     "metadata": {},
     "output_type": "execute_result"
    }
   ],
   "source": [
    "is_title= text.title()\n",
    "is_title"
   ]
  },
  {
   "cell_type": "code",
   "execution_count": 13,
   "metadata": {},
   "outputs": [
    {
     "data": {
      "text/plain": [
       "'Slowly and solemnly he was borne into briony lodge 145a and laid out in the\\nprincipal room, while i (094)-44-33 still observed the proceedings from my post\\nby the window 12/15/1892.    the lamps had been lit, but the blinds had not been\\ndrawn, so that i could see holmes sh_holmes221@mail.uk as he lay upon the couch.... i do not\\nknow whether he was seized with compunction at that moment for the part\\nhe was playing, but i know that i never felt more heartily ashamed of\\nmyself in my life 34-34-32 than when i saw the beautiful creature against whom\\ni wston23@mymail.com was conspiring, or the grace and kindliness with which she waited\\nupon the injured man. and yet    it would be the blackest treachery to 1895-11-17\\nholmes to draw back now from the part which he had intrusted to me avenue 123.\\ni hardened my heart wtason street 45b, and took the smoke-rocket from under my ulster.\\nafter all,, 344-21-01 i thought, we are not injuring her. we are but preventing\\nher from injuring another adlerrr@mail.com.'"
      ]
     },
     "execution_count": 13,
     "metadata": {},
     "output_type": "execute_result"
    }
   ],
   "source": [
    "text.capitalize()"
   ]
  },
  {
   "cell_type": "code",
   "execution_count": 14,
   "metadata": {},
   "outputs": [
    {
     "data": {
      "text/plain": [
       "'Slowly ?nd solemnly he w?s borne into Briony LODgE 145? ?nd l?id out in the\\nprincip?l room, while I (094)-44-33 still observed the proceedings from my post\\nby the window 12/15/1892.    The l?mps h?d been lit, but the blinds h?d not been\\ndr?wn, so th?t I could see Holmes sh_holmes221@m?il.uk ?s he l?y upon the couch.... I do not\\nknow whether he w?s seized with compunction ?t th?t moment for the p?rt\\nhe w?s pl?ying, but I know th?t I never felt more he?rtily ?sh?med of\\nmyself in my life 34-34-32 th?n when I s?w the be?utiful cre?ture ?g?inst whom\\nI wston23@mym?il.com w?s conspiring, or the gr?ce ?nd kindliness with which she w?ited\\nupon the injured m?n. And yet    it would be the bl?ckest tre?chery to 1895-11-17\\nHolmes to dr?w b?ck now from the p?rt which he h?d intrusted to me AveNUe 123.\\nI h?rdened my he?rt Wt?son Street 45b, ?nd took the smoke-rocket from under my ulster.\\nAfter ?ll,, 344-21-01 I thought, we ?re not injuring her. We ?re but preventing\\nher from injuring ?nother ?dlerrr@m?il.com.'"
      ]
     },
     "execution_count": 14,
     "metadata": {},
     "output_type": "execute_result"
    }
   ],
   "source": [
    "split_text = text.split('a')\n",
    "'?'.join(split_text)"
   ]
  },
  {
   "cell_type": "code",
   "execution_count": 15,
   "metadata": {},
   "outputs": [
    {
     "data": {
      "text/plain": [
       "'Slowly ?nd solemnly he w?s borne into Briony LODgE 145? ?nd l?id out in the\\nprincip?l room, while I (094)-44-33 still observed the proceedings from my post\\nby the window 12/15/1892.    The l?mps h?d been lit, but the blinds h?d not been\\ndr?wn, so th?t I could see Holmes sh_holmes221@m?il.uk ?s he l?y upon the couch.... I do not\\nknow whether he w?s seized with compunction ?t th?t moment for the p?rt\\nhe w?s pl?ying, but I know th?t I never felt more he?rtily ?sh?med of\\nmyself in my life 34-34-32 th?n when I s?w the be?utiful cre?ture ?g?inst whom\\nI wston23@mym?il.com w?s conspiring, or the gr?ce ?nd kindliness with which she w?ited\\nupon the injured m?n. And yet    it would be the bl?ckest tre?chery to 1895-11-17\\nHolmes to dr?w b?ck now from the p?rt which he h?d intrusted to me AveNUe 123.\\nI h?rdened my he?rt Wt?son Street 45b, ?nd took the smoke-rocket from under my ulster.\\nAfter ?ll,, 344-21-01 I thought, we ?re not injuring her. We ?re but preventing\\nher from injuring ?nother ?dlerrr@m?il.com.'"
      ]
     },
     "execution_count": 15,
     "metadata": {},
     "output_type": "execute_result"
    }
   ],
   "source": [
    "replaced_text = text.replace('a', '?')\n",
    "replaced_text"
   ]
  },
  {
   "cell_type": "code",
   "execution_count": 16,
   "metadata": {},
   "outputs": [
    {
     "data": {
      "text/plain": [
       "True"
      ]
     },
     "execution_count": 16,
     "metadata": {},
     "output_type": "execute_result"
    }
   ],
   "source": [
    "text.startswith('S')"
   ]
  },
  {
   "cell_type": "markdown",
   "metadata": {},
   "source": [
    "## Task 2"
   ]
  },
  {
   "cell_type": "code",
   "execution_count": 1,
   "metadata": {},
   "outputs": [],
   "source": [
    "import re"
   ]
  },
  {
   "cell_type": "markdown",
   "metadata": {},
   "source": [
    "\\b: Asserts a word boundary. This means the match must occur at the beginning or end of a word.\n",
    "\n",
    "[A-Z]: Matches any uppercase letter from A to Z.\n",
    "\n",
    "[a-z]+: Matches one or more lowercase letters.\n",
    "\n",
    "\\s*: Matches zero or more whitespace characters. It is \\s* and not \\s+ because we have to account for situations where there is no second word in the street name. \n",
    "\n",
    "(?:[A-Za-z]+\\s+)?: This is a non-capturing group (due to ?:) that matches an optional part of the address.\n",
    "\n",
    "\\d+: Matches one or more digits. This part is expected to match the street number part of an address.\n",
    "\n",
    "[a-zA-Z]?: Matches zero or one occurrence of any letter, either uppercase or lowercase."
   ]
  },
  {
   "cell_type": "code",
   "execution_count": 4,
   "metadata": {},
   "outputs": [
    {
     "data": {
      "text/plain": [
       "['Briony LODgE 145a', 'AveNUe 123', 'Wtason Street 45b']"
      ]
     },
     "execution_count": 4,
     "metadata": {},
     "output_type": "execute_result"
    }
   ],
   "source": [
    "address_pattern = r'\\b[A-Z][a-z]+\\s*(?:[A-Za-z]+\\s+)?\\d+[a-zA-Z]?\\b'\n",
    "addresses = re.findall(address_pattern, text)\n",
    "addresses\n"
   ]
  },
  {
   "cell_type": "code",
   "execution_count": 22,
   "metadata": {},
   "outputs": [
    {
     "name": "stdout",
     "output_type": "stream",
     "text": [
      "Slowly and solemnly he was borne into Briony LODgE 1XXa and laid out in the\n",
      "principal room, while I (094)-44-33 still observed the proceedings from my post\n",
      "by the window 12/15/1892.    The lamps had been lit, but the blinds had not been\n",
      "drawn, so that I could see Holmes sh_holmes221@mail.uk as he lay upon the couch.... I do not\n",
      "know whether he was seized with compunction at that moment for the part\n",
      "he was playing, but I know that I never felt more heartily ashamed of\n",
      "myself in my life 34-34-32 than when I saw the beautiful creature against whom\n",
      "I wston23@mymail.com was conspiring, or the grace and kindliness with which she waited\n",
      "upon the injured man. And yet    it would be the blackest treachery to 1895-11-17\n",
      "Holmes to draw back now from the part which he had intrusted to me AveNUe 1XX.\n",
      "I hardened my heart Wtason Street 4Xb, and took the smoke-rocket from under my ulster.\n",
      "After all,, 344-21-01 I thought, we are not injuring her. We are but preventing\n",
      "her from injuring another adlerrr@mail.com.\n"
     ]
    }
   ],
   "source": [
    "def replace_digits(match):\n",
    "    address = match.group(0)\n",
    "    first_digit_index = re.search(r'\\d', address).start()\n",
    "    modified_address = address[:first_digit_index+1] + re.sub(r'\\d', 'X', address[first_digit_index+1:])\n",
    "    return modified_address\n",
    "\n",
    "modified_text = re.sub(address_pattern, replace_digits, text)\n",
    "\n",
    "print(modified_text)"
   ]
  },
  {
   "cell_type": "markdown",
   "metadata": {},
   "source": [
    "### Висновок:\n",
    "В ході виконання даної лабораторної роботи я ознайомився з основними методами та функціями для роботи з текстовими даними в Python, зокрема з представленням тексту у вигляді рядків та використанням регулярних виразів для пошуку та заміни в тексті. Лабораторна робота дала можливість практично застосувати набуті теоретичні знання для вирішення конкретного завдання: знаходження всіх номерів будинків у тексті та заміна всіх цифр після першої на вказаний символ. \n",
    "\n",
    "Процес включав читання текстового файлу, використання регулярних виразів для ідентифікації відповідних фрагментів тексту, та модифікацію знайдених збігів згідно з умовами задачі. Це дозволило глибше розуміти, як можна маніпулювати текстовими даними, а також важливість регулярних виразів у процесі обробки тексту.\n",
    "\n",
    "Однією з ключових вигод лабораторної роботи було освоєння використання функцій `re.findall` для знаходження всіх відповідностей певному шаблону в тексті та `re.sub` для заміни знайдених фрагментів на нові, модифіковані рядки. Ці навички будуть корисними для подальших завдань по обробці та аналізу текстових даних.\n",
    "\n",
    "Завдяки виконанню цієї роботи я набув цінного досвіду в роботі з текстовими даними на Python, що безперечно знадобиться мені у майбутньому для реалізації проєктів, пов'язаних із обробкою та аналізом тексту."
   ]
  }
 ],
 "metadata": {
  "kernelspec": {
   "display_name": "Python 3 (ipykernel)",
   "language": "python",
   "name": "python3"
  },
  "language_info": {
   "codemirror_mode": {
    "name": "ipython",
    "version": 3
   },
   "file_extension": ".py",
   "mimetype": "text/x-python",
   "name": "python",
   "nbconvert_exporter": "python",
   "pygments_lexer": "ipython3",
   "version": "3.10.13"
  }
 },
 "nbformat": 4,
 "nbformat_minor": 2
}
