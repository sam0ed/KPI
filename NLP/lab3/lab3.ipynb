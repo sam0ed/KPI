{
 "cells": [
  {
   "cell_type": "markdown",
   "metadata": {},
   "source": [
    "### Лабораторна робота №3, Обробка та аналіз текстових даних на Python, Варіант 14\n",
    "**Виконав**: студент групи ІП-11, Лошак Віктор Іванович<br>\n",
    "**Перевірив**: Юлія Тимофєєва Сергіївна<br>\n",
    "\n",
    "**Тема роботи**: Моделі текстових даних<br>\n",
    "**Мета роботи**: Ознайомитись  з  основними  текстовими  моделями  та  їх створення за допомогою бібліотек scikit-learn та genism.\n",
    "\n",
    "16.03.2024"
   ]
  },
  {
   "cell_type": "markdown",
   "metadata": {},
   "source": [
    "**Постановка задачі**:<br>\n",
    "Зчитати файл doc14. Вважати кожен рядок окремим документом корпусу. Виконати попередню обробку корпусу.\n",
    "1) Представити корпус як модель «Сумка слів». Вивести вектор для слова juice.\n",
    "2) Представити корпус як модель TF-IDF. Спробувати кластеризувати документи за допомогою ієрархічної агломераційної кластеризації.\n",
    "3) Представити корпус як модель FastText. Знайти подібні слова до слів fruit, chancellor.<br>\n",
    "\n",
    "**Task**:<br>\n",
    "Read file doc14. Consider each line as a separate document of the corpus. Carry out preliminary processing of the case.\n",
    "1) Present the corpus as a \"Bag of Words\" model. Output the vector for the word juice.\n",
    "2) Present the case as a TF-IDF model. Try to cluster documents using hierarchical agglomeration clustering.\n",
    "3) Represent the corpus as a FastText model. Find similar words to the words fruit, chancellor."
   ]
  },
  {
   "cell_type": "code",
   "execution_count": 26,
   "metadata": {},
   "outputs": [
    {
     "data": {
      "text/plain": [
       "['Fruit juice, in particular, is a highly concentrated source of fruit sugar.\\n',\n",
       " 'Fruits and vegetables are “juicy foods” that consist mostly of water.\\n',\n",
       " \"The government says the lord chancellor would be unlikely to go against Lord Woolf's wishes.\\n\",\n",
       " 'Vegetables are naturally lower in sugar than fruit, which means freshly made vegetable juice is lower in calories than fruit juice.\\n',\n",
       " 'Lord Woolf said the current rules were not written down but it was inconceivable in practice that the lord chancellor would overrule his concerns.\\n',\n",
       " 'If you are going to drink juice, look for 100 percent juice.']"
      ]
     },
     "execution_count": 26,
     "metadata": {},
     "output_type": "execute_result"
    }
   ],
   "source": [
    "with open('doc14.txt', 'r', encoding='utf-8') as file:\n",
    "    documents = file.readlines()\n",
    "    \n",
    "documents"
   ]
  },
  {
   "cell_type": "markdown",
   "metadata": {},
   "source": [
    "#### Task 1:\n",
    "Preprocess the documents: Tokenize, remove punctuation, and lowercase. This will be automatically handled by CountVectorizer to some extent"
   ]
  },
  {
   "cell_type": "code",
   "execution_count": 4,
   "metadata": {},
   "outputs": [
    {
     "data": {
      "text/plain": [
       "array([[1],\n",
       "       [0],\n",
       "       [0],\n",
       "       [2],\n",
       "       [0],\n",
       "       [2]], dtype=int64)"
      ]
     },
     "execution_count": 4,
     "metadata": {},
     "output_type": "execute_result"
    }
   ],
   "source": [
    "from sklearn.feature_extraction.text import CountVectorizer\n",
    "import io\n",
    "\n",
    "vectorizer = CountVectorizer()\n",
    "X = vectorizer.fit_transform(documents)\n",
    "\n",
    "# Get the feature names to find the index of 'juice'\n",
    "features = vectorizer.get_feature_names_out()\n",
    "juice_index = features.tolist().index('juice')\n",
    "juice_vector = X[:, juice_index].toarray()\n",
    "juice_vector"
   ]
  },
  {
   "cell_type": "markdown",
   "metadata": {},
   "source": [
    "#### Task 2:\n",
    "Term Frequency-Inverse Document Frequency"
   ]
  },
  {
   "cell_type": "code",
   "execution_count": 28,
   "metadata": {},
   "outputs": [
    {
     "data": {
      "image/png": "[encoded data removed]",
      "text/plain": [
       "<Figure size 1000x500 with 1 Axes>"
      ]
     },
     "metadata": {},
     "output_type": "display_data"
    }
   ],
   "source": [
    "from sklearn.feature_extraction.text import TfidfVectorizer\n",
    "from sklearn.metrics.pairwise import cosine_similarity\n",
    "from scipy.cluster.hierarchy import dendrogram, linkage\n",
    "import matplotlib.pyplot as plt\n",
    "\n",
    "# Initialize TfidfVectorizer\n",
    "tfidf_vectorizer = TfidfVectorizer()\n",
    "X_tfidf = tfidf_vectorizer.fit_transform(documents)\n",
    "similarity_matrix = cosine_similarity(X_tfidf)\n",
    "Z = linkage(similarity_matrix, 'ward')\n",
    "\n",
    "plt.figure(figsize=(10, 5))\n",
    "plt.title('Hierarchical Agglomerative Clustering Dendrogram')\n",
    "plt.xlabel('Document')\n",
    "plt.ylabel('Distance')\n",
    "dendrogram(Z, labels=[f'Document {i+1}' for i in range(len(documents))])\n",
    "plt.show()\n"
   ]
  },
  {
   "cell_type": "markdown",
   "metadata": {},
   "source": [
    "Оскільки в завданні лабораторної нічого не сказано про те що корпуси повинні бути лемізовані, ми використовуємо просту токенізацію на основі слів на етапі preprocessing. "
   ]
  },
  {
   "cell_type": "code",
   "execution_count": 27,
   "metadata": {},
   "outputs": [
    {
     "data": {
      "text/plain": [
       "['fruit', 'highly', 'concentrated', 'source', 'fruit']"
      ]
     },
     "execution_count": 27,
     "metadata": {},
     "output_type": "execute_result"
    }
   ],
   "source": [
    "from gensim.models import FastText\n",
    "from nltk.tokenize import word_tokenize\n",
    "from nltk.corpus import stopwords\n",
    "\n",
    "# Preprocess and tokenize the documents for FastText\n",
    "filtered_docs = [[word.lower() for word in doc.split(' ') if word.lower() not in stopwords.words('english') and word.isalnum()] for doc in documents ]\n",
    "tokenized_documents = [word_tokenize(\" \".join(doc)) for doc in filtered_docs]\n",
    "tokenized_documents[0]\n"
   ]
  },
  {
   "cell_type": "code",
   "execution_count": 25,
   "metadata": {},
   "outputs": [
    {
     "data": {
      "text/plain": [
       "([('fruits', 0.6521599292755127),\n",
       "  ('vegetables', 0.19277454912662506),\n",
       "  ('would', 0.1823713779449463),\n",
       "  ('rules', 0.179280623793602),\n",
       "  ('vegetable', 0.16435931622982025)],\n",
       " [('unlikely', 0.2521481513977051),\n",
       "  ('consist', 0.2121196985244751),\n",
       "  ('calories', 0.17138417065143585),\n",
       "  ('rules', 0.16312173008918762),\n",
       "  ('source', 0.139206662774086)])"
      ]
     },
     "execution_count": 25,
     "metadata": {},
     "output_type": "execute_result"
    }
   ],
   "source": [
    "\n",
    "# Initialize and train the FastText model\n",
    "fasttext_model = FastText(vector_size=100, window=5, min_count=1)\n",
    "fasttext_model.build_vocab(corpus_iterable=tokenized_documents)\n",
    "fasttext_model.train(corpus_iterable=tokenized_documents, total_examples=len(tokenized_documents), epochs=10)\n",
    "\n",
    "# Find similar words to 'fruit' and 'chancellor'\n",
    "similar_to_fruit = fasttext_model.wv.most_similar('fruit', topn=5)\n",
    "similar_to_chancellor = fasttext_model.wv.most_similar('chancellor', topn=5)\n",
    "\n",
    "similar_to_fruit, similar_to_chancellor\n"
   ]
  },
  {
   "cell_type": "markdown",
   "metadata": {},
   "source": [
    "Як видно з результатів, слова такі як fruits -- множина fruit та vegetables -- аналог fruit за змістом , розташовані ближче до fruit у відповідному embedding space."
   ]
  },
  {
   "cell_type": "markdown",
   "metadata": {},
   "source": [
    "### Висновок:\n",
    "В ході виконання даної лабораторної роботи я ознайомився з основними методами обробки та аналізу текстових даних в Python, використовуючи бібліотеки scikit-learn та gensim. Було розглянуто три ключові моделі представлення текстових даних: модель «Сумка слів», TF-IDF та FastText, кожна з яких має свої особливості та сфери застосування.\n",
    "\n",
    "Завдання лабораторної роботи включало не тільки побудову моделей, але й розуміння принципів їх роботи та аналіз отриманих результатів. Хоча в процесі виконання роботи не було застосовано лематизацію текстів перед тренуванням моделі FastText, це рішення було зумовлено специфікою завдань та особливостями моделі, що вміє ефективно працювати з різними формами слів. \n",
    "\n",
    "Таким чином, виконання лабораторної роботи не тільки сприяло кращому розумінню різних підходів до обробки текстових даних, але й дало важливі практичні навички для їх застосування у майбутніх проектах."
   ]
  }
 ],
 "metadata": {
  "kernelspec": {
   "display_name": "pip_env",
   "language": "python",
   "name": "python3"
  },
  "language_info": {
   "codemirror_mode": {
    "name": "ipython",
    "version": 3
   },
   "file_extension": ".py",
   "mimetype": "text/x-python",
   "name": "python",
   "nbconvert_exporter": "python",
   "pygments_lexer": "ipython3",
   "version": "3.10.13"
  }
 },
 "nbformat": 4,
 "nbformat_minor": 2
}
