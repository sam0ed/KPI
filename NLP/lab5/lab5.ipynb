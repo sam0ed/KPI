{
 "cells": [
  {
   "cell_type": "markdown",
   "metadata": {},
   "source": [
    "### Лабораторна робота №5, Обробка та аналіз текстових даних на Python, Варіант 14\n",
    "**Виконав**: студент групи ІП-11, Лошак Віктор Іванович<br>\n",
    "**Перевірив**: Юлія Тимофєєва Сергіївна<br>\n",
    "\n",
    "**Тема роботи**: Моделювання тем<br>\n",
    "**Мета роботи**: Ознайомитись з вирішенням задач пошуку ключових слів та моделювання тем.\n",
    "\n",
    "18.03.2024"
   ]
  },
  {
   "cell_type": "markdown",
   "metadata": {},
   "source": [
    "**Завдання**:<br>\n",
    "1. Застосувати прихований розподіл Діріхле бібліотеки scikit-learn для моделювання тем. Обрати оптимальну кількість тем, оцінивши та порівнявши різні моделі. Вивести терми, що описують кожну з тем.\n",
    "2. Використати текст chesterton-ball.txt з корпусу gutenberg бібліотеки nltk та вивести ключові біграми.\n",
    "\n",
    "**Task**:<br>\n",
    "1. Apply the hidden Dirichlet distribution of the scikit-learn library to model topics. Choose the optimal number of topics by evaluating and comparing different models. Derive terms describing each of the topics.\n",
    "2. Use the text chesterton-ball.txt from the gutenberg corpus of the nltk library and output key bigrams."
   ]
  },
  {
   "cell_type": "markdown",
   "metadata": {},
   "source": [
    "#### Task 1"
   ]
  },
  {
   "cell_type": "code",
   "execution_count": 2,
   "metadata": {},
   "outputs": [],
   "source": [
    "import pandas as pd\n",
    "import csv\n",
    "from sklearn.feature_extraction.text import CountVectorizer\n",
    "from sklearn.decomposition import LatentDirichletAllocation\n",
    "import matplotlib.pyplot as plt"
   ]
  },
  {
   "cell_type": "code",
   "execution_count": 3,
   "metadata": {},
   "outputs": [
    {
     "name": "stdout",
     "output_type": "stream",
     "text": [
      "The CSV delimiter is: \"b'\\t'\"\n"
     ]
    },
    {
     "data": {
      "text/html": [
       "<div>\n",
       "<style scoped>\n",
       "    .dataframe tbody tr th:only-of-type {\n",
       "        vertical-align: middle;\n",
       "    }\n",
       "\n",
       "    .dataframe tbody tr th {\n",
       "        vertical-align: top;\n",
       "    }\n",
       "\n",
       "    .dataframe thead th {\n",
       "        text-align: right;\n",
       "    }\n",
       "</style>\n",
       "<table border=\"1\" class=\"dataframe\">\n",
       "  <thead>\n",
       "    <tr style=\"text-align: right;\">\n",
       "      <th></th>\n",
       "      <th>category</th>\n",
       "      <th>filename</th>\n",
       "      <th>title</th>\n",
       "      <th>content</th>\n",
       "    </tr>\n",
       "  </thead>\n",
       "  <tbody>\n",
       "    <tr>\n",
       "      <th>0</th>\n",
       "      <td>business</td>\n",
       "      <td>001.txt</td>\n",
       "      <td>Ad sales boost Time Warner profit</td>\n",
       "      <td>Quarterly profits at US media giant TimeWarne...</td>\n",
       "    </tr>\n",
       "    <tr>\n",
       "      <th>1</th>\n",
       "      <td>business</td>\n",
       "      <td>002.txt</td>\n",
       "      <td>Dollar gains on Greenspan speech</td>\n",
       "      <td>The dollar has hit its highest level against ...</td>\n",
       "    </tr>\n",
       "    <tr>\n",
       "      <th>2</th>\n",
       "      <td>business</td>\n",
       "      <td>003.txt</td>\n",
       "      <td>Yukos unit buyer faces loan claim</td>\n",
       "      <td>The owners of embattled Russian oil giant Yuk...</td>\n",
       "    </tr>\n",
       "    <tr>\n",
       "      <th>3</th>\n",
       "      <td>business</td>\n",
       "      <td>004.txt</td>\n",
       "      <td>High fuel prices hit BA's profits</td>\n",
       "      <td>British Airways has blamed high fuel prices f...</td>\n",
       "    </tr>\n",
       "    <tr>\n",
       "      <th>4</th>\n",
       "      <td>business</td>\n",
       "      <td>005.txt</td>\n",
       "      <td>Pernod takeover talk lifts Domecq</td>\n",
       "      <td>Shares in UK drinks and food firm Allied Dome...</td>\n",
       "    </tr>\n",
       "  </tbody>\n",
       "</table>\n",
       "</div>"
      ],
      "text/plain": [
       "   category filename                              title  \\\n",
       "0  business  001.txt  Ad sales boost Time Warner profit   \n",
       "1  business  002.txt   Dollar gains on Greenspan speech   \n",
       "2  business  003.txt  Yukos unit buyer faces loan claim   \n",
       "3  business  004.txt  High fuel prices hit BA's profits   \n",
       "4  business  005.txt  Pernod takeover talk lifts Domecq   \n",
       "\n",
       "                                             content  \n",
       "0   Quarterly profits at US media giant TimeWarne...  \n",
       "1   The dollar has hit its highest level against ...  \n",
       "2   The owners of embattled Russian oil giant Yuk...  \n",
       "3   British Airways has blamed high fuel prices f...  \n",
       "4   Shares in UK drinks and food firm Allied Dome...  "
      ]
     },
     "execution_count": 3,
     "metadata": {},
     "output_type": "execute_result"
    }
   ],
   "source": [
    "file_path = 'bbc-news-data.csv'\n",
    "with open(file_path, 'r', encoding='utf-8') as file:\n",
    "    dialect = csv.Sniffer().sniff(file.readline())\n",
    "    file.seek(0) \n",
    "    delimiter = dialect.delimiter\n",
    "\n",
    "print(f'The CSV delimiter is: \"{delimiter.encode()}\"')\n",
    "df = pd.read_csv(file_path, delimiter=delimiter)\n",
    "df.head()"
   ]
  },
  {
   "cell_type": "code",
   "execution_count": 4,
   "metadata": {},
   "outputs": [
    {
     "data": {
      "text/plain": [
       "' Quarterly profits at US media giant TimeWarner jumped 76% to $1.13bn (£600m) for the three months to December, from $639m year-earlier.  The firm, which is now one of the biggest investors in Google, benefited from sales of high-speed internet connections and higher advert sales. TimeWarner said fourth quarter sales rose 2% to $11.1bn from $10.9bn. Its profits were buoyed by one-off gains which offset a profit dip at Warner Bros, and less users for AOL.  Time Warner said on Friday that it now owns 8% of search-engine Google. But its own internet business, AOL, had has mixed fortunes. It lost 464,000 subscribers in the fourth quarter profits were lower than in the preceding three quarters. However, the company said AOL\\'s underlying profit before exceptional items rose 8% on the back of stronger internet advertising revenues. It hopes to increase subscribers by offering the online service free to TimeWarner internet customers and will try to sign up AOL\\'s existing customers for high-speed broadband. TimeWarner also has to restate 2000 and 2003 results following a probe by the US Securities Exchange Commission (SEC), which is close to concluding.  Time Warner\\'s fourth quarter profits were slightly better than analysts\\' expectations. But its film division saw profits slump 27% to $284m, helped by box-office flops Alexander and Catwoman, a sharp contrast to year-earlier, when the third and final film in the Lord of the Rings trilogy boosted results. For the full-year, TimeWarner posted a profit of $3.36bn, up 27% from its 2003 performance, while revenues grew 6.4% to $42.09bn. \"Our financial performance was strong, meeting or exceeding all of our full-year objectives and greatly enhancing our flexibility,\" chairman and chief executive Richard Parsons said. For 2005, TimeWarner is projecting operating earnings growth of around 5%, and also expects higher revenue and wider profit margins.  TimeWarner is to restate its accounts as part of efforts to resolve an inquiry into AOL by US market regulators. It has already offered to pay $300m to settle charges, in a deal that is under review by the SEC. The company said it was unable to estimate the amount it needed to set aside for legal reserves, which it previously set at $500m. It intends to adjust the way it accounts for a deal with German music publisher Bertelsmann\\'s purchase of a stake in AOL Europe, which it had reported as advertising revenue. It will now book the sale of its stake in AOL Europe as a loss on the value of that stake. '"
      ]
     },
     "execution_count": 4,
     "metadata": {},
     "output_type": "execute_result"
    }
   ],
   "source": [
    "documents = df['content'].tolist()\n",
    "documents[0]"
   ]
  },
  {
   "cell_type": "code",
   "execution_count": 5,
   "metadata": {},
   "outputs": [],
   "source": [
    "vectorizer = CountVectorizer(max_df=0.95, min_df=2, stop_words='english')\n",
    "dtm = vectorizer.fit_transform(documents)\n"
   ]
  },
  {
   "cell_type": "code",
   "execution_count": 6,
   "metadata": {},
   "outputs": [
    {
     "data": {
      "image/png": "[encoded data removed]",
      "text/plain": [
       "<Figure size 640x480 with 1 Axes>"
      ]
     },
     "metadata": {},
     "output_type": "display_data"
    }
   ],
   "source": [
    "def compute_perplexity_scores(dtm, max_topics=15):\n",
    "    perplexity_scores = []\n",
    "    for n_topics in range(1, max_topics + 1):\n",
    "        lda = LatentDirichletAllocation(n_components=n_topics, random_state=0)\n",
    "        lda.fit(dtm)\n",
    "        perplexity_scores.append(lda.perplexity(dtm))\n",
    "    return perplexity_scores\n",
    "\n",
    "perplexity_scores = compute_perplexity_scores(dtm, max_topics=15)\n",
    "\n",
    "plt.plot(range(1, 16), perplexity_scores)\n",
    "plt.xlabel('Number of Topics')\n",
    "plt.ylabel('Perplexity Score')\n",
    "plt.title('LDA Perplexity by Number of Topics')\n",
    "plt.show()\n"
   ]
  },
  {
   "cell_type": "code",
   "execution_count": 13,
   "metadata": {},
   "outputs": [
    {
     "name": "stdout",
     "output_type": "stream",
     "text": [
      "Topic #1:\n",
      "said mr government labour people election party blair minister new\n",
      "Topic #2:\n",
      "said game club time play win players united match cup\n",
      "Topic #3:\n",
      "said people mobile technology digital music new games phone like\n",
      "Topic #4:\n",
      "said mr people new security software firms search firm companies\n",
      "Topic #5:\n",
      "film said best year director awards won award star actor\n",
      "Topic #6:\n",
      "said year market growth economy sales 2004 economic new bank\n",
      "Topic #7:\n",
      "said music year world england new best time wales number\n",
      "\n"
     ]
    }
   ],
   "source": [
    "n_optimal = 7\n",
    "lda_optimal = LatentDirichletAllocation(n_components=n_optimal, random_state=0)\n",
    "lda_optimal.fit(dtm)\n",
    "\n",
    "def print_top_words(model, feature_names, n_top_words=10):\n",
    "    for topic_idx, topic in enumerate(model.components_):\n",
    "        print(f\"Topic #{topic_idx+1}:\")\n",
    "        print(\" \".join([feature_names[i] for i in topic.argsort()[:-n_top_words - 1:-1]]))\n",
    "    print()\n",
    "\n",
    "print_top_words(lda_optimal, vectorizer.get_feature_names_out())\n"
   ]
  },
  {
   "cell_type": "markdown",
   "metadata": {},
   "source": [
    "Щоб уникнути повторення термів в темах, використаємо наступний підхід:"
   ]
  },
  {
   "cell_type": "markdown",
   "metadata": {},
   "source": [
    "topic.argsort(): This method returns an array of indices that would sort the topic array in ascending order. For example, if topic was [0.1, 0.3, 0.2], argsort() would return [0, 2, 1], which are the indices of the smallest, next smallest, and largest elements, respectively.\n",
    "\n",
    "[:-n_top_words-1:-1]: This is a slicing operation that selects the last n_top_words indices from the sorted array. The -1 at the end means to go backwards, so it starts from the end of the array (which are the largest elements because argsort sorts in ascending order).\n",
    "\n",
    "[feature_names[i] for i in ...]: This is a list comprehension that uses the selected indices to get the corresponding words from feature_names, which is assumed to be a list of all words in the vocabulary."
   ]
  },
  {
   "cell_type": "code",
   "execution_count": 8,
   "metadata": {},
   "outputs": [],
   "source": [
    "# def print_unique_top_words(model, feature_names, n_top_words=10):\n",
    "#     topic_terms = {}  # Dictionary to hold terms for each topic\n",
    "#     all_terms = set()  # Set to keep track of all terms used across topics\n",
    "\n",
    "#     # Initial pass to get the top n_top_words for each topic\n",
    "#     for topic_idx, topic in enumerate(model.components_):\n",
    "#         top_terms = [feature_names[i] for i in topic.argsort()[:-n_top_words-1:-1]]\n",
    "#         topic_terms[topic_idx] = top_terms\n",
    "#         all_terms.update(top_terms)\n",
    "\n",
    "#     # Check for duplicates and replace them\n",
    "#     for topic_idx, terms in topic_terms.items():\n",
    "#         unique_terms = [term for term in terms if list(all_terms).count(term) == 1]  # Filter out duplicates\n",
    "#         extra_terms_needed = n_top_words - len(unique_terms)\n",
    "        \n",
    "#         if extra_terms_needed > 0:\n",
    "#             # Get additional terms for the topic, skipping over ones already in unique_terms or in other topics\n",
    "#             all_terms_in_other_topics = set.union(*[set(terms) for idx, terms in topic_terms.items() if idx != topic_idx])\n",
    "#             candidate_terms = [feature_names[i] for i in model.components_[topic_idx].argsort() if feature_names[i] not in all_terms_in_other_topics and feature_names[i] not in unique_terms]\n",
    "#             unique_terms.extend(candidate_terms[:extra_terms_needed])\n",
    "        \n",
    "#         # Update the list of terms for the topic and the set of all used terms\n",
    "#         topic_terms[topic_idx] = unique_terms\n",
    "#         all_terms = set.union(all_terms, set(unique_terms))\n",
    "\n",
    "#     # Print the unique terms for each topic\n",
    "#     for topic_idx, terms in topic_terms.items():\n",
    "#         print(f\"Topic #{topic_idx + 1}:\")\n",
    "#         print(\" \".join(terms))\n",
    "\n",
    "# # Assuming lda_optimal and vectorizer are already defined and fitted\n",
    "# print_unique_top_words(lda_optimal, vectorizer.get_feature_names_out())\n"
   ]
  },
  {
   "cell_type": "markdown",
   "metadata": {},
   "source": [
    "#### Task 2"
   ]
  },
  {
   "cell_type": "code",
   "execution_count": 9,
   "metadata": {},
   "outputs": [],
   "source": [
    "import nltk\n",
    "from nltk.collocations import BigramCollocationFinder\n",
    "from nltk.collocations import BigramAssocMeasures\n",
    "from nltk.corpus import stopwords\n",
    "from nltk.corpus import gutenberg"
   ]
  },
  {
   "cell_type": "code",
   "execution_count": 15,
   "metadata": {},
   "outputs": [
    {
     "data": {
      "text/plain": [
       "(['ball',\n",
       "  'cross',\n",
       "  'g',\n",
       "  'k',\n",
       "  'chesterton',\n",
       "  'discussion',\n",
       "  'somewhat',\n",
       "  'air',\n",
       "  'flying',\n",
       "  'ship'],\n",
       " ['[', 'The', 'Ball', 'and', 'The', 'Cross', 'by', 'G', ...])"
      ]
     },
     "execution_count": 15,
     "metadata": {},
     "output_type": "execute_result"
    }
   ],
   "source": [
    "words = gutenberg.words('chesterton-ball.txt')\n",
    "stop_words = set(stopwords.words('english'))\n",
    "filtered_words = [word.lower() for word in words if word.lower() not in stop_words and word.isalpha()]\n",
    "filtered_words[:10], words"
   ]
  },
  {
   "cell_type": "markdown",
   "metadata": {},
   "source": [
    "Шукаємо біграми за найвищими значеннями поточкової взаємної інформації"
   ]
  },
  {
   "cell_type": "code",
   "execution_count": 11,
   "metadata": {},
   "outputs": [
    {
     "data": {
      "text/plain": [
       "[('aback', 'boisterous'),\n",
       " ('abelard', 'anatole'),\n",
       " ('abide', 'uttermost'),\n",
       " ('abstractedly', 'boring'),\n",
       " ('accommodated', 'indoors'),\n",
       " ('ace', 'spades'),\n",
       " ('active', 'birdlike'),\n",
       " ('adam', 'eve'),\n",
       " ('adult', 'reformatory'),\n",
       " ('adverse', 'theories')]"
      ]
     },
     "execution_count": 11,
     "metadata": {},
     "output_type": "execute_result"
    }
   ],
   "source": [
    "finder = BigramCollocationFinder.from_words(filtered_words)\n",
    "bigram_measures = BigramAssocMeasures()\n",
    "finder.nbest(bigram_measures.pmi, 10)"
   ]
  },
  {
   "cell_type": "markdown",
   "metadata": {},
   "source": [
    "Шукаємо біграми за частотою зустрічі:"
   ]
  },
  {
   "cell_type": "code",
   "execution_count": 12,
   "metadata": {},
   "outputs": [
    {
     "name": "stdout",
     "output_type": "stream",
     "text": [
      "('said', 'turnbull') 0.003046707793025305\n",
      "('said', 'macian') 0.0021150698728440134\n",
      "('project', 'gutenberg') 0.0007302026941961475\n",
      "('said', 'evan') 0.0007050232909480046\n",
      "('macian', 'said') 0.0006294850812035755\n",
      "('let', 'us') 0.0006043056779554324\n",
      "('mr', 'turnbull') 0.0005539468714591464\n",
      "('asked', 'turnbull') 0.0005287674682110034\n",
      "('like', 'one') 0.0005287674682110034\n",
      "('turnbull', 'said') 0.0005287674682110034\n"
     ]
    }
   ],
   "source": [
    "finder.apply_freq_filter(3)  \n",
    "scored = finder.score_ngrams(bigram_measures.raw_freq)\n",
    "\n",
    "top_10_bigrams = sorted(scored, key=lambda x: x[1], reverse=True)[:10]\n",
    "for bigram, freq in top_10_bigrams:\n",
    "    print(bigram, freq)"
   ]
  },
  {
   "cell_type": "markdown",
   "metadata": {},
   "source": [
    "### Висновок:\n",
    "В ході виконання даної лабораторної роботи я ознайомився з методами обробки та аналізу текстових даних на Python, використовуючи бібліотеки NLTK та scikit-learn. Зокрема, я навчився застосовувати модель прихованого розподілу Діріхле для виявлення тем в текстових документах, що дозволило глибше зрозуміти структуру та ключові ідеї набору даних новин. Обрання оптимальної кількості тем з використанням оцінки перплексії дало змогу ефективно структурувати інформацію та виділити значущі теми зі збалансованою кількістю деталей. Крім того, вивчення ключових біграм із тексту \"chesterton-ball.txt\" допомогло виділити часто вживані словосполучення, що підкреслює стилістичні та тематичні особливості літературного твору.\n",
    "\n",
    "Робота з CountVectorizer для перетворення текстових даних у матрицю термінів та документів була важливою частиною підготовчого процесу перед моделюванням тем, що дозволило здійснити кількісний аналіз тексту. Реалізація алгоритму LDA із використанням scikit-learn забезпечила знаходження закономірностей у великих обсягах даних без необхідності детального ручного аналізу кожного документа.\n",
    "\n",
    "Протягом виконання другого завдання я навчився використовувати бібліотеку NLTK для ефективного вилучення біграм із тексту, що є ключовим аспектом лінгвістичного аналізу і допомагає краще розуміти зв'язки між словами у тексті."
   ]
  }
 ],
 "metadata": {
  "kernelspec": {
   "display_name": "venv1",
   "language": "python",
   "name": "python3"
  },
  "language_info": {
   "codemirror_mode": {
    "name": "ipython",
    "version": 3
   },
   "file_extension": ".py",
   "mimetype": "text/x-python",
   "name": "python",
   "nbconvert_exporter": "python",
   "pygments_lexer": "ipython3",
   "version": "3.10.13"
  }
 },
 "nbformat": 4,
 "nbformat_minor": 2
}
