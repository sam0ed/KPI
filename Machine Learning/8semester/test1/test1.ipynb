{
 "cells": [
  {
   "cell_type": "markdown",
   "metadata": {},
   "source": [
    "#### Config"
   ]
  },
  {
   "cell_type": "code",
   "execution_count": 2,
   "metadata": {
    "vscode": {
     "languageId": "r"
    }
   },
   "outputs": [],
   "source": [
    "# Replace with the actual URL for the data file\n",
    "download_acs <- \"https://drive.google.com/uc?export=download&id=14ClBTG0m1UFO-iRYbvom_REKZWmhTmOY\" \n",
    "download_img <- \"https://drive.google.com/uc?export=download&id=1DGR2sAC90UqRkMQZe7LdUQ4MnT5yk_Pk\"\n",
    "download_xml <- \"https://drive.google.com/uc?export=download&id=1B2IUgntYGeEY47gcheZe3edOtCdJDgF2\"\n",
    "download_csv <- \"https://drive.google.com/uc?export=download&id=1i8bFt76FiFXhizBwyofX-19JBQdmBOAP\"\n",
    "download_edu <- \"https://drive.google.com/uc?export=download&id=1xG_DNc6-NNIhsvi3H45l4BVsnQRWS-Bq\"\n",
    "file_name_edu <- \"edu.csv\"\n",
    "file_name_csv <- \"gdp.csv\"\n",
    "file_name_acs <- \"idaho_housing.csv\"\n",
    "file_name_img <- \"img.jpg\"\n",
    "file_name_xml <- \"Q8_data.xml\"\n",
    "\n",
    "data_dir <- \"data/\"\n",
    "\n",
    "if (!dir.exists(data_dir)) {\n",
    "  dir.create(data_dir)\n",
    "}"
   ]
  },
  {
   "cell_type": "markdown",
   "metadata": {},
   "source": [
    "First we download the data we are going to work with."
   ]
  },
  {
   "cell_type": "code",
   "execution_count": null,
   "metadata": {
    "vscode": {
     "languageId": "r"
    }
   },
   "outputs": [],
   "source": [
    "# uploading the file with data to the host\n",
    "download.file(download_acs, file.path(data_dir, file_name_acs), mode = \"wb\")"
   ]
  },
  {
   "cell_type": "markdown",
   "metadata": {},
   "source": [
    "#### Task 1\n",
    "**How many properties are worth $1,000,000 or more?** <br>\n",
    "According to the code book, the variable VAL represents the property value. In this survey, properties with VAL == 24 are those valued at $1,000,000 or more."
   ]
  },
  {
   "cell_type": "code",
   "execution_count": null,
   "metadata": {
    "vscode": {
     "languageId": "r"
    }
   },
   "outputs": [
    {
     "name": "stdout",
     "output_type": "stream",
     "text": [
      "[1] 53\n"
     ]
    }
   ],
   "source": [
    "housing <- read.csv(file.path(data_dir, file_name_acs))\n",
    "high_value <- housing$VAL == 24\n",
    "count_high_value <- sum(high_value, na.rm = TRUE)\n",
    "print(count_high_value)"
   ]
  },
  {
   "cell_type": "markdown",
   "metadata": {},
   "source": [
    "#### Task 2\n",
    "Create a logical vector that identifies the households on greater than 10 acres who sold more than $10,000 worth of agriculture products. Assign that logical vector to the variable agricultureLogical. Apply the which() function to identify the rows of the data frame where the logical vector is TRUE. <br>\n",
    "**What are the first 3 values that result?**"
   ]
  },
  {
   "cell_type": "code",
   "execution_count": null,
   "metadata": {
    "vscode": {
     "languageId": "r"
    }
   },
   "outputs": [
    {
     "data": {
      "text/html": [
       "<style>\n",
       ".list-inline {list-style: none; margin:0; padding: 0}\n",
       ".list-inline>li {display: inline-block}\n",
       ".list-inline>li:not(:last-child)::after {content: \"\\00b7\"; padding: 0 .5ex}\n",
       "</style>\n",
       "<ol class=list-inline><li>125</li><li>238</li><li>262</li></ol>\n"
      ],
      "text/latex": [
       "\\begin{enumerate*}\n",
       "\\item 125\n",
       "\\item 238\n",
       "\\item 262\n",
       "\\end{enumerate*}\n"
      ],
      "text/markdown": [
       "1. 125\n",
       "2. 238\n",
       "3. 262\n",
       "\n",
       "\n"
      ],
      "text/plain": [
       "[1] 125 238 262"
      ]
     },
     "metadata": {},
     "output_type": "display_data"
    }
   ],
   "source": [
    "# Create a logical vector:\n",
    "agricultureLogical <- (housing$ACR == 3) & (housing$AGS == 6)\n",
    "\n",
    "# Use which() to get the indices where the condition is TRUE:\n",
    "resultIndices <- which(agricultureLogical)\n",
    "\n",
    "# Get the first three indices:\n",
    "resultIndices[1:3]\n"
   ]
  },
  {
   "cell_type": "markdown",
   "metadata": {},
   "source": [
    "#### Task 3\n",
    "**Apply strsplit() to split all the names of the data frame on the characters \"wgtp\". What is the value of the 123 element of the resulting list?**"
   ]
  },
  {
   "cell_type": "code",
   "execution_count": null,
   "metadata": {
    "vscode": {
     "languageId": "r"
    }
   },
   "outputs": [
    {
     "data": {
      "text/html": [
       "<style>\n",
       ".list-inline {list-style: none; margin:0; padding: 0}\n",
       ".list-inline>li {display: inline-block}\n",
       ".list-inline>li:not(:last-child)::after {content: \"\\00b7\"; padding: 0 .5ex}\n",
       "</style>\n",
       "<ol class=list-inline><li>''</li><li>'15'</li></ol>\n"
      ],
      "text/latex": [
       "\\begin{enumerate*}\n",
       "\\item ''\n",
       "\\item '15'\n",
       "\\end{enumerate*}\n"
      ],
      "text/markdown": [
       "1. ''\n",
       "2. '15'\n",
       "\n",
       "\n"
      ],
      "text/plain": [
       "[1] \"\"   \"15\""
      ]
     },
     "metadata": {},
     "output_type": "display_data"
    }
   ],
   "source": [
    "splitNames <- strsplit(names(housing), \"wgtp\")\n",
    "splitNames[[123]]"
   ]
  },
  {
   "cell_type": "markdown",
   "metadata": {},
   "source": [
    "#### Task 4\n",
    "Using the jpeg package read in the following picture into R.\n",
    "Use the parameter native=TRUE. What are the 30th and 80th quantiles of the resulting data? (some Linux systems may produce an answer 638 for the 30th quantile which is different from correct answer)."
   ]
  },
  {
   "cell_type": "code",
   "execution_count": null,
   "metadata": {
    "vscode": {
     "languageId": "r"
    }
   },
   "outputs": [],
   "source": [
    "download.file(download_img, file.path(data_dir, file_name_img), mode = \"wb\")"
   ]
  },
  {
   "cell_type": "code",
   "execution_count": null,
   "metadata": {
    "vscode": {
     "languageId": "r"
    }
   },
   "outputs": [
    {
     "name": "stderr",
     "output_type": "stream",
     "text": [
      "Loading required package: jpeg\n",
      "\n"
     ]
    }
   ],
   "source": [
    "if (!require(\"jpeg\")) {\n",
    "    install.packages(\"jpeg\")\n",
    "}"
   ]
  },
  {
   "cell_type": "code",
   "execution_count": null,
   "metadata": {
    "vscode": {
     "languageId": "r"
    }
   },
   "outputs": [
    {
     "data": {
      "text/html": [
       "<style>\n",
       ".dl-inline {width: auto; margin:0; padding: 0}\n",
       ".dl-inline>dt, .dl-inline>dd {float: none; width: auto; display: inline-block}\n",
       ".dl-inline>dt::after {content: \":\\0020\"; padding-right: .5ex}\n",
       ".dl-inline>dt:not(:first-of-type) {padding-left: .5ex}\n",
       "</style><dl class=dl-inline><dt>30%</dt><dd>-15258512</dd><dt>80%</dt><dd>-10575416</dd></dl>\n"
      ],
      "text/latex": [
       "\\begin{description*}\n",
       "\\item[30\\textbackslash{}\\%] -15258512\n",
       "\\item[80\\textbackslash{}\\%] -10575416\n",
       "\\end{description*}\n"
      ],
      "text/markdown": [
       "30%\n",
       ":   -1525851280%\n",
       ":   -10575416\n",
       "\n"
      ],
      "text/plain": [
       "      30%       80% \n",
       "-15258512 -10575416 "
      ]
     },
     "metadata": {},
     "output_type": "display_data"
    }
   ],
   "source": [
    "library(jpeg)\n",
    "img <- readJPEG(file.path(data_dir, file_name_img), native=TRUE)\n",
    "quantile(img, probs = c(0.3, 0.8))\n"
   ]
  },
  {
   "cell_type": "markdown",
   "metadata": {},
   "source": [
    "#### Task 5\n",
    "Read the XML data on Baltimore restaurants from [here](https://drive.google.com/uc?export=download&id=1B2IUgntYGeEY47gcheZe3edOtCdJDgF2).\n",
    "How many restaurants have zipcode 21231?"
   ]
  },
  {
   "cell_type": "code",
   "execution_count": null,
   "metadata": {
    "vscode": {
     "languageId": "r"
    }
   },
   "outputs": [],
   "source": [
    "download.file(download_xml, file.path(data_dir, file_name_xml), mode = \"wb\")"
   ]
  },
  {
   "cell_type": "code",
   "execution_count": null,
   "metadata": {
    "vscode": {
     "languageId": "r"
    }
   },
   "outputs": [
    {
     "name": "stderr",
     "output_type": "stream",
     "text": [
      "Warning message in install.packages(\"xml2\"):\n",
      "“installation of package ‘xml2’ had non-zero exit status”\n",
      "Updating HTML index of packages in '.Library'\n",
      "\n",
      "Making 'packages.html' ...\n",
      " done\n",
      "\n"
     ]
    }
   ],
   "source": [
    "if (!require(\"xml2\")) {\n",
    "    install.packages(\"xml2\")\n",
    "}"
   ]
  },
  {
   "cell_type": "code",
   "execution_count": 17,
   "metadata": {
    "vscode": {
     "languageId": "r"
    }
   },
   "outputs": [
    {
     "name": "stdout",
     "output_type": "stream",
     "text": [
      "[1] \"410\"                   \"1919\"                  \"SAUTE\"                \n",
      "[4] \"#1 CHINESE KITCHEN\"    \"#1 chinese restaurant\"\n"
     ]
    }
   ],
   "source": [
    "library(xml2)\n",
    "doc <- read_xml(file.path(data_dir, file_name_xml))\n",
    "\n",
    "print(xml_text(xml_find_all(doc, \"//name\")[1:5]))"
   ]
  },
  {
   "cell_type": "code",
   "execution_count": 18,
   "metadata": {
    "vscode": {
     "languageId": "r"
    }
   },
   "outputs": [
    {
     "name": "stdout",
     "output_type": "stream",
     "text": [
      "[1] \"21206\" \"21231\" \"21224\" \"21211\" \"21223\"\n"
     ]
    }
   ],
   "source": [
    "print(xml_text(xml_find_all(doc, \"//zipcode\")[1:5]))"
   ]
  },
  {
   "cell_type": "code",
   "execution_count": 20,
   "metadata": {
    "vscode": {
     "languageId": "r"
    }
   },
   "outputs": [
    {
     "name": "stdout",
     "output_type": "stream",
     "text": [
      "Number of restaurants with zipcode 21231: 127 \n"
     ]
    }
   ],
   "source": [
    "restaurants_with_zip <- xml_find_all(doc, \"//zipcode[text()='21231']\")\n",
    "num_restaurants <- length(restaurants_with_zip)\n",
    "cat(\"Number of restaurants with zipcode 21231:\", num_restaurants, \"\\n\")\n"
   ]
  },
  {
   "cell_type": "markdown",
   "metadata": {},
   "source": [
    "#### Task 6\n",
    "Download the Gross Domestic Product data for the 190 ranked countries from [here](https://drive.google.com/uc?export=download&id=1i8bFt76FiFXhizBwyofX-19JBQdmBOAP).\n",
    "Remove the commas from the GDP numbers in millions of dollars and average them. **What is the average?**"
   ]
  },
  {
   "cell_type": "code",
   "execution_count": null,
   "metadata": {
    "vscode": {
     "languageId": "r"
    }
   },
   "outputs": [],
   "source": [
    "download.file(download_csv, file.path(data_dir, file_name_csv), mode = \"wb\")"
   ]
  },
  {
   "cell_type": "code",
   "execution_count": 4,
   "metadata": {
    "vscode": {
     "languageId": "r"
    }
   },
   "outputs": [
    {
     "name": "stdout",
     "output_type": "stream",
     "text": [
      "Average GDP: 377652.4 \n"
     ]
    }
   ],
   "source": [
    "gdp_data <- read.csv(file.path(data_dir, file_name_csv ), stringsAsFactors = FALSE)\n",
    "\n",
    "# Suppose the GDP numbers (in millions of dollars) are in a column named \"GDP\"\n",
    "# Remove commas and convert to numeric\n",
    "gdp_data$GDP <- as.numeric(gsub(\",\", \"\", gdp_data$GDP))\n",
    "\n",
    "# Compute the average GDP\n",
    "average_gdp <- mean(gdp_data$GDP, na.rm = TRUE)\n",
    "cat(\"Average GDP:\", average_gdp, \"\\n\")\n"
   ]
  },
  {
   "cell_type": "markdown",
   "metadata": {},
   "source": [
    "#### Task 7\n",
    "Use the data you loaded from Question 6. Download the educational data from [here](https://drive.google.com/uc?export=download&id=1xG_DNc6-NNIhsvi3H45l4BVsnQRWS-Bq). Match the data based on the country shortcode (column CountryCode).\n",
    "**Of the countries for which the end of the fiscal year is available (column Special.Notes), how many end in June?**"
   ]
  },
  {
   "cell_type": "code",
   "execution_count": 29,
   "metadata": {
    "vscode": {
     "languageId": "r"
    }
   },
   "outputs": [],
   "source": [
    "# Download the educational data from the provided URL\n",
    "download.file(download_edu, destfile = file.path(data_dir, file_name_edu), mode = \"wb\")\n"
   ]
  },
  {
   "cell_type": "code",
   "execution_count": 5,
   "metadata": {
    "vscode": {
     "languageId": "r"
    }
   },
   "outputs": [
    {
     "name": "stdout",
     "output_type": "stream",
     "text": [
      "Number of countries for which the fiscal year ends in June: 16 \n"
     ]
    }
   ],
   "source": [
    "edu_data <- read.csv(file.path(data_dir, file_name_edu), stringsAsFactors = FALSE)\n",
    "\n",
    "# Merge the two datasets on CountryCode\n",
    "merged_data <- merge(gdp_data, edu_data, by = \"CountryCode\")\n",
    "\n",
    "# Look at the 'Special.Notes' column for fiscal year end information.\n",
    "# We assume that if the fiscal year end is available, the Special.Notes column contains a phrase with \"June\".\n",
    "june_rows <- grep(\"June\", merged_data$Special.Notes, ignore.case = TRUE)\n",
    "num_june <- length(june_rows)\n",
    "\n",
    "cat(\"Number of countries for which the fiscal year ends in June:\", num_june, \"\\n\")\n"
   ]
  },
  {
   "cell_type": "markdown",
   "metadata": {},
   "source": [
    "#### Task 8\n",
    "Use merged data frame you created in the previous problem.\n",
    "**How many countries are Lower middle income (column Income.Group) but among the 38 nations with highest GDP?**"
   ]
  },
  {
   "cell_type": "code",
   "execution_count": 11,
   "metadata": {
    "vscode": {
     "languageId": "r"
    }
   },
   "outputs": [
    {
     "name": "stdout",
     "output_type": "stream",
     "text": [
      "Number of Lower middle income countries among the top 38 GDP nations: 5 \n"
     ]
    }
   ],
   "source": [
    "# Sort by the Rank column (which holds the GDP ranking)\n",
    "merged_sorted <- merged_data[order(as.numeric(merged_data$Rank)), ]\n",
    "\n",
    "# Subset the top 38 countries (i.e. those with the highest GDP)\n",
    "top38 <- merged_sorted[1:38, ]\n",
    "\n",
    "\n",
    "# Count how many of these have Income.Group equal to \"Lower middle income\"\n",
    "num_lower_middle <- sum(top38$Income.Group == \"Lower middle income\", na.rm = TRUE)\n",
    "\n",
    "cat(\"Number of Lower middle income countries among the top 38 GDP nations:\", num_lower_middle, \"\\n\")\n"
   ]
  },
  {
   "cell_type": "markdown",
   "metadata": {},
   "source": [
    "### Task 9\n",
    "Use merged data frame you created in the previous problem.<br>\n",
    "**What is the average GDP ranking (column Rank) for the \"High income: OECD\" and \"High income: nonECD\" group (column Income.Group)?**"
   ]
  },
  {
   "cell_type": "code",
   "execution_count": 12,
   "metadata": {
    "vscode": {
     "languageId": "r"
    }
   },
   "outputs": [
    {
     "name": "stdout",
     "output_type": "stream",
     "text": [
      "Average GDP ranking for High income: OECD: 32.96667 \n",
      "Average GDP ranking for High income: nonOECD: 91.91304 \n"
     ]
    }
   ],
   "source": [
    "# Subset for \"High income: OECD\"\n",
    "oecd <- merged_data[merged_data$Income.Group == \"High income: OECD\", ]\n",
    "mean_oecd <- mean(as.numeric(oecd$Rank), na.rm = TRUE)\n",
    "\n",
    "# Subset for \"High income: nonOECD\"\n",
    "non_oecd <- merged_data[merged_data$Income.Group == \"High income: nonOECD\", ]\n",
    "mean_non_oecd <- mean(as.numeric(non_oecd$Rank), na.rm = TRUE)\n",
    "\n",
    "cat(\"Average GDP ranking for High income: OECD:\", mean_oecd, \"\\n\")\n",
    "cat(\"Average GDP ranking for High income: nonOECD:\", mean_non_oecd, \"\\n\")\n"
   ]
  },
  {
   "cell_type": "markdown",
   "metadata": {},
   "source": [
    "#### Task 10\n",
    "Use the quantmod package to get historical stock prices for publicly traded companies on the NASDAQ and NYSE. Use the following code to download data on Amazon's stock price and get the times the data was sampled.\n",
    "```python\n",
    "library(quantmod)\n",
    "amzn <- getSymbols(\"AMZN\", auto.assign=FALSE)\n",
    "sampleTimes <- index(amzn)\n",
    "```\n",
    "\n",
    "**How many values were collected in 2012? How many values were collected on Mondays in 2012?**"
   ]
  },
  {
   "cell_type": "code",
   "execution_count": 13,
   "metadata": {
    "vscode": {
     "languageId": "r"
    }
   },
   "outputs": [
    {
     "name": "stderr",
     "output_type": "stream",
     "text": [
      "Loading required package: quantmod\n",
      "\n",
      "Loading required package: xts\n",
      "\n",
      "Loading required package: zoo\n",
      "\n",
      "\n",
      "Attaching package: ‘zoo’\n",
      "\n",
      "\n",
      "The following objects are masked from ‘package:base’:\n",
      "\n",
      "    as.Date, as.Date.numeric\n",
      "\n",
      "\n",
      "Loading required package: TTR\n",
      "\n",
      "Registered S3 method overwritten by 'quantmod':\n",
      "  method            from\n",
      "  as.zoo.data.frame zoo \n",
      "\n"
     ]
    }
   ],
   "source": [
    "if (!require(\"quantmod\")) {\n",
    "    install.packages(\"quantmod\")\n",
    "}"
   ]
  },
  {
   "cell_type": "code",
   "execution_count": 14,
   "metadata": {
    "vscode": {
     "languageId": "r"
    }
   },
   "outputs": [
    {
     "name": "stdout",
     "output_type": "stream",
     "text": [
      "Number of values collected in 2012: 250 \n",
      "Number of values collected on Mondays in 2012: 47 \n"
     ]
    }
   ],
   "source": [
    "library(quantmod)\n",
    "amzn <- getSymbols(\"AMZN\", auto.assign = FALSE)\n",
    "sampleTimes <- index(amzn)\n",
    "\n",
    "# Extract dates in 2012\n",
    "dates2012 <- sampleTimes[format(sampleTimes, \"%Y\") == \"2012\"]\n",
    "num2012 <- length(dates2012)\n",
    "\n",
    "# Among those, count how many are Mondays\n",
    "mondays2012 <- dates2012[format(dates2012, \"%A\") == \"Monday\"]\n",
    "numMondays2012 <- length(mondays2012)\n",
    "\n",
    "cat(\"Number of values collected in 2012:\", num2012, \"\\n\")\n",
    "cat(\"Number of values collected on Mondays in 2012:\", numMondays2012, \"\\n\")\n"
   ]
  }
 ],
 "metadata": {
  "kernelspec": {
   "display_name": "R",
   "language": "R",
   "name": "ir"
  },
  "language_info": {
   "codemirror_mode": "r",
   "file_extension": ".r",
   "mimetype": "text/x-r-source",
   "name": "R",
   "pygments_lexer": "r",
   "version": "4.4.2"
  }
 },
 "nbformat": 4,
 "nbformat_minor": 2
}
