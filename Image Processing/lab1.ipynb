{
 "cells": [
  {
   "cell_type": "markdown",
   "metadata": {},
   "source": [
    "### First level difficulty\n",
    "Implement operations:\n",
    "*moving - rotation – rotation in the other direction*\n",
    "Develop a software script that implements basic operations of 2D transformations on geometric primitive -- triangle. For development use matrix operations and compositional transformations. Coordinate matrix of the corners of the geometric figure must be expanded.\n",
    "1. implement the operation cyclically, hide the trajectory of the change in its position\n",
    "Choose yourself: library, graphics window size, size shapes, implementation parameters operations, the color scheme of all graphic objects. All operations transformations should be carried out within the graphics window."
   ]
  },
  {
   "cell_type": "code",
   "execution_count": 86,
   "metadata": {},
   "outputs": [],
   "source": [
    "import numpy as np\n",
    "import matplotlib.pyplot as plt\n",
    "import matplotlib.patches as patches\n",
    "import tkinter as tk\n",
    "import time\n",
    "import random"
   ]
  },
  {
   "cell_type": "code",
   "execution_count": 2,
   "metadata": {},
   "outputs": [],
   "source": [
    "# triangle_vertices = np.array([[100, 300], [200, 100], [300, 300]])\n",
    "triangle_vertices = np.array([[120, 320], [100, 90], [310, 280]])"
   ]
  },
  {
   "cell_type": "code",
   "execution_count": 3,
   "metadata": {},
   "outputs": [],
   "source": [
    "# def draw_triangle(ax, vertices, color='blue'):\n",
    "#     polygon = patches.Polygon(vertices, closed=True, color=color, fill=False)\n",
    "#     ax.add_patch(polygon)"
   ]
  },
  {
   "cell_type": "code",
   "execution_count": 4,
   "metadata": {},
   "outputs": [],
   "source": [
    "# fig, ax = plt.subplots()\n",
    "# draw_triangle(ax, triangle_vertices)\n",
    "# ax.set_xlim(0, 5)\n",
    "# ax.set_ylim(0, 5)\n",
    "# ax.set_aspect('equal')\n",
    "# plt.show()"
   ]
  },
  {
   "cell_type": "code",
   "execution_count": 5,
   "metadata": {},
   "outputs": [],
   "source": [
    "def translate(vertices, tx, ty):\n",
    "    translation_matrix = np.array([[1, 0, tx],\n",
    "                                   [0, 1, ty],\n",
    "                                   [0, 0, 1]])\n",
    "    # Convert vertices to homogeneous coordinates for translation\n",
    "    homogeneous_vertices = np.hstack(\n",
    "        [vertices, np.ones((vertices.shape[0], 1))])\n",
    "    translated_vertices = np.dot(\n",
    "        homogeneous_vertices, translation_matrix.T)[:, :2]\n",
    "    return translated_vertices"
   ]
  },
  {
   "cell_type": "code",
   "execution_count": 6,
   "metadata": {},
   "outputs": [],
   "source": [
    "def rotate(vertices, angle_deg, pivot_point):\n",
    "    angle_rad = np.radians(angle_deg)\n",
    "    rotation_matrix = np.array([[np.cos(angle_rad), -np.sin(angle_rad), 0],\n",
    "                                [np.sin(angle_rad),  np.cos(angle_rad), 0],\n",
    "                                [0,                   0,                  1]])\n",
    "    # Translate pivot to origin, rotate, then translate back\n",
    "    pivot_translation = np.array([[1, 0, -pivot_point[0]],\n",
    "                                  [0, 1, -pivot_point[1]],\n",
    "                                  [0, 0, 1]])\n",
    "    pivot_back_translation = np.array([[1, 0, pivot_point[0]],\n",
    "                                       [0, 1, pivot_point[1]],\n",
    "                                       [0, 0, 1]])\n",
    "    transformation_matrix = np.dot(\n",
    "        np.dot(pivot_back_translation, rotation_matrix), pivot_translation)\n",
    "    homogeneous_vertices = np.hstack(\n",
    "        [vertices, np.ones((vertices.shape[0], 1))])\n",
    "    rotated_vertices = np.dot(homogeneous_vertices,\n",
    "                              transformation_matrix.T)[:, :2]\n",
    "    return rotated_vertices"
   ]
  },
  {
   "cell_type": "code",
   "execution_count": 7,
   "metadata": {},
   "outputs": [],
   "source": [
    "def draw_triangle(canvas, vertices):\n",
    "    # Flatten the numpy array vertices and convert to list for Tkinter\n",
    "    flat_vertices = vertices.flatten().tolist()\n",
    "    canvas.delete(\"all\")  # Clear previous drawing\n",
    "    canvas.create_polygon(flat_vertices, outline='black', fill='', width=2)"
   ]
  },
  {
   "cell_type": "code",
   "execution_count": 8,
   "metadata": {},
   "outputs": [],
   "source": [
    "def update_position(root, canvas, vertices, tx, ty, canvas_width, canvas_height):\n",
    "    new_vertices = translate(vertices, tx, ty)\n",
    "    \n",
    "    # Check if any vertex reaches the border of the canvas\n",
    "    border_reached = any(x <= 0 or x >= canvas_width or y <= 0 or y >= canvas_height for x, y in new_vertices)\n",
    "    \n",
    "    if not border_reached:\n",
    "        draw_triangle(canvas, new_vertices)\n",
    "        # Schedule the next update\n",
    "        root.after(100, update_position, root, canvas, new_vertices, tx, ty, canvas_width, canvas_height)\n",
    "    else:\n",
    "        print(\"Triangle has reached the border.\")"
   ]
  },
  {
   "cell_type": "markdown",
   "metadata": {},
   "source": [
    "Movement of the primitive using translation"
   ]
  },
  {
   "cell_type": "code",
   "execution_count": 9,
   "metadata": {},
   "outputs": [
    {
     "name": "stdout",
     "output_type": "stream",
     "text": [
      "Triangle has reached the border.\n"
     ]
    }
   ],
   "source": [
    "# Create the main window\n",
    "root = tk.Tk()\n",
    "root.title(\"Geometric Primitive with Tkinter\")\n",
    "\n",
    "canvas_width, canvas_height = 400,400\n",
    "\n",
    "canvas = tk.Canvas(root, width=canvas_width, height=canvas_height, bg='white')\n",
    "canvas.pack()\n",
    "\n",
    "tx, ty = 5, -5\n",
    "\n",
    "update_position(root, canvas, triangle_vertices, tx, ty, canvas_width, canvas_height)\n",
    "\n",
    "root.mainloop()"
   ]
  },
  {
   "cell_type": "markdown",
   "metadata": {},
   "source": [
    "Rotation of the primitive"
   ]
  },
  {
   "cell_type": "code",
   "execution_count": 10,
   "metadata": {},
   "outputs": [],
   "source": [
    "root = tk.Tk()\n",
    "root.title(\"Geometric Primitive with Tkinter\")\n",
    "canvas_width, canvas_height = 400,400\n",
    "canvas = tk.Canvas(root, width=canvas_width, height=canvas_height, bg='white')\n",
    "canvas.pack()\n",
    "\n",
    "pivot_point =[200, 200]\n",
    "\n",
    "draw_triangle(canvas, triangle_vertices)\n",
    "canvas.create_oval(pivot_point[0]-3, pivot_point[1]-3, pivot_point[0]+3, pivot_point[1]+3)\n",
    "\n",
    "rotated_vertices = rotate(triangle_vertices, 45, pivot_point)\n",
    "root.after(2000, draw_triangle, canvas, rotated_vertices)\n",
    "root.after(2010, canvas.create_oval, pivot_point[0]-3, pivot_point[1]-3, pivot_point[0]+3, pivot_point[1]+3 )\n",
    "root.mainloop()"
   ]
  },
  {
   "cell_type": "markdown",
   "metadata": {},
   "source": [
    "Inverse rotation of the primitive"
   ]
  },
  {
   "cell_type": "code",
   "execution_count": 11,
   "metadata": {},
   "outputs": [],
   "source": [
    "root = tk.Tk()\n",
    "root.title(\"Geometric Primitive with Tkinter\")\n",
    "canvas_width, canvas_height = 400,400\n",
    "canvas = tk.Canvas(root, width=canvas_width, height=canvas_height, bg='white')\n",
    "canvas.pack()\n",
    "\n",
    "pivot_point =[200, 200]\n",
    "\n",
    "draw_triangle(canvas, triangle_vertices)\n",
    "canvas.create_oval(pivot_point[0]-3, pivot_point[1]-3, pivot_point[0]+3, pivot_point[1]+3)\n",
    "\n",
    "rotated_vertices = rotate(triangle_vertices, -115, pivot_point)\n",
    "root.after(2000, draw_triangle, canvas, rotated_vertices)\n",
    "root.after(2010, canvas.create_oval, pivot_point[0]-3, pivot_point[1]-3, pivot_point[0]+3, pivot_point[1]+3 )\n",
    "\n",
    "root.mainloop()\n"
   ]
  },
  {
   "cell_type": "markdown",
   "metadata": {},
   "source": [
    "### Second level difficulty\n",
    "Develop a software script that implements basic operations of 3D transformations on square pyramid: axonometric\n",
    "projection of any type and cyclic rotation (animation) of a 3D graphic object around vertical axis. For development\n",
    "use matrix operations. The input matrix of the coordinates of the corners of the geometric figure should be homogenous.\n",
    "The figure should appear and disappear, it should appear in different parts of the window. It should randomly change the color of it's outline between appearances. Use tkinter to render the figure to the screen.\n",
    "Choose yourself: window size, figure size, position of the figure. All transformation operations have to be carried out within graphic window."
   ]
  },
  {
   "cell_type": "code",
   "execution_count": 105,
   "metadata": {},
   "outputs": [],
   "source": [
    "def translate(vertices, tx, ty, tz):\n",
    "    translation_matrix = np.array([[1, 0, 0, tx],\n",
    "                                   [0, 1, 0, ty],\n",
    "                                   [0, 0, 1, tz],\n",
    "                                   [0, 0, 0, 1]])\n",
    "\n",
    "    return np.dot(\n",
    "        vertices, translation_matrix.T)"
   ]
  },
  {
   "cell_type": "code",
   "execution_count": 69,
   "metadata": {},
   "outputs": [],
   "source": [
    "# Rotation matrix around the X-axis\n",
    "def rotation_matrix_x(angle):\n",
    "    rad = np.radians(angle)\n",
    "    return np.array([\n",
    "        [1, 0, 0, 0],\n",
    "        [0, np.cos(rad), -np.sin(rad), 0],\n",
    "        [0, np.sin(rad), np.cos(rad), 0],\n",
    "        [0, 0, 0, 1]\n",
    "    ])"
   ]
  },
  {
   "cell_type": "code",
   "execution_count": 65,
   "metadata": {},
   "outputs": [],
   "source": [
    "# Rotation matrix around the Y-axis\n",
    "def rotation_matrix_y(angle):\n",
    "    rad = np.radians(angle)\n",
    "    return np.array([\n",
    "        [np.cos(rad), -np.sin(rad), 0, 0],\n",
    "        [np.sin(rad), np.cos(rad), 0, 0],\n",
    "        [0, 0, 1, 0],\n",
    "        [0, 0, 0, 1]\n",
    "    ]\n",
    "    )"
   ]
  },
  {
   "cell_type": "code",
   "execution_count": 80,
   "metadata": {},
   "outputs": [],
   "source": [
    "# Rotation matrix around the Y-axis\n",
    "def rotation_matrix_z(angle):\n",
    "    rad = np.radians(angle)\n",
    "    return np.array([\n",
    "        [np.cos(rad), 0, -np.sin(rad), 0],\n",
    "        [0, 1, 0, 0],\n",
    "        [np.sin(rad), 0, np.cos(rad), 0],\n",
    "        [0, 0, 0, 1]\n",
    "    ]\n",
    "    )"
   ]
  },
  {
   "cell_type": "code",
   "execution_count": 100,
   "metadata": {},
   "outputs": [],
   "source": [
    "# Axonometric projection matrix\n",
    "def get_projection_matrix():\n",
    "    return np.array([\n",
    "        [1, 0, 0, 0],\n",
    "        [0, 1, 0, 0],\n",
    "        [0, 0, 0, 0],\n",
    "        [0, 0, 0, 1]\n",
    "    ])"
   ]
  },
  {
   "cell_type": "code",
   "execution_count": 28,
   "metadata": {},
   "outputs": [],
   "source": [
    "# Convert 3D vertices to 2D vertices\n",
    "def project_vertices(vertices, projection_matrix):\n",
    "    projected = vertices @ projection_matrix.T\n",
    "    return projected[:, :2]  # Return only x and y for 2D drawing"
   ]
  },
  {
   "cell_type": "code",
   "execution_count": 103,
   "metadata": {},
   "outputs": [],
   "source": [
    "# Draw the pyramid on a Tkinter canvas\n",
    "def draw_pyramid(canvas, vertices_2d, color):\n",
    "    canvas.delete(\"all\")\n",
    "    canvas.create_polygon(vertices_2d[:4].flatten().tolist(), outline=color, fill= '')\n",
    "    # Draw sides\n",
    "    for i in range(4):\n",
    "        side = [vertices_2d[i][0], vertices_2d[i][1], vertices_2d[4][0], vertices_2d[4][1]]\n",
    "        canvas.create_line(side, fill=color)"
   ]
  },
  {
   "cell_type": "code",
   "execution_count": 98,
   "metadata": {},
   "outputs": [],
   "source": [
    "# Main animation function\n",
    "def animate_pyramid(canvas, angle=0):\n",
    "    global pyramid_vertices\n",
    "    # Rotate the pyramid\n",
    "    rotated_vertices = pyramid_vertices @ rotation_matrix_z(angle)\n",
    "    rotated_vertices = rotated_vertices @ rotation_matrix_x(20)\n",
    "    # Project the rotated vertices to 2D\n",
    "    projection_matrix = get_projection_matrix()\n",
    "    vertices_2d = project_vertices(rotated_vertices, projection_matrix)\n",
    "    # Randomize position and color\n",
    "    offset_x, offset_y = random.randint(50, 350), random.randint(50, 350)\n",
    "    color = random.choice(['red', 'green', 'blue', 'orange', 'purple'])\n",
    "    # Draw the pyramid\n",
    "    draw_pyramid(canvas, vertices_2d + np.array([offset_x, offset_y]), color)\n",
    "    # Schedule next animation frame\n",
    "    canvas.after(1000, lambda: animate_pyramid(canvas, angle + 5))"
   ]
  },
  {
   "cell_type": "code",
   "execution_count": null,
   "metadata": {},
   "outputs": [],
   "source": [
    "# Define the pyramid vertices in homogenous coordinates (x, y, z, 1)\n",
    "pyramid_vertices = np.array([\n",
    "    [0, 0, 0, 1],  # Base vertices\n",
    "    [100, 0, 0, 1],\n",
    "    [100, 0, 100, 1],\n",
    "    [0, 0, 100, 1],\n",
    "    [50, -100, 50, 1]  # Top vertex\n",
    "])"
   ]
  },
  {
   "cell_type": "code",
   "execution_count": 106,
   "metadata": {},
   "outputs": [],
   "source": [
    "# Setup Tkinter window and canvas\n",
    "root = tk.Tk()\n",
    "root.title(\"3D Pyramid Animation with Tkinter\")\n",
    "canvas = tk.Canvas(root, width=400, height=400, bg='white')\n",
    "canvas.pack()\n",
    "\n",
    "# Start the animation\n",
    "animate_pyramid(canvas)\n",
    "draw_pyramid(canvas, pyramid_vertices, 'red')\n",
    "\n",
    "root.mainloop()"
   ]
  },
  {
   "cell_type": "markdown",
   "metadata": {},
   "source": [
    "### Conclusion\n",
    "In this Lab we have have successfully performed linear and affine transformations(translation) on different 2d and 3d figures. In the course of execution, we worked with homogenous coordinates to represent actions on objects as matrices. While working we also deepened our knowledge of Tkinter and figured out ways to represent dots as vectors in multidimensional space. "
   ]
  }
 ],
 "metadata": {
  "kernelspec": {
   "display_name": "pip_env",
   "language": "python",
   "name": "python3"
  },
  "language_info": {
   "codemirror_mode": {
    "name": "ipython",
    "version": 3
   },
   "file_extension": ".py",
   "mimetype": "text/x-python",
   "name": "python",
   "nbconvert_exporter": "python",
   "pygments_lexer": "ipython3",
   "version": "3.10.13"
  }
 },
 "nbformat": 4,
 "nbformat_minor": 2
}
