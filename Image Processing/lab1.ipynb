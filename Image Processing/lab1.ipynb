{
 "cells": [
  {
   "cell_type": "markdown",
   "metadata": {},
   "source": [
    "### First level difficulty\n",
    "Implement operations:\n",
    "*moving - rotation – rotation in the other direction*\n",
    "Develop a software script that implements basic operations of 2D transformations on geometric primitive -- triangle. For development use matrix operations and compositional transformations. Coordinate matrix of the corners of the geometric figure must be expanded.\n",
    "1. implement the operation cyclically, hide the trajectory of the change in its position\n",
    "Choose yourself: library, graphics window size, size shapes, implementation parameters operations, the color scheme of all graphic objects. All operations transformations should be carried out within the graphics window."
   ]
  },
  {
   "cell_type": "code",
   "execution_count": 39,
   "metadata": {},
   "outputs": [],
   "source": [
    "import numpy as np\n",
    "import matplotlib.pyplot as plt\n",
    "import matplotlib.patches as patches\n",
    "import tkinter as tk\n",
    "import time"
   ]
  },
  {
   "cell_type": "code",
   "execution_count": 49,
   "metadata": {},
   "outputs": [],
   "source": [
    "# triangle_vertices = np.array([[100, 300], [200, 100], [300, 300]])\n",
    "triangle_vertices = np.array([[120, 320], [100, 90], [310, 280]])"
   ]
  },
  {
   "cell_type": "code",
   "execution_count": 11,
   "metadata": {},
   "outputs": [],
   "source": [
    "# def draw_triangle(ax, vertices, color='blue'):\n",
    "#     polygon = patches.Polygon(vertices, closed=True, color=color, fill=False)\n",
    "#     ax.add_patch(polygon)"
   ]
  },
  {
   "cell_type": "code",
   "execution_count": 12,
   "metadata": {},
   "outputs": [],
   "source": [
    "# fig, ax = plt.subplots()\n",
    "# draw_triangle(ax, triangle_vertices)\n",
    "# ax.set_xlim(0, 5)\n",
    "# ax.set_ylim(0, 5)\n",
    "# ax.set_aspect('equal')\n",
    "# plt.show()"
   ]
  },
  {
   "cell_type": "code",
   "execution_count": 13,
   "metadata": {},
   "outputs": [],
   "source": [
    "def translate(vertices, tx, ty):\n",
    "    translation_matrix = np.array([[1, 0, tx],\n",
    "                                   [0, 1, ty],\n",
    "                                   [0, 0, 1]])\n",
    "    # Convert vertices to homogeneous coordinates for translation\n",
    "    homogeneous_vertices = np.hstack(\n",
    "        [vertices, np.ones((vertices.shape[0], 1))])\n",
    "    translated_vertices = np.dot(\n",
    "        homogeneous_vertices, translation_matrix.T)[:, :2]\n",
    "    return translated_vertices"
   ]
  },
  {
   "cell_type": "code",
   "execution_count": 14,
   "metadata": {},
   "outputs": [],
   "source": [
    "def rotate(vertices, angle_deg, pivot_point):\n",
    "    angle_rad = np.radians(angle_deg)\n",
    "    rotation_matrix = np.array([[np.cos(angle_rad), -np.sin(angle_rad), 0],\n",
    "                                [np.sin(angle_rad),  np.cos(angle_rad), 0],\n",
    "                                [0,                   0,                  1]])\n",
    "    # Translate pivot to origin, rotate, then translate back\n",
    "    pivot_translation = np.array([[1, 0, -pivot_point[0]],\n",
    "                                  [0, 1, -pivot_point[1]],\n",
    "                                  [0, 0, 1]])\n",
    "    pivot_back_translation = np.array([[1, 0, pivot_point[0]],\n",
    "                                       [0, 1, pivot_point[1]],\n",
    "                                       [0, 0, 1]])\n",
    "    transformation_matrix = np.dot(\n",
    "        np.dot(pivot_back_translation, rotation_matrix), pivot_translation)\n",
    "    homogeneous_vertices = np.hstack(\n",
    "        [vertices, np.ones((vertices.shape[0], 1))])\n",
    "    rotated_vertices = np.dot(homogeneous_vertices,\n",
    "                              transformation_matrix.T)[:, :2]\n",
    "    return rotated_vertices"
   ]
  },
  {
   "cell_type": "code",
   "execution_count": 29,
   "metadata": {},
   "outputs": [],
   "source": [
    "def draw_triangle(canvas, vertices):\n",
    "    # Flatten the numpy array vertices and convert to list for Tkinter\n",
    "    flat_vertices = vertices.flatten().tolist()\n",
    "    canvas.delete(\"all\")  # Clear previous drawing\n",
    "    canvas.create_polygon(flat_vertices, outline='black', fill='', width=2)"
   ]
  },
  {
   "cell_type": "code",
   "execution_count": 16,
   "metadata": {},
   "outputs": [],
   "source": [
    "def update_position(root, canvas, vertices, tx, ty, canvas_width, canvas_height):\n",
    "    new_vertices = translate(vertices, tx, ty)\n",
    "    \n",
    "    # Check if any vertex reaches the border of the canvas\n",
    "    border_reached = any(x <= 0 or x >= canvas_width or y <= 0 or y >= canvas_height for x, y in new_vertices)\n",
    "    \n",
    "    if not border_reached:\n",
    "        draw_triangle(canvas, new_vertices)\n",
    "        # Schedule the next update\n",
    "        root.after(100, update_position, root, canvas, new_vertices, tx, ty, canvas_width, canvas_height)\n",
    "    else:\n",
    "        print(\"Triangle has reached the border.\")"
   ]
  },
  {
   "cell_type": "markdown",
   "metadata": {},
   "source": [
    "Movement of the primitive using translation"
   ]
  },
  {
   "cell_type": "code",
   "execution_count": 50,
   "metadata": {},
   "outputs": [
    {
     "name": "stdout",
     "output_type": "stream",
     "text": [
      "Triangle has reached the border.\n"
     ]
    }
   ],
   "source": [
    "# Create the main window\n",
    "root = tk.Tk()\n",
    "root.title(\"Geometric Primitive with Tkinter\")\n",
    "\n",
    "canvas_width, canvas_height = 400,400\n",
    "\n",
    "canvas = tk.Canvas(root, width=canvas_width, height=canvas_height, bg='white')\n",
    "canvas.pack()\n",
    "\n",
    "tx, ty = 5, -5\n",
    "\n",
    "update_position(root, canvas, triangle_vertices, tx, ty, canvas_width, canvas_height)\n",
    "\n",
    "root.mainloop()"
   ]
  },
  {
   "cell_type": "markdown",
   "metadata": {},
   "source": [
    "Rotation of the primitive"
   ]
  },
  {
   "cell_type": "code",
   "execution_count": 58,
   "metadata": {},
   "outputs": [],
   "source": [
    "root = tk.Tk()\n",
    "root.title(\"Geometric Primitive with Tkinter\")\n",
    "canvas_width, canvas_height = 400,400\n",
    "canvas = tk.Canvas(root, width=canvas_width, height=canvas_height, bg='white')\n",
    "canvas.pack()\n",
    "\n",
    "pivot_point =[200, 200]\n",
    "\n",
    "draw_triangle(canvas, triangle_vertices)\n",
    "canvas.create_oval(pivot_point[0]-3, pivot_point[1]-3, pivot_point[0]+3, pivot_point[1]+3)\n",
    "\n",
    "rotated_vertices = rotate(triangle_vertices, 45, pivot_point)\n",
    "root.after(2000, draw_triangle, canvas, rotated_vertices)\n",
    "root.after(2010, canvas.create_oval, pivot_point[0]-3, pivot_point[1]-3, pivot_point[0]+3, pivot_point[1]+3 )\n",
    "root.mainloop()"
   ]
  },
  {
   "cell_type": "markdown",
   "metadata": {},
   "source": [
    "Inverse rotation of the primitive"
   ]
  },
  {
   "cell_type": "code",
   "execution_count": 59,
   "metadata": {},
   "outputs": [],
   "source": [
    "root = tk.Tk()\n",
    "root.title(\"Geometric Primitive with Tkinter\")\n",
    "canvas_width, canvas_height = 400,400\n",
    "canvas = tk.Canvas(root, width=canvas_width, height=canvas_height, bg='white')\n",
    "canvas.pack()\n",
    "\n",
    "pivot_point =[200, 200]\n",
    "\n",
    "draw_triangle(canvas, triangle_vertices)\n",
    "canvas.create_oval(pivot_point[0]-3, pivot_point[1]-3, pivot_point[0]+3, pivot_point[1]+3)\n",
    "\n",
    "rotated_vertices = rotate(triangle_vertices, -115, pivot_point)\n",
    "root.after(2000, draw_triangle, canvas, rotated_vertices)\n",
    "root.after(2010, canvas.create_oval, pivot_point[0]-3, pivot_point[1]-3, pivot_point[0]+3, pivot_point[1]+3 )\n",
    "\n",
    "root.mainloop()\n"
   ]
  },
  {
   "cell_type": "markdown",
   "metadata": {},
   "source": [
    "### Second level difficulty\n",
    "Develop a software script that implements basic operations of 3D transformations on square pyramid: axonometric\n",
    "projection of any type and cyclic rotation (animation) of a 3D graphic object around vertical axis. For development\n",
    "use matrix operations. The input matrix of the coordinates of the corners of the geometric figure should be homogenous.\n",
    "The figure should appear and disappear, it should appear in different parts of the window. It should randomly change the color of it's outline between appearances. Use tkinter to render the figure to the screen.\n",
    "Choose yourself: window size, figure size, position of the figure. All transformation operations have to be carried out within graphic window."
   ]
  },
  {
   "cell_type": "code",
   "execution_count": null,
   "metadata": {},
   "outputs": [],
   "source": []
  }
 ],
 "metadata": {
  "kernelspec": {
   "display_name": "pip_env",
   "language": "python",
   "name": "python3"
  },
  "language_info": {
   "codemirror_mode": {
    "name": "ipython",
    "version": 3
   },
   "file_extension": ".py",
   "mimetype": "text/x-python",
   "name": "python",
   "nbconvert_exporter": "python",
   "pygments_lexer": "ipython3",
   "version": "3.10.13"
  }
 },
 "nbformat": 4,
 "nbformat_minor": 2
}
