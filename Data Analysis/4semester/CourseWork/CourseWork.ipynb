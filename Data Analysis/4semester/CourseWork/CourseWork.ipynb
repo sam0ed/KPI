{
 "cells": [
  {
   "cell_type": "code",
   "execution_count": 44,
   "metadata": {
    "ExecuteTime": {
     "end_time": "2023-06-03T18:27:13.176827500Z",
     "start_time": "2023-06-03T18:27:13.151840700Z"
    }
   },
   "outputs": [],
   "source": [
    "import pandas as pd\n",
    "import seaborn as sns\n",
    "from sklearn.model_selection import train_test_split\n",
    "from sklearn.tree import  DecisionTreeClassifier\n",
    "from sklearn.neighbors import KNeighborsClassifier\n",
    "from sklearn.model_selection import GridSearchCV\n",
    "from sklearn.metrics import classification_report, plot_confusion_matrix\n",
    "import matplotlib.pyplot as plt\n",
    "\n",
    "import warnings\n",
    "warnings.filterwarnings(\"ignore\", category=FutureWarning)"
   ]
  },
  {
   "cell_type": "code",
   "execution_count": 2,
   "metadata": {
    "ExecuteTime": {
     "end_time": "2023-06-03T13:58:27.573561500Z",
     "start_time": "2023-06-03T13:58:27.422665300Z"
    }
   },
   "outputs": [
    {
     "name": "stdout",
     "output_type": "stream",
     "text": [
      "<class 'pandas.core.frame.DataFrame'>\n",
      "Int64Index: 1054 entries, 1 to 1054\n",
      "Data columns (total 17 columns):\n",
      " #   Column                  Non-Null Count  Dtype \n",
      "---  ------                  --------------  ----- \n",
      " 0   A1                      1054 non-null   int64 \n",
      " 1   A2                      1054 non-null   int64 \n",
      " 2   A3                      1054 non-null   int64 \n",
      " 3   A4                      1054 non-null   int64 \n",
      " 4   A5                      1054 non-null   int64 \n",
      " 5   A6                      1054 non-null   int64 \n",
      " 6   A7                      1054 non-null   int64 \n",
      " 7   A8                      1054 non-null   int64 \n",
      " 8   A9                      1054 non-null   int64 \n",
      " 9   A10                     1054 non-null   int64 \n",
      " 10  Age_Mons                1054 non-null   int64 \n",
      " 11  Sex                     1054 non-null   object\n",
      " 12  Ethnicity               1054 non-null   object\n",
      " 13  Jaundice                1054 non-null   object\n",
      " 14  Family_mem_with_ASD     1054 non-null   object\n",
      " 15  Who completed the test  1054 non-null   object\n",
      " 16  Class/ASD Traits        1054 non-null   object\n",
      "dtypes: int64(11), object(6)\n",
      "memory usage: 148.2+ KB\n"
     ]
    },
    {
     "data": {
      "text/html": [
       "<div>\n",
       "<style scoped>\n",
       "    .dataframe tbody tr th:only-of-type {\n",
       "        vertical-align: middle;\n",
       "    }\n",
       "\n",
       "    .dataframe tbody tr th {\n",
       "        vertical-align: top;\n",
       "    }\n",
       "\n",
       "    .dataframe thead th {\n",
       "        text-align: right;\n",
       "    }\n",
       "</style>\n",
       "<table border=\"1\" class=\"dataframe\">\n",
       "  <thead>\n",
       "    <tr style=\"text-align: right;\">\n",
       "      <th></th>\n",
       "      <th>A1</th>\n",
       "      <th>A2</th>\n",
       "      <th>A3</th>\n",
       "      <th>A4</th>\n",
       "      <th>A5</th>\n",
       "      <th>A6</th>\n",
       "      <th>A7</th>\n",
       "      <th>A8</th>\n",
       "      <th>A9</th>\n",
       "      <th>A10</th>\n",
       "      <th>Age_Mons</th>\n",
       "      <th>Sex</th>\n",
       "      <th>Ethnicity</th>\n",
       "      <th>Jaundice</th>\n",
       "      <th>Family_mem_with_ASD</th>\n",
       "      <th>Who completed the test</th>\n",
       "      <th>Class/ASD Traits</th>\n",
       "    </tr>\n",
       "    <tr>\n",
       "      <th>Case_No</th>\n",
       "      <th></th>\n",
       "      <th></th>\n",
       "      <th></th>\n",
       "      <th></th>\n",
       "      <th></th>\n",
       "      <th></th>\n",
       "      <th></th>\n",
       "      <th></th>\n",
       "      <th></th>\n",
       "      <th></th>\n",
       "      <th></th>\n",
       "      <th></th>\n",
       "      <th></th>\n",
       "      <th></th>\n",
       "      <th></th>\n",
       "      <th></th>\n",
       "      <th></th>\n",
       "    </tr>\n",
       "  </thead>\n",
       "  <tbody>\n",
       "    <tr>\n",
       "      <th>1</th>\n",
       "      <td>0</td>\n",
       "      <td>0</td>\n",
       "      <td>0</td>\n",
       "      <td>0</td>\n",
       "      <td>0</td>\n",
       "      <td>0</td>\n",
       "      <td>1</td>\n",
       "      <td>1</td>\n",
       "      <td>0</td>\n",
       "      <td>1</td>\n",
       "      <td>28</td>\n",
       "      <td>f</td>\n",
       "      <td>middle eastern</td>\n",
       "      <td>yes</td>\n",
       "      <td>no</td>\n",
       "      <td>family member</td>\n",
       "      <td>No</td>\n",
       "    </tr>\n",
       "    <tr>\n",
       "      <th>2</th>\n",
       "      <td>1</td>\n",
       "      <td>1</td>\n",
       "      <td>0</td>\n",
       "      <td>0</td>\n",
       "      <td>0</td>\n",
       "      <td>1</td>\n",
       "      <td>1</td>\n",
       "      <td>0</td>\n",
       "      <td>0</td>\n",
       "      <td>0</td>\n",
       "      <td>36</td>\n",
       "      <td>m</td>\n",
       "      <td>White European</td>\n",
       "      <td>yes</td>\n",
       "      <td>no</td>\n",
       "      <td>family member</td>\n",
       "      <td>Yes</td>\n",
       "    </tr>\n",
       "    <tr>\n",
       "      <th>3</th>\n",
       "      <td>1</td>\n",
       "      <td>0</td>\n",
       "      <td>0</td>\n",
       "      <td>0</td>\n",
       "      <td>0</td>\n",
       "      <td>0</td>\n",
       "      <td>1</td>\n",
       "      <td>1</td>\n",
       "      <td>0</td>\n",
       "      <td>1</td>\n",
       "      <td>36</td>\n",
       "      <td>m</td>\n",
       "      <td>middle eastern</td>\n",
       "      <td>yes</td>\n",
       "      <td>no</td>\n",
       "      <td>family member</td>\n",
       "      <td>Yes</td>\n",
       "    </tr>\n",
       "    <tr>\n",
       "      <th>4</th>\n",
       "      <td>1</td>\n",
       "      <td>1</td>\n",
       "      <td>1</td>\n",
       "      <td>1</td>\n",
       "      <td>1</td>\n",
       "      <td>1</td>\n",
       "      <td>1</td>\n",
       "      <td>1</td>\n",
       "      <td>1</td>\n",
       "      <td>1</td>\n",
       "      <td>24</td>\n",
       "      <td>m</td>\n",
       "      <td>Hispanic</td>\n",
       "      <td>no</td>\n",
       "      <td>no</td>\n",
       "      <td>family member</td>\n",
       "      <td>Yes</td>\n",
       "    </tr>\n",
       "    <tr>\n",
       "      <th>5</th>\n",
       "      <td>1</td>\n",
       "      <td>1</td>\n",
       "      <td>0</td>\n",
       "      <td>1</td>\n",
       "      <td>1</td>\n",
       "      <td>1</td>\n",
       "      <td>1</td>\n",
       "      <td>1</td>\n",
       "      <td>1</td>\n",
       "      <td>1</td>\n",
       "      <td>20</td>\n",
       "      <td>f</td>\n",
       "      <td>White European</td>\n",
       "      <td>no</td>\n",
       "      <td>yes</td>\n",
       "      <td>family member</td>\n",
       "      <td>Yes</td>\n",
       "    </tr>\n",
       "  </tbody>\n",
       "</table>\n",
       "</div>"
      ],
      "text/plain": [
       "         A1  A2  A3  A4  A5  A6  A7  A8  A9  A10  Age_Mons Sex  \\\n",
       "Case_No                                                          \n",
       "1         0   0   0   0   0   0   1   1   0    1        28   f   \n",
       "2         1   1   0   0   0   1   1   0   0    0        36   m   \n",
       "3         1   0   0   0   0   0   1   1   0    1        36   m   \n",
       "4         1   1   1   1   1   1   1   1   1    1        24   m   \n",
       "5         1   1   0   1   1   1   1   1   1    1        20   f   \n",
       "\n",
       "              Ethnicity Jaundice Family_mem_with_ASD Who completed the test  \\\n",
       "Case_No                                                                       \n",
       "1        middle eastern      yes                  no          family member   \n",
       "2        White European      yes                  no          family member   \n",
       "3        middle eastern      yes                  no          family member   \n",
       "4              Hispanic       no                  no          family member   \n",
       "5        White European       no                 yes          family member   \n",
       "\n",
       "        Class/ASD Traits   \n",
       "Case_No                    \n",
       "1                      No  \n",
       "2                     Yes  \n",
       "3                     Yes  \n",
       "4                     Yes  \n",
       "5                     Yes  "
      ]
     },
     "execution_count": 2,
     "metadata": {},
     "output_type": "execute_result"
    }
   ],
   "source": [
    "df =  pd.read_csv('autism_dataset/data.csv', index_col='Case_No')\n",
    "\n",
    "df.info()\n",
    "df.head()"
   ]
  },
  {
   "cell_type": "markdown",
   "metadata": {},
   "source": [
    "Printing possible pool of values for each column of the dataframe."
   ]
  },
  {
   "cell_type": "code",
   "execution_count": 3,
   "metadata": {
    "ExecuteTime": {
     "end_time": "2023-06-02T20:25:47.010029Z",
     "start_time": "2023-06-02T20:25:46.670035300Z"
    }
   },
   "outputs": [
    {
     "name": "stdout",
     "output_type": "stream",
     "text": [
      "'A1' : [0, 1]\n",
      "'A2' : [0, 1]\n",
      "'A3' : [0, 1]\n",
      "'A4' : [0, 1]\n",
      "'A5' : [0, 1]\n",
      "'A6' : [0, 1]\n",
      "'A7' : [0, 1]\n",
      "'A8' : [0, 1]\n",
      "'A9' : [0, 1]\n",
      "'A10' : [0, 1]\n",
      "'Age_Mons' : [12, 13, 14, 15, 16, 17, 18, 19, 20, 21, 22, 23, 24, 25, 26, 27, 28, 29, 30, 31, 32, 33, 34, 35, 36]\n",
      "'Sex' : ['f', 'm']\n",
      "'Ethnicity' : ['Hispanic', 'Latino', 'Native Indian', 'Others', 'Pacifica', 'White European', 'asian', 'black', 'middle eastern', 'mixed', 'south asian']\n",
      "'Jaundice' : ['no', 'yes']\n",
      "'Family_mem_with_ASD' : ['no', 'yes']\n",
      "'Who completed the test' : ['Health Care Professional', 'Health care professional', 'Others', 'Self', 'family member']\n",
      "'Class/ASD Traits ' : ['No', 'Yes']\n"
     ]
    }
   ],
   "source": [
    "for column in df.columns:\n",
    "    unique_values = df[column].unique()\n",
    "    print(f\"'{column}' : {sorted(unique_values.tolist())}\")"
   ]
  },
  {
   "cell_type": "markdown",
   "metadata": {},
   "source": [
    "Checking the proportion of observations that were completed by the individual without help from others."
   ]
  },
  {
   "cell_type": "code",
   "execution_count": 4,
   "metadata": {
    "ExecuteTime": {
     "end_time": "2023-06-02T20:25:47.036029900Z",
     "start_time": "2023-06-02T20:25:46.782022400Z"
    }
   },
   "outputs": [
    {
     "name": "stdout",
     "output_type": "stream",
     "text": [
      "Percentage of entries where test is self-completed: 0.38% which is 4.0 entries\n"
     ]
    }
   ],
   "source": [
    "total_entries = len(df)\n",
    "selected_entries = len(df[df['Who completed the test'] == 'Self'])\n",
    "percentage = (selected_entries / total_entries) * 100\n",
    "\n",
    "print(f\"Percentage of entries where test is self-completed: {percentage:.2f}% which is {total_entries*percentage/100} entries\")"
   ]
  },
  {
   "cell_type": "markdown",
   "metadata": {},
   "source": [
    "The child at this age most probably can't perform the test on its own so the entries which have self label are most probably false. As the percentage of such entries is very low, let's remove them from the dataframe."
   ]
  },
  {
   "cell_type": "code",
   "execution_count": 5,
   "metadata": {
    "ExecuteTime": {
     "end_time": "2023-06-02T20:25:47.075353900Z",
     "start_time": "2023-06-02T20:25:46.850038900Z"
    }
   },
   "outputs": [
    {
     "data": {
      "text/plain": [
       "1050"
      ]
     },
     "execution_count": 5,
     "metadata": {},
     "output_type": "execute_result"
    }
   ],
   "source": [
    "df = df[df['Who completed the test'] != 'Self']\n",
    "len(df)"
   ]
  },
  {
   "cell_type": "markdown",
   "metadata": {},
   "source": [
    "Cleaning the data"
   ]
  },
  {
   "cell_type": "code",
   "execution_count": 6,
   "metadata": {
    "ExecuteTime": {
     "end_time": "2023-06-02T20:25:47.300605600Z",
     "start_time": "2023-06-02T20:25:46.982040800Z"
    }
   },
   "outputs": [
    {
     "name": "stdout",
     "output_type": "stream",
     "text": [
      "'A1' : [0, 1]\n",
      "'A2' : [0, 1]\n",
      "'A3' : [0, 1]\n",
      "'A4' : [0, 1]\n",
      "'A5' : [0, 1]\n",
      "'A6' : [0, 1]\n",
      "'A7' : [0, 1]\n",
      "'A8' : [0, 1]\n",
      "'A9' : [0, 1]\n",
      "'A10' : [0, 1]\n",
      "'Age' : [12, 13, 14, 15, 16, 17, 18, 19, 20, 21, 22, 23, 24, 25, 26, 27, 28, 29, 30, 31, 32, 33, 34, 35, 36]\n",
      "'Sex' : ['f', 'm']\n",
      "'Ethnicity' : ['Asian', 'Black', 'Hispanic', 'Latino', 'MiddleEastern', 'Mixed', 'NativeIndian', 'Others', 'Pacifica', 'SouthAsian', 'WhiteEuropean']\n",
      "'Jaundice' : ['no', 'yes']\n",
      "'HasFamilyAsd' : ['no', 'yes']\n",
      "'CompletedBy' : ['FamilyMember', 'HealthCareProfessional', 'Others']\n",
      "'HasAsdTraits' : ['No', 'Yes']\n"
     ]
    }
   ],
   "source": [
    "# fixing the naming of the columns\n",
    "df.columns = df.columns.str.strip()\n",
    "df_cleaned = df.rename(columns= {'Age_Mons':'Age', 'Family_mem_with_ASD': 'HasFamilyAsd', 'Who completed the test': 'CompletedBy', 'Class/ASD Traits':'HasAsdTraits'})\n",
    "\n",
    "#fixing the values inside the columns\n",
    "df_cleaned['CompletedBy'] = df_cleaned['CompletedBy'].str.title().str.replace(' ', '')\n",
    "df_cleaned['Ethnicity'] = df_cleaned['Ethnicity'].str.title().str.replace(' ', '')\n",
    "\n",
    "for column in df_cleaned.columns:\n",
    "    unique_values = df_cleaned[column].unique()\n",
    "    print(f\"'{column}' : {sorted(unique_values.tolist())}\")"
   ]
  },
  {
   "cell_type": "markdown",
   "metadata": {},
   "source": [
    "Perform encoding of the categorical data."
   ]
  },
  {
   "cell_type": "code",
   "execution_count": 7,
   "metadata": {
    "ExecuteTime": {
     "end_time": "2023-06-02T20:25:47.417626800Z",
     "start_time": "2023-06-02T20:25:47.075353900Z"
    }
   },
   "outputs": [
    {
     "data": {
      "text/html": [
       "<div>\n",
       "<style scoped>\n",
       "    .dataframe tbody tr th:only-of-type {\n",
       "        vertical-align: middle;\n",
       "    }\n",
       "\n",
       "    .dataframe tbody tr th {\n",
       "        vertical-align: top;\n",
       "    }\n",
       "\n",
       "    .dataframe thead th {\n",
       "        text-align: right;\n",
       "    }\n",
       "</style>\n",
       "<table border=\"1\" class=\"dataframe\">\n",
       "  <thead>\n",
       "    <tr style=\"text-align: right;\">\n",
       "      <th></th>\n",
       "      <th>A1</th>\n",
       "      <th>A2</th>\n",
       "      <th>A3</th>\n",
       "      <th>A4</th>\n",
       "      <th>A5</th>\n",
       "      <th>A6</th>\n",
       "      <th>A7</th>\n",
       "      <th>A8</th>\n",
       "      <th>A9</th>\n",
       "      <th>A10</th>\n",
       "      <th>...</th>\n",
       "      <th>Ethnicity_Black</th>\n",
       "      <th>Ethnicity_Hispanic</th>\n",
       "      <th>Ethnicity_Latino</th>\n",
       "      <th>Ethnicity_MiddleEastern</th>\n",
       "      <th>Ethnicity_Mixed</th>\n",
       "      <th>Ethnicity_NativeIndian</th>\n",
       "      <th>Ethnicity_Others</th>\n",
       "      <th>Ethnicity_Pacifica</th>\n",
       "      <th>Ethnicity_SouthAsian</th>\n",
       "      <th>Ethnicity_WhiteEuropean</th>\n",
       "    </tr>\n",
       "    <tr>\n",
       "      <th>Case_No</th>\n",
       "      <th></th>\n",
       "      <th></th>\n",
       "      <th></th>\n",
       "      <th></th>\n",
       "      <th></th>\n",
       "      <th></th>\n",
       "      <th></th>\n",
       "      <th></th>\n",
       "      <th></th>\n",
       "      <th></th>\n",
       "      <th></th>\n",
       "      <th></th>\n",
       "      <th></th>\n",
       "      <th></th>\n",
       "      <th></th>\n",
       "      <th></th>\n",
       "      <th></th>\n",
       "      <th></th>\n",
       "      <th></th>\n",
       "      <th></th>\n",
       "      <th></th>\n",
       "    </tr>\n",
       "  </thead>\n",
       "  <tbody>\n",
       "    <tr>\n",
       "      <th>1</th>\n",
       "      <td>0</td>\n",
       "      <td>0</td>\n",
       "      <td>0</td>\n",
       "      <td>0</td>\n",
       "      <td>0</td>\n",
       "      <td>0</td>\n",
       "      <td>1</td>\n",
       "      <td>1</td>\n",
       "      <td>0</td>\n",
       "      <td>1</td>\n",
       "      <td>...</td>\n",
       "      <td>0</td>\n",
       "      <td>0</td>\n",
       "      <td>0</td>\n",
       "      <td>1</td>\n",
       "      <td>0</td>\n",
       "      <td>0</td>\n",
       "      <td>0</td>\n",
       "      <td>0</td>\n",
       "      <td>0</td>\n",
       "      <td>0</td>\n",
       "    </tr>\n",
       "    <tr>\n",
       "      <th>2</th>\n",
       "      <td>1</td>\n",
       "      <td>1</td>\n",
       "      <td>0</td>\n",
       "      <td>0</td>\n",
       "      <td>0</td>\n",
       "      <td>1</td>\n",
       "      <td>1</td>\n",
       "      <td>0</td>\n",
       "      <td>0</td>\n",
       "      <td>0</td>\n",
       "      <td>...</td>\n",
       "      <td>0</td>\n",
       "      <td>0</td>\n",
       "      <td>0</td>\n",
       "      <td>0</td>\n",
       "      <td>0</td>\n",
       "      <td>0</td>\n",
       "      <td>0</td>\n",
       "      <td>0</td>\n",
       "      <td>0</td>\n",
       "      <td>1</td>\n",
       "    </tr>\n",
       "    <tr>\n",
       "      <th>3</th>\n",
       "      <td>1</td>\n",
       "      <td>0</td>\n",
       "      <td>0</td>\n",
       "      <td>0</td>\n",
       "      <td>0</td>\n",
       "      <td>0</td>\n",
       "      <td>1</td>\n",
       "      <td>1</td>\n",
       "      <td>0</td>\n",
       "      <td>1</td>\n",
       "      <td>...</td>\n",
       "      <td>0</td>\n",
       "      <td>0</td>\n",
       "      <td>0</td>\n",
       "      <td>1</td>\n",
       "      <td>0</td>\n",
       "      <td>0</td>\n",
       "      <td>0</td>\n",
       "      <td>0</td>\n",
       "      <td>0</td>\n",
       "      <td>0</td>\n",
       "    </tr>\n",
       "    <tr>\n",
       "      <th>4</th>\n",
       "      <td>1</td>\n",
       "      <td>1</td>\n",
       "      <td>1</td>\n",
       "      <td>1</td>\n",
       "      <td>1</td>\n",
       "      <td>1</td>\n",
       "      <td>1</td>\n",
       "      <td>1</td>\n",
       "      <td>1</td>\n",
       "      <td>1</td>\n",
       "      <td>...</td>\n",
       "      <td>0</td>\n",
       "      <td>1</td>\n",
       "      <td>0</td>\n",
       "      <td>0</td>\n",
       "      <td>0</td>\n",
       "      <td>0</td>\n",
       "      <td>0</td>\n",
       "      <td>0</td>\n",
       "      <td>0</td>\n",
       "      <td>0</td>\n",
       "    </tr>\n",
       "    <tr>\n",
       "      <th>5</th>\n",
       "      <td>1</td>\n",
       "      <td>1</td>\n",
       "      <td>0</td>\n",
       "      <td>1</td>\n",
       "      <td>1</td>\n",
       "      <td>1</td>\n",
       "      <td>1</td>\n",
       "      <td>1</td>\n",
       "      <td>1</td>\n",
       "      <td>1</td>\n",
       "      <td>...</td>\n",
       "      <td>0</td>\n",
       "      <td>0</td>\n",
       "      <td>0</td>\n",
       "      <td>0</td>\n",
       "      <td>0</td>\n",
       "      <td>0</td>\n",
       "      <td>0</td>\n",
       "      <td>0</td>\n",
       "      <td>0</td>\n",
       "      <td>1</td>\n",
       "    </tr>\n",
       "    <tr>\n",
       "      <th>...</th>\n",
       "      <td>...</td>\n",
       "      <td>...</td>\n",
       "      <td>...</td>\n",
       "      <td>...</td>\n",
       "      <td>...</td>\n",
       "      <td>...</td>\n",
       "      <td>...</td>\n",
       "      <td>...</td>\n",
       "      <td>...</td>\n",
       "      <td>...</td>\n",
       "      <td>...</td>\n",
       "      <td>...</td>\n",
       "      <td>...</td>\n",
       "      <td>...</td>\n",
       "      <td>...</td>\n",
       "      <td>...</td>\n",
       "      <td>...</td>\n",
       "      <td>...</td>\n",
       "      <td>...</td>\n",
       "      <td>...</td>\n",
       "      <td>...</td>\n",
       "    </tr>\n",
       "    <tr>\n",
       "      <th>1050</th>\n",
       "      <td>0</td>\n",
       "      <td>0</td>\n",
       "      <td>0</td>\n",
       "      <td>0</td>\n",
       "      <td>0</td>\n",
       "      <td>0</td>\n",
       "      <td>0</td>\n",
       "      <td>0</td>\n",
       "      <td>0</td>\n",
       "      <td>1</td>\n",
       "      <td>...</td>\n",
       "      <td>0</td>\n",
       "      <td>0</td>\n",
       "      <td>0</td>\n",
       "      <td>0</td>\n",
       "      <td>0</td>\n",
       "      <td>0</td>\n",
       "      <td>0</td>\n",
       "      <td>0</td>\n",
       "      <td>0</td>\n",
       "      <td>1</td>\n",
       "    </tr>\n",
       "    <tr>\n",
       "      <th>1051</th>\n",
       "      <td>0</td>\n",
       "      <td>0</td>\n",
       "      <td>1</td>\n",
       "      <td>1</td>\n",
       "      <td>1</td>\n",
       "      <td>0</td>\n",
       "      <td>1</td>\n",
       "      <td>0</td>\n",
       "      <td>1</td>\n",
       "      <td>0</td>\n",
       "      <td>...</td>\n",
       "      <td>1</td>\n",
       "      <td>0</td>\n",
       "      <td>0</td>\n",
       "      <td>0</td>\n",
       "      <td>0</td>\n",
       "      <td>0</td>\n",
       "      <td>0</td>\n",
       "      <td>0</td>\n",
       "      <td>0</td>\n",
       "      <td>0</td>\n",
       "    </tr>\n",
       "    <tr>\n",
       "      <th>1052</th>\n",
       "      <td>1</td>\n",
       "      <td>0</td>\n",
       "      <td>1</td>\n",
       "      <td>1</td>\n",
       "      <td>1</td>\n",
       "      <td>1</td>\n",
       "      <td>1</td>\n",
       "      <td>1</td>\n",
       "      <td>1</td>\n",
       "      <td>1</td>\n",
       "      <td>...</td>\n",
       "      <td>0</td>\n",
       "      <td>0</td>\n",
       "      <td>0</td>\n",
       "      <td>1</td>\n",
       "      <td>0</td>\n",
       "      <td>0</td>\n",
       "      <td>0</td>\n",
       "      <td>0</td>\n",
       "      <td>0</td>\n",
       "      <td>0</td>\n",
       "    </tr>\n",
       "    <tr>\n",
       "      <th>1053</th>\n",
       "      <td>1</td>\n",
       "      <td>0</td>\n",
       "      <td>0</td>\n",
       "      <td>0</td>\n",
       "      <td>0</td>\n",
       "      <td>0</td>\n",
       "      <td>0</td>\n",
       "      <td>1</td>\n",
       "      <td>0</td>\n",
       "      <td>1</td>\n",
       "      <td>...</td>\n",
       "      <td>0</td>\n",
       "      <td>0</td>\n",
       "      <td>0</td>\n",
       "      <td>0</td>\n",
       "      <td>0</td>\n",
       "      <td>0</td>\n",
       "      <td>0</td>\n",
       "      <td>0</td>\n",
       "      <td>0</td>\n",
       "      <td>1</td>\n",
       "    </tr>\n",
       "    <tr>\n",
       "      <th>1054</th>\n",
       "      <td>1</td>\n",
       "      <td>1</td>\n",
       "      <td>0</td>\n",
       "      <td>0</td>\n",
       "      <td>1</td>\n",
       "      <td>1</td>\n",
       "      <td>0</td>\n",
       "      <td>1</td>\n",
       "      <td>1</td>\n",
       "      <td>0</td>\n",
       "      <td>...</td>\n",
       "      <td>0</td>\n",
       "      <td>0</td>\n",
       "      <td>0</td>\n",
       "      <td>0</td>\n",
       "      <td>0</td>\n",
       "      <td>0</td>\n",
       "      <td>0</td>\n",
       "      <td>0</td>\n",
       "      <td>0</td>\n",
       "      <td>0</td>\n",
       "    </tr>\n",
       "  </tbody>\n",
       "</table>\n",
       "<p>1050 rows × 29 columns</p>\n",
       "</div>"
      ],
      "text/plain": [
       "         A1  A2  A3  A4  A5  A6  A7  A8  A9  A10  ...  Ethnicity_Black  \\\n",
       "Case_No                                           ...                    \n",
       "1         0   0   0   0   0   0   1   1   0    1  ...                0   \n",
       "2         1   1   0   0   0   1   1   0   0    0  ...                0   \n",
       "3         1   0   0   0   0   0   1   1   0    1  ...                0   \n",
       "4         1   1   1   1   1   1   1   1   1    1  ...                0   \n",
       "5         1   1   0   1   1   1   1   1   1    1  ...                0   \n",
       "...      ..  ..  ..  ..  ..  ..  ..  ..  ..  ...  ...              ...   \n",
       "1050      0   0   0   0   0   0   0   0   0    1  ...                0   \n",
       "1051      0   0   1   1   1   0   1   0   1    0  ...                1   \n",
       "1052      1   0   1   1   1   1   1   1   1    1  ...                0   \n",
       "1053      1   0   0   0   0   0   0   1   0    1  ...                0   \n",
       "1054      1   1   0   0   1   1   0   1   1    0  ...                0   \n",
       "\n",
       "         Ethnicity_Hispanic  Ethnicity_Latino  Ethnicity_MiddleEastern  \\\n",
       "Case_No                                                                  \n",
       "1                         0                 0                        1   \n",
       "2                         0                 0                        0   \n",
       "3                         0                 0                        1   \n",
       "4                         1                 0                        0   \n",
       "5                         0                 0                        0   \n",
       "...                     ...               ...                      ...   \n",
       "1050                      0                 0                        0   \n",
       "1051                      0                 0                        0   \n",
       "1052                      0                 0                        1   \n",
       "1053                      0                 0                        0   \n",
       "1054                      0                 0                        0   \n",
       "\n",
       "         Ethnicity_Mixed  Ethnicity_NativeIndian  Ethnicity_Others  \\\n",
       "Case_No                                                              \n",
       "1                      0                       0                 0   \n",
       "2                      0                       0                 0   \n",
       "3                      0                       0                 0   \n",
       "4                      0                       0                 0   \n",
       "5                      0                       0                 0   \n",
       "...                  ...                     ...               ...   \n",
       "1050                   0                       0                 0   \n",
       "1051                   0                       0                 0   \n",
       "1052                   0                       0                 0   \n",
       "1053                   0                       0                 0   \n",
       "1054                   0                       0                 0   \n",
       "\n",
       "         Ethnicity_Pacifica  Ethnicity_SouthAsian  Ethnicity_WhiteEuropean  \n",
       "Case_No                                                                     \n",
       "1                         0                     0                        0  \n",
       "2                         0                     0                        1  \n",
       "3                         0                     0                        0  \n",
       "4                         0                     0                        0  \n",
       "5                         0                     0                        1  \n",
       "...                     ...                   ...                      ...  \n",
       "1050                      0                     0                        1  \n",
       "1051                      0                     0                        0  \n",
       "1052                      0                     0                        0  \n",
       "1053                      0                     0                        1  \n",
       "1054                      0                     0                        0  \n",
       "\n",
       "[1050 rows x 29 columns]"
      ]
     },
     "execution_count": 7,
     "metadata": {},
     "output_type": "execute_result"
    }
   ],
   "source": [
    "# encoding of binary variables\n",
    "df_cleaned['Sex'] = df_cleaned['Sex'].map({'f':0,'m':1}).astype(int)\n",
    "df_cleaned['Jaundice'] = df_cleaned['Jaundice'].map({'no':0,'yes':1}).astype(int)\n",
    "df_cleaned['HasFamilyAsd'] = df_cleaned['HasFamilyAsd'].map({'no':0,'yes':1}).astype(int)\n",
    "df_cleaned['HasAsdTraits'] = df_cleaned['HasAsdTraits'].map({'No':0,'Yes':1}).astype(int)\n",
    "\n",
    "\n",
    "#encoding of non binary variables\n",
    "df_cleaned = pd.get_dummies(df_cleaned, columns=['CompletedBy'], prefix='CompletedBy')\n",
    "df_cleaned = pd.get_dummies(df_cleaned, columns=['Ethnicity'], prefix='Ethnicity')\n",
    "\n",
    "df_cleaned"
   ]
  },
  {
   "cell_type": "markdown",
   "metadata": {},
   "source": [
    "Visualization of observation outcomes"
   ]
  },
  {
   "cell_type": "code",
   "execution_count": 8,
   "metadata": {
    "ExecuteTime": {
     "end_time": "2023-06-02T20:25:47.843823800Z",
     "start_time": "2023-06-02T20:25:47.285609700Z"
    }
   },
   "outputs": [
    {
     "data": {
      "text/plain": [
       "<AxesSubplot:xlabel='Class/ASD Traits', ylabel='count'>"
      ]
     },
     "execution_count": 8,
     "metadata": {},
     "output_type": "execute_result"
    },
    {
     "data": {
      "image/png": "[encoded data removed]",
      "text/plain": [
       "<Figure size 640x480 with 1 Axes>"
      ]
     },
     "metadata": {},
     "output_type": "display_data"
    }
   ],
   "source": [
    "sns.countplot(x='Class/ASD Traits', data= df)"
   ]
  },
  {
   "cell_type": "markdown",
   "metadata": {},
   "source": [
    "Splitting the data into training and testing sets."
   ]
  },
  {
   "cell_type": "code",
   "execution_count": 9,
   "metadata": {
    "ExecuteTime": {
     "end_time": "2023-06-02T20:25:47.844823300Z",
     "start_time": "2023-06-02T20:25:47.667612200Z"
    }
   },
   "outputs": [],
   "source": [
    "X = df_cleaned.drop(columns='HasAsdTraits')\n",
    "y = df_cleaned['HasAsdTraits']\n",
    "X_train, X_test, y_train, y_test = train_test_split(X, y, test_size=0.2, random_state=42)"
   ]
  },
  {
   "cell_type": "code",
   "execution_count": 34,
   "metadata": {
    "ExecuteTime": {
     "end_time": "2023-06-02T20:25:52.426104Z",
     "start_time": "2023-06-02T20:25:47.704825900Z"
    }
   },
   "outputs": [
    {
     "name": "stdout",
     "output_type": "stream",
     "text": [
      "Best parametrs -  KNeighborsClassifier(n_neighbors=9)\n"
     ]
    }
   ],
   "source": [
    "clasifier = KNeighborsClassifier()\n",
    "parameters = {'n_neighbors': range(1, 11)}\n",
    "gridsearch = GridSearchCV(clasifier, parameters, cv=9)\n",
    "gridsearch.fit(X_train, y_train)\n",
    "print(\"Best parametrs - \", gridsearch.best_estimator_)"
   ]
  },
  {
   "cell_type": "code",
   "execution_count": 25,
   "metadata": {},
   "outputs": [
    {
     "name": "stdout",
     "output_type": "stream",
     "text": [
      "\n",
      "Best k value: 9\n"
     ]
    }
   ],
   "source": [
    "from sklearn.model_selection import cross_val_score\n",
    "import numpy as np\n",
    "\n",
    "k_values = list(range(1, 11))\n",
    "accuracy_scores = []\n",
    "\n",
    "for k in k_values:\n",
    "    knn = KNeighborsClassifier(n_neighbors=k)\n",
    "    scores = cross_val_score(knn, X, y, cv=5)\n",
    "    accuracy_scores.append(np.mean(scores))\n",
    "\n",
    "best_k = k_values[np.argmax(accuracy_scores)]\n",
    "\n",
    "print(f\"\\nBest k value: {best_k}\")"
   ]
  },
  {
   "cell_type": "code",
   "execution_count": 35,
   "metadata": {},
   "outputs": [
    {
     "name": "stdout",
     "output_type": "stream",
     "text": [
      "Accuracy of K-NN classifier on training data:  0.95476\n",
      "Accuracy of K-NN classifier on test data:  0.94286\n"
     ]
    }
   ],
   "source": [
    "knn = KNeighborsClassifier(n_neighbors=best_k)\n",
    "knn.fit(X_train, y_train)\n",
    "print(\"Accuracy of K-NN classifier on training data: \",\n",
    "round(knn.score(X_train, y_train), 5))\n",
    "print(\"Accuracy of K-NN classifier on test data: \",\n",
    "round(knn.score(X_test, y_test), 5))"
   ]
  },
  {
   "cell_type": "code",
   "execution_count": 38,
   "metadata": {},
   "outputs": [
    {
     "name": "stdout",
     "output_type": "stream",
     "text": [
      "Classification Report - Test Data:\n",
      "              precision    recall  f1-score   support\n",
      "\n",
      "           0       0.87      0.97      0.92        70\n",
      "           1       0.98      0.93      0.96       140\n",
      "\n",
      "    accuracy                           0.94       210\n",
      "   macro avg       0.93      0.95      0.94       210\n",
      "weighted avg       0.95      0.94      0.94       210\n",
      "\n"
     ]
    }
   ],
   "source": [
    "y_test_pred = knn.predict(X_test)\n",
    "print(\"Classification Report - Test Data:\")\n",
    "test_report = classification_report(y_test, y_test_pred)\n",
    "print(test_report)"
   ]
  },
  {
   "cell_type": "code",
   "execution_count": 43,
   "metadata": {
    "ExecuteTime": {
     "end_time": "2023-06-03T18:00:26.149602500Z",
     "start_time": "2023-06-03T18:00:25.649606300Z"
    }
   },
   "outputs": [
    {
     "data": {
      "image/png": "[encoded data removed]",
      "text/plain": [
       "<Figure size 1600x400 with 1 Axes>"
      ]
     },
     "metadata": {},
     "output_type": "display_data"
    }
   ],
   "source": [
    "plt.rcParams[\"figure.figsize\"] = (16, 4)\n",
    "plt.gca().axes.get_yaxis().set_visible(False)\n",
    "plt.plot(X_test.index, y_test, \"yx\", label=\"True result\")\n",
    "plt.plot(X_test.index, knn.predict(X_test), \"b+\", label=\"Predict result\")\n",
    "plt.legend(loc=\"center right\", shadow=True)\n",
    "plt.show()"
   ]
  },
  {
   "cell_type": "code",
   "execution_count": 45,
   "metadata": {
    "ExecuteTime": {
     "end_time": "2023-06-03T18:27:26.042327900Z",
     "start_time": "2023-06-03T18:27:25.506197700Z"
    }
   },
   "outputs": [
    {
     "data": {
      "image/png": "[encoded data removed]",
      "text/plain": [
       "<Figure size 1600x400 with 2 Axes>"
      ]
     },
     "metadata": {},
     "output_type": "display_data"
    }
   ],
   "source": [
    "plot_confusion_matrix(knn, X_test, y_test, cmap=\"Greens\")\n",
    "plt.grid(False)"
   ]
  },
  {
   "cell_type": "code",
   "execution_count": 11,
   "metadata": {
    "ExecuteTime": {
     "end_time": "2023-06-02T20:25:52.465419800Z",
     "start_time": "2023-06-02T20:25:52.430103800Z"
    }
   },
   "outputs": [
    {
     "name": "stdout",
     "output_type": "stream",
     "text": [
      "Accuracy of DT classifier on training data:  1.0\n",
      "Accuracy of DT classifier on test data:  0.91905\n"
     ]
    }
   ],
   "source": [
    "dtc = DecisionTreeClassifier(random_state=42)\n",
    "dtc.fit(X_train, y_train)\n",
    "print(\"Accuracy of DT classifier on training data: \",\n",
    "round(dtc.score(X_train, y_train), 5))\n",
    "print(\"Accuracy of DT classifier on test data: \",\n",
    "round(dtc.score(X_test, y_test), 5))"
   ]
  },
  {
   "cell_type": "code",
   "execution_count": 39,
   "metadata": {},
   "outputs": [
    {
     "name": "stdout",
     "output_type": "stream",
     "text": [
      "Classification Report - Test Data:\n",
      "              precision    recall  f1-score   support\n",
      "\n",
      "           0       0.88      0.87      0.88        70\n",
      "           1       0.94      0.94      0.94       140\n",
      "\n",
      "    accuracy                           0.92       210\n",
      "   macro avg       0.91      0.91      0.91       210\n",
      "weighted avg       0.92      0.92      0.92       210\n",
      "\n"
     ]
    }
   ],
   "source": [
    "y_test_pred = dtc.predict(X_test)\n",
    "print(\"Classification Report - Test Data:\")\n",
    "test_report = classification_report(y_test, y_test_pred)\n",
    "print(test_report)"
   ]
  },
  {
   "cell_type": "code",
   "execution_count": 47,
   "metadata": {},
   "outputs": [
    {
     "data": {
      "image/png": "[encoded data removed]",
      "text/plain": [
       "<Figure size 1600x400 with 1 Axes>"
      ]
     },
     "metadata": {},
     "output_type": "display_data"
    }
   ],
   "source": [
    "plt.rcParams[\"figure.figsize\"] = (16, 4)\n",
    "plt.gca().axes.get_yaxis().set_visible(False)\n",
    "plt.plot(X_test.index, y_test, \"yx\", label=\"True result\")\n",
    "plt.plot(X_test.index, dtc.predict(X_test), \"b+\", label=\"Predict result\")\n",
    "plt.legend(loc=\"center right\", shadow=True)\n",
    "plt.show()"
   ]
  },
  {
   "cell_type": "code",
   "execution_count": 49,
   "metadata": {
    "ExecuteTime": {
     "end_time": "2023-06-03T18:28:19.778997700Z",
     "start_time": "2023-06-03T18:28:19.398559900Z"
    }
   },
   "outputs": [
    {
     "data": {
      "image/png": "[encoded data removed]",
      "text/plain": [
       "<Figure size 1600x400 with 2 Axes>"
      ]
     },
     "metadata": {},
     "output_type": "display_data"
    }
   ],
   "source": [
    "plot_confusion_matrix(dtc, X_test, y_test, cmap=\"Reds\")\n",
    "plt.grid(False)"
   ]
  }
 ],
 "metadata": {
  "kernelspec": {
   "display_name": "Python 3 (ipykernel)",
   "language": "python",
   "name": "python3"
  },
  "language_info": {
   "codemirror_mode": {
    "name": "ipython",
    "version": 3
   },
   "file_extension": ".py",
   "mimetype": "text/x-python",
   "name": "python",
   "nbconvert_exporter": "python",
   "pygments_lexer": "ipython3",
   "version": "3.9.13"
  }
 },
 "nbformat": 4,
 "nbformat_minor": 1
}
