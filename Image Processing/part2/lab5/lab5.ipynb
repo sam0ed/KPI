{
 "cells": [
  {
   "cell_type": "markdown",
   "metadata": {},
   "source": [
    "### Лабораторна робота №5, Штучний інтелект в задачах обробки зображень\n",
    "**Виконав**: студент групи ІП-11, Лошак Віктор Іванович<br>\n",
    "**Перевірив**: Нікітін В.А.<br>\n",
    "**Група студентів що виконувала роботу**: Шамков Іван, Кисельов Микита, Лошак Віктор<vr>\n",
    "\n",
    "**Тема роботи**: Прогнозування та розпізнавання об'єктів на фото та вiдео засобами ImageAI<br>\n",
    "**Мета роботи**: Навчитися працювати з бібліотекою ImageAI\n",
    "\n",
    "07.04.2024"
   ]
  },
  {
   "cell_type": "markdown",
   "metadata": {},
   "source": [
    "**Завдання**:<br>\n",
    "1. Зробити розпізнавання фруктів на будь-якій фотографії з ними;\n",
    "2. Використовуючи клас VideoObjectDetection зробити розпізнавання будь-яких об’єктів (наприклад, автомобілів) на відео.\n",
    "\n",
    "**Task**:<br>\n",
    "1. Recognize fruits in any photo;\n",
    "2. Use the VideoObjectDetection class to recognise any objects (for example, cars) in the video."
   ]
  },
  {
   "cell_type": "code",
   "execution_count": 1,
   "metadata": {},
   "outputs": [],
   "source": [
    "from imageai.Detection import ObjectDetection"
   ]
  },
  {
   "cell_type": "code",
   "execution_count": 2,
   "metadata": {},
   "outputs": [],
   "source": [
    "model_path = \"./models/yolo-tiny.h5\"\n",
    "input_path = \"./input/fruit_4.jpg\"\n",
    "output_path = \"./output/newimage.jpg\"\n",
    "\n",
    "detector = ObjectDetection()\n",
    "detector.setModelTypeAsTinyYOLOv3()\n",
    "detector.setModelPath(model_path)\n",
    "detector.loadModel()"
   ]
  },
  {
   "cell_type": "code",
   "execution_count": 3,
   "metadata": {},
   "outputs": [
    {
     "name": "stdout",
     "output_type": "stream",
     "text": [
      "1/1 [==============================] - 0s 435ms/step\n",
      "orange  :  57.58153200149536\n",
      "orange  :  82.83263444900513\n",
      "orange  :  63.7715220451355\n",
      "orange  :  58.011144399642944\n",
      "orange  :  55.93925714492798\n",
      "orange  :  65.90157151222229\n",
      "orange  :  73.76686334609985\n",
      "orange  :  56.96187615394592\n",
      "orange  :  55.5658757686615\n"
     ]
    }
   ],
   "source": [
    "detection = detector.detectObjectsFromImage(input_image=input_path, output_image_path=output_path)\n",
    "\n",
    "for eachItem in detection:\n",
    "    print(eachItem[\"name\"] , \" : \", eachItem[\"percentage_probability\"])"
   ]
  },
  {
   "cell_type": "markdown",
   "metadata": {},
   "source": [
    "#### Task 2:"
   ]
  },
  {
   "cell_type": "code",
   "execution_count": 4,
   "metadata": {},
   "outputs": [],
   "source": [
    "from imageai.Detection import VideoObjectDetection\n",
    "import os"
   ]
  },
  {
   "cell_type": "code",
   "execution_count": null,
   "metadata": {},
   "outputs": [],
   "source": [
    "execution_path = os.getcwd()\n",
    "\n",
    "detector = VideoObjectDetection()\n",
    "detector.setModelTypeAsTinyYOLOv3()\n",
    "detector.setModelPath(os.path.join(execution_path, \"models/yolo-tiny.h5\"))\n",
    "detector.loadModel()\n",
    "\n",
    "custom_objects = detector.CustomObjects(car=True)\n",
    "\n",
    "video_path = detector.detectCustomObjectsFromVideo(\n",
    "                custom_objects=custom_objects,\n",
    "                input_file_path=os.path.join(execution_path, \"./input/footage.mp4\"),\n",
    "                output_file_path=os.path.join(execution_path , \"./output/processed_footage\"),\n",
    "                frames_per_second=30,\n",
    "                minimum_percentage_probability=50)"
   ]
  },
  {
   "cell_type": "markdown",
   "metadata": {},
   "source": [
    "#### Control questions:\n",
    "1. Що таке виявлення об’єктів? \n",
    "2. Що таке ImageAI? \n",
    "3. Навіщо потрібен файл yolo-tiny.h5? \n",
    "4. Від чого залежить ймовірність розпізнавання об’єктів? \n",
    "5. Які можливі прикладні способи використання ImageAI?<br>\n",
    "\n",
    "**Answers:**<br>\n",
    "1. Виявлення об'єктів - це процес визначення та локалізації об'єктів на зображенні або відео. Це дозволяє ідентифікувати та розмістити об'єкти, такі як люди, тварини, транспортні засоби тощо, на зображенні.\n",
    "\n",
    "2. ImageAI - це бібліотека Python з відкритим вихідним кодом, яка дозволяє легко виконувати завдання виявлення та розпізнавання об'єктів, класифікації зображень, розпізнавання тексту та багато іншого.\n",
    "\n",
    "3. Файл yolo-tiny.h5 - це попередньо навчена модель нейронної мережі, яка використовується для виявлення об'єктів. Він необхідний, щоб ImageAI могла використовувати алгоритм YOLO (You Only Look Once) для виявлення об'єктів на зображеннях.\n",
    "\n",
    "4. Ймовірність розпізнавання об'єктів залежить від якості зображення, складності сцени, кількості та розміру об'єктів, а також від точності та надійності моделі, яка використовується для виявлення.\n",
    "\n",
    "5. Можливі прикладні способи використання ImageAI:\n",
    "   - Моніторинг безпеки та спостереження (виявлення підозрілих об'єктів, людей, транспортних засобів)\n",
    "   - Автоматизація інвентаризації та управління запасами\n",
    "   - Аналіз поведінки споживачів у роздрібній торгівлі\n",
    "   - Розумні системи відеоспостереження\n",
    "   - Медична діагностика (виявлення аномалій на зображеннях)\n",
    "   - Сільське господарство (моніторинг посівів, виявлення шкідників)\n",
    "   - Автономні транспортні засоби (виявлення перешкод, розпізнавання дорожніх знаків)\n",
    "\n"
   ]
  }
 ],
 "metadata": {
  "kernelspec": {
   "display_name": "pip_env",
   "language": "python",
   "name": "python3"
  },
  "language_info": {
   "codemirror_mode": {
    "name": "ipython",
    "version": 3
   },
   "file_extension": ".py",
   "mimetype": "text/x-python",
   "name": "python",
   "nbconvert_exporter": "python",
   "pygments_lexer": "ipython3",
   "version": "3.9.15"
  }
 },
 "nbformat": 4,
 "nbformat_minor": 2
}
