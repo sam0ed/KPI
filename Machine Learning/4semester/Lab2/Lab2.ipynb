{
 "cells": [
  {
   "cell_type": "markdown",
   "metadata": {},
   "source": [
    "1. In this laboratory work you need to download\n",
    "Meteorological data in 1895-2022 from the CSV file in DataFrame.After\n",
    "This data will need to be formatted for use.\n",
    "\n",
    "2. SEADORN Library Use for graphic\n",
    "Dataframe data in the form of a regression line that\n",
    "represents the schedule of change of selected indicators for the period 1895-2018\n",
    "years.\n",
    "\n",
    "3. Predict the data for 2019, 2020, 2021 and 2022.\n",
    "Indication: Linear_regression.slope corresponds to m, 2019 corresponds to X\n",
    "(the value for which the temperature is predicted) and\n",
    "Linear_regression.interception corresponds to b:\n",
    " \n",
    "4. Evaluate the formula that could be the indicators before 1895\n",
    "the year.For example, an average temperature estimate for January 1890\n",
    "May be obtained as follows:\n",
    " \n",
    "5. Use the Seaborn Regplot Library for\n",
    "output all data points;\n",
    "\n",
    "6. Perform an axis in from (an example from 10 to 70\n",
    "degrees):\n",
    "\n",
    "7. Compare the obtained forecast for 2019, 2020, 2021 and for\n",
    "2022 with data on NOAA \"Climate at A Glance\":\n",
    "https://www.ncdc.noaa.gov/cag/ and conclude."
   ]
  },
  {
   "cell_type": "code",
   "execution_count": 1,
   "metadata": {
    "ExecuteTime": {
     "end_time": "2023-05-12T20:02:17.000028900Z",
     "start_time": "2023-05-12T20:02:16.967012800Z"
    }
   },
   "outputs": [],
   "source": [
    "import pandas as pd\n",
    "import os\n",
    "import seaborn as sns\n",
    "from scipy import stats\n",
    "import matplotlib.pyplot as plt"
   ]
  },
  {
   "cell_type": "markdown",
   "metadata": {},
   "source": [
    "First we load the required data into the dataframe"
   ]
  },
  {
   "cell_type": "code",
   "execution_count": 2,
   "metadata": {
    "ExecuteTime": {
     "end_time": "2023-05-12T20:02:17.084201900Z",
     "start_time": "2023-05-12T20:02:16.979015500Z"
    }
   },
   "outputs": [
    {
     "data": {
      "text/html": [
       "<div>\n",
       "<style scoped>\n",
       "    .dataframe tbody tr th:only-of-type {\n",
       "        vertical-align: middle;\n",
       "    }\n",
       "\n",
       "    .dataframe tbody tr th {\n",
       "        vertical-align: top;\n",
       "    }\n",
       "\n",
       "    .dataframe thead th {\n",
       "        text-align: right;\n",
       "    }\n",
       "</style>\n",
       "<table border=\"1\" class=\"dataframe\">\n",
       "  <thead>\n",
       "    <tr style=\"text-align: right;\">\n",
       "      <th></th>\n",
       "      <th>Date</th>\n",
       "      <th>Value</th>\n",
       "      <th>Anomaly</th>\n",
       "    </tr>\n",
       "  </thead>\n",
       "  <tbody>\n",
       "    <tr>\n",
       "      <th>0</th>\n",
       "      <td>189501</td>\n",
       "      <td>28.9</td>\n",
       "      <td>-3.1</td>\n",
       "    </tr>\n",
       "    <tr>\n",
       "      <th>1</th>\n",
       "      <td>189601</td>\n",
       "      <td>28.5</td>\n",
       "      <td>-3.5</td>\n",
       "    </tr>\n",
       "    <tr>\n",
       "      <th>2</th>\n",
       "      <td>189701</td>\n",
       "      <td>29.3</td>\n",
       "      <td>-2.7</td>\n",
       "    </tr>\n",
       "    <tr>\n",
       "      <th>3</th>\n",
       "      <td>189801</td>\n",
       "      <td>33.9</td>\n",
       "      <td>1.9</td>\n",
       "    </tr>\n",
       "    <tr>\n",
       "      <th>4</th>\n",
       "      <td>189901</td>\n",
       "      <td>29.8</td>\n",
       "      <td>-2.2</td>\n",
       "    </tr>\n",
       "  </tbody>\n",
       "</table>\n",
       "</div>"
      ],
      "text/plain": [
       "     Date  Value  Anomaly\n",
       "0  189501   28.9     -3.1\n",
       "1  189601   28.5     -3.5\n",
       "2  189701   29.3     -2.7\n",
       "3  189801   33.9      1.9\n",
       "4  189901   29.8     -2.2"
      ]
     },
     "execution_count": 2,
     "metadata": {},
     "output_type": "execute_result"
    }
   ],
   "source": [
    "df=pd.read_csv(os.path.abspath(os.path.join(os.getcwd(), '1895-2023.csv')), skiprows=4)\n",
    "df.head()"
   ]
  },
  {
   "cell_type": "markdown",
   "metadata": {},
   "source": [
    "Cleaning the data:"
   ]
  },
  {
   "cell_type": "code",
   "execution_count": 3,
   "metadata": {
    "ExecuteTime": {
     "end_time": "2023-05-12T20:02:17.235185100Z",
     "start_time": "2023-05-12T20:02:17.072188900Z"
    }
   },
   "outputs": [
    {
     "data": {
      "text/html": [
       "<div>\n",
       "<style scoped>\n",
       "    .dataframe tbody tr th:only-of-type {\n",
       "        vertical-align: middle;\n",
       "    }\n",
       "\n",
       "    .dataframe tbody tr th {\n",
       "        vertical-align: top;\n",
       "    }\n",
       "\n",
       "    .dataframe thead th {\n",
       "        text-align: right;\n",
       "    }\n",
       "</style>\n",
       "<table border=\"1\" class=\"dataframe\">\n",
       "  <thead>\n",
       "    <tr style=\"text-align: right;\">\n",
       "      <th></th>\n",
       "      <th>Date</th>\n",
       "      <th>Value</th>\n",
       "      <th>Anomaly</th>\n",
       "    </tr>\n",
       "  </thead>\n",
       "  <tbody>\n",
       "    <tr>\n",
       "      <th>0</th>\n",
       "      <td>1895</td>\n",
       "      <td>28.9</td>\n",
       "      <td>-3.1</td>\n",
       "    </tr>\n",
       "    <tr>\n",
       "      <th>1</th>\n",
       "      <td>1896</td>\n",
       "      <td>28.5</td>\n",
       "      <td>-3.5</td>\n",
       "    </tr>\n",
       "    <tr>\n",
       "      <th>2</th>\n",
       "      <td>1897</td>\n",
       "      <td>29.3</td>\n",
       "      <td>-2.7</td>\n",
       "    </tr>\n",
       "    <tr>\n",
       "      <th>3</th>\n",
       "      <td>1898</td>\n",
       "      <td>33.9</td>\n",
       "      <td>1.9</td>\n",
       "    </tr>\n",
       "    <tr>\n",
       "      <th>4</th>\n",
       "      <td>1899</td>\n",
       "      <td>29.8</td>\n",
       "      <td>-2.2</td>\n",
       "    </tr>\n",
       "  </tbody>\n",
       "</table>\n",
       "</div>"
      ],
      "text/plain": [
       "   Date  Value  Anomaly\n",
       "0  1895   28.9     -3.1\n",
       "1  1896   28.5     -3.5\n",
       "2  1897   29.3     -2.7\n",
       "3  1898   33.9      1.9\n",
       "4  1899   29.8     -2.2"
      ]
     },
     "execution_count": 3,
     "metadata": {},
     "output_type": "execute_result"
    }
   ],
   "source": [
    "df.Date=df.Date//100\n",
    "df.head()"
   ]
  },
  {
   "cell_type": "markdown",
   "metadata": {},
   "source": [
    "First we graph only the regression line, that we have got from building the regression model. To draw a line we can join two points, y coordinates for which we can get from the regression equation."
   ]
  },
  {
   "cell_type": "code",
   "execution_count": 4,
   "metadata": {
    "ExecuteTime": {
     "end_time": "2023-05-12T20:02:17.882323400Z",
     "start_time": "2023-05-12T20:02:17.131194100Z"
    }
   },
   "outputs": [
    {
     "data": {
      "image/png": "[encoded data removed]",
      "text/plain": [
       "<Figure size 640x480 with 1 Axes>"
      ]
     },
     "metadata": {},
     "output_type": "display_data"
    }
   ],
   "source": [
    "linear_regression=stats.linregress(x=df.Date,y=df.Value)\n",
    "\n",
    "def get_y(x):\n",
    "    return linear_regression.slope*x+linear_regression.intercept\n",
    "\n",
    "x1,x2= 1895, 2023\n",
    "y1, y2 = get_y(x1), get_y(x2)\n",
    "\n",
    "plt.plot([x1, x2], [y1, y2])\n",
    "plt.show()"
   ]
  },
  {
   "cell_type": "markdown",
   "metadata": {},
   "source": [
    "To predict data for upcoming years we once again use the equation for regression line"
   ]
  },
  {
   "cell_type": "code",
   "execution_count": 5,
   "metadata": {
    "ExecuteTime": {
     "end_time": "2023-05-12T20:02:18.218348600Z",
     "start_time": "2023-05-12T20:02:17.883323700Z"
    }
   },
   "outputs": [
    {
     "name": "stdout",
     "output_type": "stream",
     "text": [
      "     Date  Value  Anomaly  prediction\n",
      "124  2019   32.6      0.6   33.639017\n",
      "125  2020   39.2      7.2   33.666851\n",
      "126  2021   34.8      2.8   33.694684\n",
      "127  2022   30.4     -1.6   33.722518\n",
      "128  2023   43.5     11.5   33.750352\n"
     ]
    }
   ],
   "source": [
    "df['prediction']=linear_regression.slope*df.Date+linear_regression.intercept\n",
    "print(df.query('Date>=2019'))"
   ]
  },
  {
   "cell_type": "markdown",
   "metadata": {},
   "source": [
    "Let's make an estimate for temperature in 1890"
   ]
  },
  {
   "cell_type": "code",
   "execution_count": 6,
   "metadata": {
    "ExecuteTime": {
     "end_time": "2023-05-12T20:02:18.269318900Z",
     "start_time": "2023-05-12T20:02:17.929321400Z"
    }
   },
   "outputs": [
    {
     "name": "stdout",
     "output_type": "stream",
     "text": [
      "30.048463960942165\n"
     ]
    }
   ],
   "source": [
    "pred_for_1890=get_y(1890)\n",
    "print(pred_for_1890)"
   ]
  },
  {
   "cell_type": "markdown",
   "metadata": {},
   "source": [
    "Now let's use the Seaborn Regplot Library for output all data points; In addition we limit our view on the y axis by given constraints of 10 and 70"
   ]
  },
  {
   "cell_type": "code",
   "execution_count": 7,
   "metadata": {
    "ExecuteTime": {
     "end_time": "2023-05-12T20:02:19.263816300Z",
     "start_time": "2023-05-12T20:02:17.950322500Z"
    }
   },
   "outputs": [
    {
     "data": {
      "text/plain": [
       "(10.0, 70.0)"
      ]
     },
     "execution_count": 7,
     "metadata": {},
     "output_type": "execute_result"
    },
    {
     "data": {
      "image/png": "[encoded data removed]",
      "text/plain": [
       "<Figure size 640x480 with 1 Axes>"
      ]
     },
     "metadata": {},
     "output_type": "display_data"
    }
   ],
   "source": [
    "# Filter the data for the desired period\n",
    "df_filtered = df[df['Date'].between(1895, 2018)]\n",
    "\n",
    "# Create a regression plot\n",
    "regression_plot = sns.regplot(x='Date', y='Value', data=df_filtered)\n",
    "#task for scaling y axis is under this comment, can be commented to obtain raw results.\n",
    "regression_plot.set_ylim(10,70)"
   ]
  }
 ],
 "metadata": {
  "kernelspec": {
   "display_name": "Python 3 (ipykernel)",
   "language": "python",
   "name": "python3"
  },
  "language_info": {
   "codemirror_mode": {
    "name": "ipython",
    "version": 3
   },
   "file_extension": ".py",
   "mimetype": "text/x-python",
   "name": "python",
   "nbconvert_exporter": "python",
   "pygments_lexer": "ipython3",
   "version": "3.9.13"
  }
 },
 "nbformat": 4,
 "nbformat_minor": 2
}
