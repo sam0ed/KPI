{
 "cells": [
  {
   "cell_type": "code",
   "execution_count": 2,
   "metadata": {},
   "outputs": [],
   "source": [
    "import pandas as pd\n",
    "import numpy as np"
   ]
  },
  {
   "cell_type": "code",
   "execution_count": 3,
   "metadata": {},
   "outputs": [],
   "source": [
    "cars = pd.read_csv(\"car_data.csv\", index_col=0)"
   ]
  },
  {
   "cell_type": "code",
   "execution_count": 4,
   "metadata": {},
   "outputs": [
    {
     "data": {
      "text/html": [
       "<div>\n",
       "<style scoped>\n",
       "    .dataframe tbody tr th:only-of-type {\n",
       "        vertical-align: middle;\n",
       "    }\n",
       "\n",
       "    .dataframe tbody tr th {\n",
       "        vertical-align: top;\n",
       "    }\n",
       "\n",
       "    .dataframe thead th {\n",
       "        text-align: right;\n",
       "    }\n",
       "</style>\n",
       "<table border=\"1\" class=\"dataframe\">\n",
       "  <thead>\n",
       "    <tr style=\"text-align: right;\">\n",
       "      <th></th>\n",
       "      <th>year</th>\n",
       "      <th>selling_price</th>\n",
       "      <th>km_driven</th>\n",
       "      <th>fuel</th>\n",
       "      <th>seller_type</th>\n",
       "      <th>transmission</th>\n",
       "      <th>owner</th>\n",
       "    </tr>\n",
       "    <tr>\n",
       "      <th>name</th>\n",
       "      <th></th>\n",
       "      <th></th>\n",
       "      <th></th>\n",
       "      <th></th>\n",
       "      <th></th>\n",
       "      <th></th>\n",
       "      <th></th>\n",
       "    </tr>\n",
       "  </thead>\n",
       "  <tbody>\n",
       "    <tr>\n",
       "      <th>Maruti 800 AC</th>\n",
       "      <td>2007</td>\n",
       "      <td>60000</td>\n",
       "      <td>70000</td>\n",
       "      <td>Petrol</td>\n",
       "      <td>Individual</td>\n",
       "      <td>Manual</td>\n",
       "      <td>First Owner</td>\n",
       "    </tr>\n",
       "    <tr>\n",
       "      <th>Maruti Wagon R LXI Minor</th>\n",
       "      <td>2007</td>\n",
       "      <td>135000</td>\n",
       "      <td>50000</td>\n",
       "      <td>Petrol</td>\n",
       "      <td>Individual</td>\n",
       "      <td>Manual</td>\n",
       "      <td>First Owner</td>\n",
       "    </tr>\n",
       "    <tr>\n",
       "      <th>Hyundai Verna 1.6 SX</th>\n",
       "      <td>2012</td>\n",
       "      <td>600000</td>\n",
       "      <td>100000</td>\n",
       "      <td>Diesel</td>\n",
       "      <td>Individual</td>\n",
       "      <td>Manual</td>\n",
       "      <td>First Owner</td>\n",
       "    </tr>\n",
       "    <tr>\n",
       "      <th>Datsun RediGO T Option</th>\n",
       "      <td>2017</td>\n",
       "      <td>250000</td>\n",
       "      <td>46000</td>\n",
       "      <td>Petrol</td>\n",
       "      <td>Individual</td>\n",
       "      <td>Manual</td>\n",
       "      <td>First Owner</td>\n",
       "    </tr>\n",
       "    <tr>\n",
       "      <th>Honda Amaze VX i-DTEC</th>\n",
       "      <td>2014</td>\n",
       "      <td>450000</td>\n",
       "      <td>141000</td>\n",
       "      <td>Diesel</td>\n",
       "      <td>Individual</td>\n",
       "      <td>Manual</td>\n",
       "      <td>Second Owner</td>\n",
       "    </tr>\n",
       "  </tbody>\n",
       "</table>\n",
       "</div>"
      ],
      "text/plain": [
       "                          year  selling_price  km_driven    fuel seller_type  \\\n",
       "name                                                                           \n",
       "Maruti 800 AC             2007          60000      70000  Petrol  Individual   \n",
       "Maruti Wagon R LXI Minor  2007         135000      50000  Petrol  Individual   \n",
       "Hyundai Verna 1.6 SX      2012         600000     100000  Diesel  Individual   \n",
       "Datsun RediGO T Option    2017         250000      46000  Petrol  Individual   \n",
       "Honda Amaze VX i-DTEC     2014         450000     141000  Diesel  Individual   \n",
       "\n",
       "                         transmission         owner  \n",
       "name                                                 \n",
       "Maruti 800 AC                  Manual   First Owner  \n",
       "Maruti Wagon R LXI Minor       Manual   First Owner  \n",
       "Hyundai Verna 1.6 SX           Manual   First Owner  \n",
       "Datsun RediGO T Option         Manual   First Owner  \n",
       "Honda Amaze VX i-DTEC          Manual  Second Owner  "
      ]
     },
     "execution_count": 4,
     "metadata": {},
     "output_type": "execute_result"
    }
   ],
   "source": [
    "cars.head()"
   ]
  },
  {
   "cell_type": "code",
   "execution_count": 5,
   "metadata": {},
   "outputs": [
    {
     "data": {
      "text/plain": [
       "count    4.340000e+03\n",
       "mean     5.041273e+05\n",
       "std      5.785487e+05\n",
       "min      2.000000e+04\n",
       "25%      2.087498e+05\n",
       "50%      3.500000e+05\n",
       "75%      6.000000e+05\n",
       "max      8.900000e+06\n",
       "Name: selling_price, dtype: float64"
      ]
     },
     "execution_count": 5,
     "metadata": {},
     "output_type": "execute_result"
    }
   ],
   "source": [
    "cars.selling_price.describe()"
   ]
  },
  {
   "cell_type": "code",
   "execution_count": 6,
   "metadata": {},
   "outputs": [
    {
     "data": {
      "text/plain": [
       "array([ 60000, 135000, 600000, 250000, 450000, 140000, 550000, 240000,\n",
       "       850000, 365000])"
      ]
     },
     "execution_count": 6,
     "metadata": {},
     "output_type": "execute_result"
    }
   ],
   "source": [
    "cars.selling_price.unique()[:10]"
   ]
  },
  {
   "cell_type": "code",
   "execution_count": 7,
   "metadata": {},
   "outputs": [
    {
     "data": {
      "text/plain": [
       "504127.3117511521"
      ]
     },
     "execution_count": 7,
     "metadata": {},
     "output_type": "execute_result"
    }
   ],
   "source": [
    "cars.selling_price.mean()"
   ]
  },
  {
   "cell_type": "code",
   "execution_count": 8,
   "metadata": {},
   "outputs": [
    {
     "data": {
      "text/plain": [
       "count       4340\n",
       "unique         5\n",
       "top       Diesel\n",
       "freq        2153\n",
       "Name: fuel, dtype: object"
      ]
     },
     "execution_count": 8,
     "metadata": {},
     "output_type": "execute_result"
    }
   ],
   "source": [
    "cars.fuel.describe()"
   ]
  },
  {
   "cell_type": "code",
   "execution_count": 9,
   "metadata": {},
   "outputs": [
    {
     "data": {
      "text/plain": [
       "array(['Petrol', 'Diesel', 'CNG', 'LPG', 'Electric'], dtype=object)"
      ]
     },
     "execution_count": 9,
     "metadata": {},
     "output_type": "execute_result"
    }
   ],
   "source": [
    "cars.fuel.unique()"
   ]
  },
  {
   "cell_type": "code",
   "execution_count": 11,
   "metadata": {},
   "outputs": [
    {
     "data": {
      "text/plain": [
       "name\n",
       "Maruti Swift Dzire VDI                     69\n",
       "Maruti Alto 800 LXI                        59\n",
       "Maruti Alto LXi                            47\n",
       "Maruti Alto LX                             35\n",
       "Hyundai EON Era Plus                       35\n",
       "                                           ..\n",
       "Hyundai Verna Transform CRDi VGT SX ABS     1\n",
       "Maruti S-Presso VXI Plus                    1\n",
       "Toyota Etios Liva 1.2 VX                    1\n",
       "Toyota Yaris G                              1\n",
       "Hyundai i20 Magna 1.4 CRDi                  1\n",
       "Name: count, Length: 1491, dtype: int64"
      ]
     },
     "execution_count": 11,
     "metadata": {},
     "output_type": "execute_result"
    }
   ],
   "source": [
    "cars.index.value_counts()"
   ]
  },
  {
   "cell_type": "code",
   "execution_count": 13,
   "metadata": {},
   "outputs": [
    {
     "data": {
      "text/plain": [
       "name\n",
       "Maruti 800 AC                         -444127.311751\n",
       "Maruti Wagon R LXI Minor              -369127.311751\n",
       "Hyundai Verna 1.6 SX                    95872.688249\n",
       "Datsun RediGO T Option                -254127.311751\n",
       "Honda Amaze VX i-DTEC                  -54127.311751\n",
       "                                           ...      \n",
       "Hyundai i20 Magna 1.4 CRDi (Diesel)    -94128.311751\n",
       "Hyundai i20 Magna 1.4 CRDi             -94128.311751\n",
       "Maruti 800 AC BSIII                   -394127.311751\n",
       "Hyundai Creta 1.6 CRDi SX Option       360872.688249\n",
       "Renault KWID RXT                      -279127.311751\n",
       "Name: selling_price, Length: 4340, dtype: float64"
      ]
     },
     "execution_count": 13,
     "metadata": {},
     "output_type": "execute_result"
    }
   ],
   "source": [
    "# center the selling price around 0\n",
    "cars_price_mean = cars.selling_price.mean()\n",
    "cars.selling_price.map(lambda x: x - cars_price_mean)"
   ]
  },
  {
   "cell_type": "code",
   "execution_count": 16,
   "metadata": {},
   "outputs": [
    {
     "data": {
      "text/html": [
       "<div>\n",
       "<style scoped>\n",
       "    .dataframe tbody tr th:only-of-type {\n",
       "        vertical-align: middle;\n",
       "    }\n",
       "\n",
       "    .dataframe tbody tr th {\n",
       "        vertical-align: top;\n",
       "    }\n",
       "\n",
       "    .dataframe thead th {\n",
       "        text-align: right;\n",
       "    }\n",
       "</style>\n",
       "<table border=\"1\" class=\"dataframe\">\n",
       "  <thead>\n",
       "    <tr style=\"text-align: right;\">\n",
       "      <th></th>\n",
       "      <th>year</th>\n",
       "      <th>selling_price</th>\n",
       "      <th>km_driven</th>\n",
       "      <th>fuel</th>\n",
       "      <th>seller_type</th>\n",
       "      <th>transmission</th>\n",
       "      <th>owner</th>\n",
       "    </tr>\n",
       "    <tr>\n",
       "      <th>name</th>\n",
       "      <th></th>\n",
       "      <th></th>\n",
       "      <th></th>\n",
       "      <th></th>\n",
       "      <th></th>\n",
       "      <th></th>\n",
       "      <th></th>\n",
       "    </tr>\n",
       "  </thead>\n",
       "  <tbody>\n",
       "    <tr>\n",
       "      <th>Maruti 800 AC</th>\n",
       "      <td>2007</td>\n",
       "      <td>-444127.311751</td>\n",
       "      <td>70700.0</td>\n",
       "      <td>Petrol</td>\n",
       "      <td>Individual</td>\n",
       "      <td>Manual</td>\n",
       "      <td>First Owner</td>\n",
       "    </tr>\n",
       "    <tr>\n",
       "      <th>Maruti Wagon R LXI Minor</th>\n",
       "      <td>2007</td>\n",
       "      <td>-369127.311751</td>\n",
       "      <td>50500.0</td>\n",
       "      <td>Petrol</td>\n",
       "      <td>Individual</td>\n",
       "      <td>Manual</td>\n",
       "      <td>First Owner</td>\n",
       "    </tr>\n",
       "    <tr>\n",
       "      <th>Hyundai Verna 1.6 SX</th>\n",
       "      <td>2012</td>\n",
       "      <td>95872.688249</td>\n",
       "      <td>101000.0</td>\n",
       "      <td>Diesel</td>\n",
       "      <td>Individual</td>\n",
       "      <td>Manual</td>\n",
       "      <td>First Owner</td>\n",
       "    </tr>\n",
       "    <tr>\n",
       "      <th>Datsun RediGO T Option</th>\n",
       "      <td>2017</td>\n",
       "      <td>-254127.311751</td>\n",
       "      <td>46460.0</td>\n",
       "      <td>Petrol</td>\n",
       "      <td>Individual</td>\n",
       "      <td>Manual</td>\n",
       "      <td>First Owner</td>\n",
       "    </tr>\n",
       "    <tr>\n",
       "      <th>Honda Amaze VX i-DTEC</th>\n",
       "      <td>2014</td>\n",
       "      <td>-54127.311751</td>\n",
       "      <td>142410.0</td>\n",
       "      <td>Diesel</td>\n",
       "      <td>Individual</td>\n",
       "      <td>Manual</td>\n",
       "      <td>Second Owner</td>\n",
       "    </tr>\n",
       "    <tr>\n",
       "      <th>...</th>\n",
       "      <td>...</td>\n",
       "      <td>...</td>\n",
       "      <td>...</td>\n",
       "      <td>...</td>\n",
       "      <td>...</td>\n",
       "      <td>...</td>\n",
       "      <td>...</td>\n",
       "    </tr>\n",
       "    <tr>\n",
       "      <th>Hyundai i20 Magna 1.4 CRDi (Diesel)</th>\n",
       "      <td>2014</td>\n",
       "      <td>-94128.311751</td>\n",
       "      <td>80800.0</td>\n",
       "      <td>Diesel</td>\n",
       "      <td>Individual</td>\n",
       "      <td>Manual</td>\n",
       "      <td>Second Owner</td>\n",
       "    </tr>\n",
       "    <tr>\n",
       "      <th>Hyundai i20 Magna 1.4 CRDi</th>\n",
       "      <td>2014</td>\n",
       "      <td>-94128.311751</td>\n",
       "      <td>80800.0</td>\n",
       "      <td>Diesel</td>\n",
       "      <td>Individual</td>\n",
       "      <td>Manual</td>\n",
       "      <td>Second Owner</td>\n",
       "    </tr>\n",
       "    <tr>\n",
       "      <th>Maruti 800 AC BSIII</th>\n",
       "      <td>2009</td>\n",
       "      <td>-394127.311751</td>\n",
       "      <td>83830.0</td>\n",
       "      <td>Petrol</td>\n",
       "      <td>Individual</td>\n",
       "      <td>Manual</td>\n",
       "      <td>Second Owner</td>\n",
       "    </tr>\n",
       "    <tr>\n",
       "      <th>Hyundai Creta 1.6 CRDi SX Option</th>\n",
       "      <td>2016</td>\n",
       "      <td>360872.688249</td>\n",
       "      <td>90900.0</td>\n",
       "      <td>Diesel</td>\n",
       "      <td>Individual</td>\n",
       "      <td>Manual</td>\n",
       "      <td>First Owner</td>\n",
       "    </tr>\n",
       "    <tr>\n",
       "      <th>Renault KWID RXT</th>\n",
       "      <td>2016</td>\n",
       "      <td>-279127.311751</td>\n",
       "      <td>40400.0</td>\n",
       "      <td>Petrol</td>\n",
       "      <td>Individual</td>\n",
       "      <td>Manual</td>\n",
       "      <td>First Owner</td>\n",
       "    </tr>\n",
       "  </tbody>\n",
       "</table>\n",
       "<p>4340 rows × 7 columns</p>\n",
       "</div>"
      ],
      "text/plain": [
       "                                     year  selling_price  km_driven    fuel  \\\n",
       "name                                                                          \n",
       "Maruti 800 AC                        2007 -444127.311751    70700.0  Petrol   \n",
       "Maruti Wagon R LXI Minor             2007 -369127.311751    50500.0  Petrol   \n",
       "Hyundai Verna 1.6 SX                 2012   95872.688249   101000.0  Diesel   \n",
       "Datsun RediGO T Option               2017 -254127.311751    46460.0  Petrol   \n",
       "Honda Amaze VX i-DTEC                2014  -54127.311751   142410.0  Diesel   \n",
       "...                                   ...            ...        ...     ...   \n",
       "Hyundai i20 Magna 1.4 CRDi (Diesel)  2014  -94128.311751    80800.0  Diesel   \n",
       "Hyundai i20 Magna 1.4 CRDi           2014  -94128.311751    80800.0  Diesel   \n",
       "Maruti 800 AC BSIII                  2009 -394127.311751    83830.0  Petrol   \n",
       "Hyundai Creta 1.6 CRDi SX Option     2016  360872.688249    90900.0  Diesel   \n",
       "Renault KWID RXT                     2016 -279127.311751    40400.0  Petrol   \n",
       "\n",
       "                                    seller_type transmission         owner  \n",
       "name                                                                        \n",
       "Maruti 800 AC                        Individual       Manual   First Owner  \n",
       "Maruti Wagon R LXI Minor             Individual       Manual   First Owner  \n",
       "Hyundai Verna 1.6 SX                 Individual       Manual   First Owner  \n",
       "Datsun RediGO T Option               Individual       Manual   First Owner  \n",
       "Honda Amaze VX i-DTEC                Individual       Manual  Second Owner  \n",
       "...                                         ...          ...           ...  \n",
       "Hyundai i20 Magna 1.4 CRDi (Diesel)  Individual       Manual  Second Owner  \n",
       "Hyundai i20 Magna 1.4 CRDi           Individual       Manual  Second Owner  \n",
       "Maruti 800 AC BSIII                  Individual       Manual  Second Owner  \n",
       "Hyundai Creta 1.6 CRDi SX Option     Individual       Manual   First Owner  \n",
       "Renault KWID RXT                     Individual       Manual   First Owner  \n",
       "\n",
       "[4340 rows x 7 columns]"
      ]
     },
     "execution_count": 16,
     "metadata": {},
     "output_type": "execute_result"
    }
   ],
   "source": [
    "def remean_points(row):\n",
    "    row.selling_price = row.selling_price - cars_price_mean\n",
    "    row.km_driven=row.km_driven+row.km_driven*0.01 # distance travelled to bring car to the buyer\n",
    "    return row\n",
    "\n",
    "cars.apply(remean_points, axis = 'columns')"
   ]
  },
  {
   "cell_type": "code",
   "execution_count": 17,
   "metadata": {},
   "outputs": [
    {
     "data": {
      "text/html": [
       "<div>\n",
       "<style scoped>\n",
       "    .dataframe tbody tr th:only-of-type {\n",
       "        vertical-align: middle;\n",
       "    }\n",
       "\n",
       "    .dataframe tbody tr th {\n",
       "        vertical-align: top;\n",
       "    }\n",
       "\n",
       "    .dataframe thead th {\n",
       "        text-align: right;\n",
       "    }\n",
       "</style>\n",
       "<table border=\"1\" class=\"dataframe\">\n",
       "  <thead>\n",
       "    <tr style=\"text-align: right;\">\n",
       "      <th></th>\n",
       "      <th>year</th>\n",
       "      <th>selling_price</th>\n",
       "      <th>km_driven</th>\n",
       "      <th>fuel</th>\n",
       "      <th>seller_type</th>\n",
       "      <th>transmission</th>\n",
       "      <th>owner</th>\n",
       "    </tr>\n",
       "    <tr>\n",
       "      <th>name</th>\n",
       "      <th></th>\n",
       "      <th></th>\n",
       "      <th></th>\n",
       "      <th></th>\n",
       "      <th></th>\n",
       "      <th></th>\n",
       "      <th></th>\n",
       "    </tr>\n",
       "  </thead>\n",
       "  <tbody>\n",
       "    <tr>\n",
       "      <th>Maruti 800 AC</th>\n",
       "      <td>2007</td>\n",
       "      <td>60000</td>\n",
       "      <td>70000</td>\n",
       "      <td>Petrol</td>\n",
       "      <td>Individual</td>\n",
       "      <td>Manual</td>\n",
       "      <td>First Owner</td>\n",
       "    </tr>\n",
       "    <tr>\n",
       "      <th>Maruti Wagon R LXI Minor</th>\n",
       "      <td>2007</td>\n",
       "      <td>135000</td>\n",
       "      <td>50000</td>\n",
       "      <td>Petrol</td>\n",
       "      <td>Individual</td>\n",
       "      <td>Manual</td>\n",
       "      <td>First Owner</td>\n",
       "    </tr>\n",
       "    <tr>\n",
       "      <th>Hyundai Verna 1.6 SX</th>\n",
       "      <td>2012</td>\n",
       "      <td>600000</td>\n",
       "      <td>100000</td>\n",
       "      <td>Diesel</td>\n",
       "      <td>Individual</td>\n",
       "      <td>Manual</td>\n",
       "      <td>First Owner</td>\n",
       "    </tr>\n",
       "    <tr>\n",
       "      <th>Datsun RediGO T Option</th>\n",
       "      <td>2017</td>\n",
       "      <td>250000</td>\n",
       "      <td>46000</td>\n",
       "      <td>Petrol</td>\n",
       "      <td>Individual</td>\n",
       "      <td>Manual</td>\n",
       "      <td>First Owner</td>\n",
       "    </tr>\n",
       "    <tr>\n",
       "      <th>Honda Amaze VX i-DTEC</th>\n",
       "      <td>2014</td>\n",
       "      <td>450000</td>\n",
       "      <td>141000</td>\n",
       "      <td>Diesel</td>\n",
       "      <td>Individual</td>\n",
       "      <td>Manual</td>\n",
       "      <td>Second Owner</td>\n",
       "    </tr>\n",
       "  </tbody>\n",
       "</table>\n",
       "</div>"
      ],
      "text/plain": [
       "                          year  selling_price  km_driven    fuel seller_type  \\\n",
       "name                                                                           \n",
       "Maruti 800 AC             2007          60000      70000  Petrol  Individual   \n",
       "Maruti Wagon R LXI Minor  2007         135000      50000  Petrol  Individual   \n",
       "Hyundai Verna 1.6 SX      2012         600000     100000  Diesel  Individual   \n",
       "Datsun RediGO T Option    2017         250000      46000  Petrol  Individual   \n",
       "Honda Amaze VX i-DTEC     2014         450000     141000  Diesel  Individual   \n",
       "\n",
       "                         transmission         owner  \n",
       "name                                                 \n",
       "Maruti 800 AC                  Manual   First Owner  \n",
       "Maruti Wagon R LXI Minor       Manual   First Owner  \n",
       "Hyundai Verna 1.6 SX           Manual   First Owner  \n",
       "Datsun RediGO T Option         Manual   First Owner  \n",
       "Honda Amaze VX i-DTEC          Manual  Second Owner  "
      ]
     },
     "execution_count": 17,
     "metadata": {},
     "output_type": "execute_result"
    }
   ],
   "source": [
    "#the original dataframe is unchanged\n",
    "cars.head()"
   ]
  },
  {
   "cell_type": "code",
   "execution_count": 18,
   "metadata": {},
   "outputs": [
    {
     "data": {
      "text/plain": [
       "name\n",
       "Maruti 800 AC                         -444127.311751\n",
       "Maruti Wagon R LXI Minor              -369127.311751\n",
       "Hyundai Verna 1.6 SX                    95872.688249\n",
       "Datsun RediGO T Option                -254127.311751\n",
       "Honda Amaze VX i-DTEC                  -54127.311751\n",
       "                                           ...      \n",
       "Hyundai i20 Magna 1.4 CRDi (Diesel)    -94128.311751\n",
       "Hyundai i20 Magna 1.4 CRDi             -94128.311751\n",
       "Maruti 800 AC BSIII                   -394127.311751\n",
       "Hyundai Creta 1.6 CRDi SX Option       360872.688249\n",
       "Renault KWID RXT                      -279127.311751\n",
       "Name: selling_price, Length: 4340, dtype: float64"
      ]
     },
     "execution_count": 18,
     "metadata": {},
     "output_type": "execute_result"
    }
   ],
   "source": [
    "# operation between two columns of the same length\n",
    "cars_price_mean = cars.selling_price.mean()\n",
    "cars.selling_price - cars_price_mean"
   ]
  },
  {
   "cell_type": "code",
   "execution_count": 19,
   "metadata": {},
   "outputs": [
    {
     "data": {
      "text/plain": [
       "name\n",
       "Maruti 800 AC                           First Owner - Individual\n",
       "Maruti Wagon R LXI Minor                First Owner - Individual\n",
       "Hyundai Verna 1.6 SX                    First Owner - Individual\n",
       "Datsun RediGO T Option                  First Owner - Individual\n",
       "Honda Amaze VX i-DTEC                  Second Owner - Individual\n",
       "                                                 ...            \n",
       "Hyundai i20 Magna 1.4 CRDi (Diesel)    Second Owner - Individual\n",
       "Hyundai i20 Magna 1.4 CRDi             Second Owner - Individual\n",
       "Maruti 800 AC BSIII                    Second Owner - Individual\n",
       "Hyundai Creta 1.6 CRDi SX Option        First Owner - Individual\n",
       "Renault KWID RXT                        First Owner - Individual\n",
       "Length: 4340, dtype: object"
      ]
     },
     "execution_count": 19,
     "metadata": {},
     "output_type": "execute_result"
    }
   ],
   "source": [
    "cars.owner + \" - \" + cars.seller_type"
   ]
  }
 ],
 "metadata": {
  "kernelspec": {
   "display_name": "main",
   "language": "python",
   "name": "python3"
  },
  "language_info": {
   "codemirror_mode": {
    "name": "ipython",
    "version": 3
   },
   "file_extension": ".py",
   "mimetype": "text/x-python",
   "name": "python",
   "nbconvert_exporter": "python",
   "pygments_lexer": "ipython3",
   "version": "3.12.5"
  }
 },
 "nbformat": 4,
 "nbformat_minor": 2
}
