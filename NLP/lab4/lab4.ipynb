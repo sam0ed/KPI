{
 "cells": [
  {
   "cell_type": "markdown",
   "metadata": {},
   "source": [
    "### Лабораторна робота №4, Обробка та аналіз текстових даних на Python, Варіант 14\n",
    "**Виконав**: студент групи ІП-11, Лошак Віктор Іванович<br>\n",
    "**Перевірив**: Юлія Тимофєєва Сергіївна<br>\n",
    "\n",
    "**Тема роботи**: Класифікація текстових даних<br>\n",
    "**Мета роботи**: Ознайомитись  з  класифікацією  документів  за  допомогою моделей машинного навчання\n",
    "\n",
    "16.03.2024"
   ]
  },
  {
   "cell_type": "markdown",
   "metadata": {},
   "source": [
    "**Завдання**:<br>\n",
    "В якості текстової моделі використати TF-IDF. Виконати класифікацію за допомогою алгоритмів наївний байєсів класифікатор та логістичну регресію, порівняти їх точність. Спробувати покращити моделі за допомогою  GridSearchCV.\n",
    "\n",
    "**Task**:<br>\n",
    "Use TF-IDF as the text model. Perform classification using the naive Bayesian classifier and logistic regression algorithms, compare their accuracy. Try to improve the models with GridSearchCV."
   ]
  },
  {
   "cell_type": "code",
   "execution_count": 3,
   "metadata": {},
   "outputs": [],
   "source": [
    "from sklearn.model_selection import train_test_split\n",
    "from sklearn.feature_extraction.text import TfidfVectorizer\n",
    "from sklearn.naive_bayes import MultinomialNB\n",
    "from sklearn.linear_model import LogisticRegression\n",
    "from sklearn.metrics import accuracy_score\n",
    "from sklearn.pipeline import Pipeline\n",
    "from sklearn.model_selection import GridSearchCV\n",
    "import pandas as pd"
   ]
  },
  {
   "cell_type": "code",
   "execution_count": 1,
   "metadata": {},
   "outputs": [
    {
     "data": {
      "text/html": [
       "<div>\n",
       "<style scoped>\n",
       "    .dataframe tbody tr th:only-of-type {\n",
       "        vertical-align: middle;\n",
       "    }\n",
       "\n",
       "    .dataframe tbody tr th {\n",
       "        vertical-align: top;\n",
       "    }\n",
       "\n",
       "    .dataframe thead th {\n",
       "        text-align: right;\n",
       "    }\n",
       "</style>\n",
       "<table border=\"1\" class=\"dataframe\">\n",
       "  <thead>\n",
       "    <tr style=\"text-align: right;\">\n",
       "      <th></th>\n",
       "      <th>Id</th>\n",
       "      <th>Comment</th>\n",
       "      <th>Topic</th>\n",
       "    </tr>\n",
       "  </thead>\n",
       "  <tbody>\n",
       "    <tr>\n",
       "      <th>0</th>\n",
       "      <td>0x840</td>\n",
       "      <td>A few things. You might have negative- frequen...</td>\n",
       "      <td>Biology</td>\n",
       "    </tr>\n",
       "    <tr>\n",
       "      <th>1</th>\n",
       "      <td>0xbf0</td>\n",
       "      <td>Is it so hard to believe that there exist part...</td>\n",
       "      <td>Physics</td>\n",
       "    </tr>\n",
       "    <tr>\n",
       "      <th>2</th>\n",
       "      <td>0x1dfc</td>\n",
       "      <td>There are bees</td>\n",
       "      <td>Biology</td>\n",
       "    </tr>\n",
       "    <tr>\n",
       "      <th>3</th>\n",
       "      <td>0xc7e</td>\n",
       "      <td>I'm a medication technician. And that's alot o...</td>\n",
       "      <td>Biology</td>\n",
       "    </tr>\n",
       "    <tr>\n",
       "      <th>4</th>\n",
       "      <td>0xbba</td>\n",
       "      <td>Cesium is such a pretty metal.</td>\n",
       "      <td>Chemistry</td>\n",
       "    </tr>\n",
       "  </tbody>\n",
       "</table>\n",
       "</div>"
      ],
      "text/plain": [
       "       Id                                            Comment      Topic\n",
       "0   0x840  A few things. You might have negative- frequen...    Biology\n",
       "1   0xbf0  Is it so hard to believe that there exist part...    Physics\n",
       "2  0x1dfc                                     There are bees    Biology\n",
       "3   0xc7e  I'm a medication technician. And that's alot o...    Biology\n",
       "4   0xbba                     Cesium is such a pretty metal.  Chemistry"
      ]
     },
     "execution_count": 1,
     "metadata": {},
     "output_type": "execute_result"
    }
   ],
   "source": [
    "data = pd.read_csv('science.csv')\n",
    "data.head()"
   ]
  },
  {
   "cell_type": "code",
   "execution_count": 9,
   "metadata": {},
   "outputs": [
    {
     "data": {
      "text/plain": [
       "(0.7201993100804907, 0.7041011881947106)"
      ]
     },
     "execution_count": 9,
     "metadata": {},
     "output_type": "execute_result"
    }
   ],
   "source": [
    "X_train, X_test, y_train, y_test = train_test_split(data['Comment'], data['Topic'], test_size=0.3, random_state=42)\n",
    "\n",
    "tfidf_vectorizer = TfidfVectorizer(stop_words='english', max_df=0.7)\n",
    "X_train_tfidf = tfidf_vectorizer.fit_transform(X_train)\n",
    "X_test_tfidf = tfidf_vectorizer.transform(X_test)\n",
    "\n",
    "nb_classifier = MultinomialNB()\n",
    "nb_classifier.fit(X_train_tfidf, y_train)\n",
    "nb_pred = nb_classifier.predict(X_test_tfidf)\n",
    "nb_accuracy = accuracy_score(y_test, nb_pred)\n",
    "\n",
    "lr_classifier = LogisticRegression(random_state=42, max_iter=1000)\n",
    "lr_classifier.fit(X_train_tfidf, y_train)\n",
    "lr_pred = lr_classifier.predict(X_test_tfidf)\n",
    "lr_accuracy = accuracy_score(y_test, lr_pred)\n",
    "\n",
    "nb_accuracy, lr_accuracy"
   ]
  },
  {
   "cell_type": "markdown",
   "metadata": {},
   "source": [
    "Використаємо grid search для підбору параметрів."
   ]
  },
  {
   "cell_type": "code",
   "execution_count": 7,
   "metadata": {},
   "outputs": [
    {
     "data": {
      "text/plain": [
       "(0.7122901749031577,\n",
       " {'nb__alpha': 0.2, 'tfidf__max_df': 0.3, 'tfidf__ngram_range': (1, 1)})"
      ]
     },
     "execution_count": 7,
     "metadata": {},
     "output_type": "execute_result"
    }
   ],
   "source": [
    "nb_pipeline = Pipeline([\n",
    "    ('tfidf', TfidfVectorizer(stop_words='english')),\n",
    "    ('nb', MultinomialNB())\n",
    "])\n",
    "nb_params = {\n",
    "    'tfidf__max_df': (0.3, 0.4, 0.5),\n",
    "    'tfidf__ngram_range': [(1, 1), (1, 2), (1,3)],  # unigrams or bigrams\n",
    "    'nb__alpha': (0.1, 0.15, 0.2)\n",
    "}\n",
    "\n",
    "grid_nb = GridSearchCV(nb_pipeline, nb_params, cv=5, scoring='accuracy')\n",
    "grid_nb.fit(X_train, y_train)\n",
    "\n",
    "nb_best_score = grid_nb.best_score_\n",
    "nb_best_params = grid_nb.best_params_\n",
    "nb_best_score, nb_best_params"
   ]
  },
  {
   "cell_type": "code",
   "execution_count": 8,
   "metadata": {},
   "outputs": [
    {
     "data": {
      "text/plain": [
       "(0.689124107977705,\n",
       " {'lr__C': 30, 'tfidf__max_df': 0.3, 'tfidf__ngram_range': (1, 2)})"
      ]
     },
     "execution_count": 8,
     "metadata": {},
     "output_type": "execute_result"
    }
   ],
   "source": [
    "lr_pipeline = Pipeline([\n",
    "    ('tfidf', TfidfVectorizer(stop_words='english')),\n",
    "    ('lr', LogisticRegression(random_state=42, max_iter=300))\n",
    "])\n",
    "lr_params = {\n",
    "    'tfidf__max_df': (0.3, 0.4, 0.5),\n",
    "    'tfidf__ngram_range': [(1, 2), (1,3)],\n",
    "    'lr__C': (10, 20, 30)\n",
    "}\n",
    "\n",
    "grid_lr = GridSearchCV(lr_pipeline, lr_params, cv=5, scoring='accuracy')\n",
    "grid_lr.fit(X_train, y_train)\n",
    "\n",
    "lr_best_score = grid_lr.best_score_\n",
    "lr_best_params = grid_lr.best_params_\n",
    "lr_best_score, lr_best_params\n"
   ]
  },
  {
   "cell_type": "markdown",
   "metadata": {},
   "source": [
    "Використаємо параметри знайдені за допомогою Grid search. "
   ]
  },
  {
   "cell_type": "code",
   "execution_count": 12,
   "metadata": {},
   "outputs": [
    {
     "name": "stdout",
     "output_type": "stream",
     "text": [
      "Naive Bayes Accuracy: 0.745879647374473\n",
      "Logistic Regression Accuracy: 0.7167497125335378\n"
     ]
    }
   ],
   "source": [
    "best_nb_model = grid_nb.best_estimator_\n",
    "nb_predictions = best_nb_model.predict(X_test)\n",
    "\n",
    "best_lr_model = grid_lr.best_estimator_\n",
    "lr_predictions = best_lr_model.predict(X_test)\n",
    "\n",
    "nb_accuracy = accuracy_score(y_test, nb_predictions)\n",
    "lr_accuracy = accuracy_score(y_test, lr_predictions)\n",
    "\n",
    "print(\"Naive Bayes Accuracy:\", nb_accuracy)\n",
    "print(\"Logistic Regression Accuracy:\", lr_accuracy)"
   ]
  },
  {
   "cell_type": "markdown",
   "metadata": {},
   "source": [
    "Отримані параметри надають більшу точність класифікації ніж значення за замовчуванням для обох класифікаторів."
   ]
  },
  {
   "cell_type": "markdown",
   "metadata": {},
   "source": [
    "### Висновок:\n",
    "В ході виконання даної лабораторної роботи я ознайомився з процесом класифікації текстових даних за допомогою алгоритмів машинного навчання. Була використана модель TF-IDF для перетворення текстових даних у векторний формат, що є необхідним для роботи з алгоритмами класифікації. Для аналізу ефективності класифікації були обрані два алгоритми: наївний байєсів класифікатор та логістична регресія.\n",
    "\n",
    "Початкове порівняння показало, що обидва алгоритми мають схожу точність класифікації, але завдяки застосуванню GridSearchCV для оптимізації гіперпараметрів вдалося значно покращити результати. GridSearchCV дозволило автоматично підібрати найкращі параметри для кожного з алгоритмів, що сприяло підвищенню точності класифікації.\n",
    "\n",
    "На підставі отриманих результатів можна зробити висновок, що правильний підбір гіперпараметрів і використання оптимізаційних інструментів, таких як GridSearchCV, відіграють ключову роль у підвищенні ефективності моделей машинного навчання. Отримані знання та навички можуть бути застосовані для вирішення реальних задач аналізу та класифікації текстових даних."
   ]
  }
 ],
 "metadata": {
  "kernelspec": {
   "display_name": "pip_env",
   "language": "python",
   "name": "python3"
  },
  "language_info": {
   "codemirror_mode": {
    "name": "ipython",
    "version": 3
   },
   "file_extension": ".py",
   "mimetype": "text/x-python",
   "name": "python",
   "nbconvert_exporter": "python",
   "pygments_lexer": "ipython3",
   "version": "3.11.5"
  }
 },
 "nbformat": 4,
 "nbformat_minor": 2
}
